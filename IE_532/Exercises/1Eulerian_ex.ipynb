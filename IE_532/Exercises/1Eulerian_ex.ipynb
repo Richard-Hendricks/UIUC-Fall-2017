{
 "cells": [
  {
   "cell_type": "markdown",
   "metadata": {},
   "source": [
    "# Eulerian cycles "
   ]
  },
  {
   "cell_type": "markdown",
   "metadata": {},
   "source": [
    "For the Koenigsberg example, the following are three representations of the multi-graph we saw in class.\n"
   ]
  },
  {
   "cell_type": "code",
   "execution_count": 2,
   "metadata": {
    "collapsed": true
   },
   "outputs": [],
   "source": [
    "import numpy as np\n",
    "\n",
    "Adjacency = np.matrix('0 0 2 1; 0 0 2 1; 2 2 0 1; 1 1 1 0')\n",
    "Incidence = np.matrix('1 0 1 0; 1 0 1 0; 1 0 0 1; 0 1 1 0; 0 1 1 0;0 1 0 1; 0 0 1 1')\n",
    "List = [(1,3),(1,3),(1,4),(2,3),(2,3),(2,4),(3,4)]"
   ]
  },
  {
   "cell_type": "markdown",
   "metadata": {},
   "source": [
    "One simple exercise to get the adjacency matrix from an incidence matrix is matrix multiplication:\n",
    "\n",
    "$$A = I^TI - D$$"
   ]
  },
  {
   "cell_type": "code",
   "execution_count": 5,
   "metadata": {},
   "outputs": [
    {
     "data": {
      "text/plain": [
       "array([ 3.,  3.,  5.,  3.])"
      ]
     },
     "execution_count": 5,
     "metadata": {},
     "output_type": "execute_result"
    }
   ],
   "source": [
    "np.diag(D)"
   ]
  },
  {
   "cell_type": "code",
   "execution_count": 4,
   "metadata": {},
   "outputs": [
    {
     "name": "stdout",
     "output_type": "stream",
     "text": [
      "degrees = \n",
      " [[ 3.  3.  5.  3.]]\n",
      "D = \n",
      " [[ 3.  0.  0.  0.]\n",
      " [ 0.  3.  0.  0.]\n",
      " [ 0.  0.  5.  0.]\n",
      " [ 0.  0.  0.  3.]]\n",
      "Original Adjacency =\n",
      " [[0 0 2 1]\n",
      " [0 0 2 1]\n",
      " [2 2 0 1]\n",
      " [1 1 1 0]]\n",
      "New Adjacency =\n",
      " [[ 0.  0.  2.  1.]\n",
      " [ 0.  0.  2.  1.]\n",
      " [ 2.  2.  0.  1.]\n",
      " [ 1.  1.  1.  0.]]\n"
     ]
    }
   ],
   "source": [
    "# compute a diagonal matrix of the degrees\n",
    "D = Adjacency*np.ones((4,1))\n",
    "print('degrees = \\n',D.T)\n",
    "D, = np.array(D.T)\n",
    "D = np.diag(D) # list diagonal elements as an array\n",
    "print('D = \\n',D)\n",
    "Adjacency_new = Incidence.T*Incidence - D\n",
    "print('Original Adjacency =\\n',Adjacency)\n",
    "print('New Adjacency =\\n',Adjacency_new)"
   ]
  },
  {
   "cell_type": "markdown",
   "metadata": {},
   "source": [
    "It is often convenient to store and operate on graphs using a library NetworkX \n",
    "(tutorials and references on the library can be found at https://networkx.readthedocs.io/en/stable/).\n",
    "\n",
    "Install NetworkX (https://networkx.readthedocs.io/en/stable/install.html#quick-install).\n",
    "\n",
    "It comes with a rich set of functions over graphs that will be useful to us throughout this course, for example **determining if the graph is  *connected*, finding the *degree distribution*, finding the *degree* of all nodes, or even determining if the graph has an *Eulerian cycle* or not** (which was the initial interest in the Koenigsberg bridge problem). "
   ]
  },
  {
   "cell_type": "code",
   "execution_count": 8,
   "metadata": {
    "scrolled": true
   },
   "outputs": [
    {
     "name": "stdout",
     "output_type": "stream",
     "text": [
      "is G connected? True\n",
      "sorted list of degrees [3, 3, 3, 5]\n",
      "degree of nodes {1: 3, 3: 5, 4: 3, 2: 3}\n",
      "is G Eulerian? False\n"
     ]
    }
   ],
   "source": [
    "import networkx as nx\n",
    "\n",
    "G = nx.MultiGraph()\n",
    "G.add_edges_from(List)\n",
    "print('is G connected?',nx.is_connected(G))\n",
    "print('sorted list of degrees',sorted(nx.degree(G).values()))\n",
    "print('degree of nodes',nx.degree(G))\n",
    "print('is G Eulerian?',nx.is_eulerian(G))"
   ]
  },
  {
   "cell_type": "markdown",
   "metadata": {},
   "source": [
    "we can plot graphs using the following functions. Note that there are multiple ways to draw the same graph (depending on which layout one prefers and also depending on what random seed was used). "
   ]
  },
  {
   "cell_type": "code",
   "execution_count": 9,
   "metadata": {
    "collapsed": true
   },
   "outputs": [],
   "source": [
    "import warnings\n",
    "warnings.filterwarnings('ignore')"
   ]
  },
  {
   "cell_type": "code",
   "execution_count": 10,
   "metadata": {},
   "outputs": [
    {
     "data": {
      "image/png": "[encoded data removed]",
      "text/plain": [
       "<matplotlib.figure.Figure at 0x111b1c438>"
      ]
     },
     "metadata": {},
     "output_type": "display_data"
    },
    {
     "data": {
      "image/png": "[encoded data removed]",
      "text/plain": [
       "<matplotlib.figure.Figure at 0x1137bbfd0>"
      ]
     },
     "metadata": {},
     "output_type": "display_data"
    },
    {
     "data": {
      "image/png": "[encoded data removed]",
      "text/plain": [
       "<matplotlib.figure.Figure at 0x1138e3be0>"
      ]
     },
     "metadata": {},
     "output_type": "display_data"
    }
   ],
   "source": [
    "import matplotlib.pyplot as plt\n",
    "%matplotlib inline \n",
    "\n",
    "nx.draw(G)\n",
    "plt.show()\n",
    "nx.draw_circular(G)\n",
    "plt.show()\n",
    "nx.draw_spectral(G)\n",
    "plt.show()"
   ]
  },
  {
   "cell_type": "markdown",
   "metadata": {},
   "source": [
    "### Q1. for the DNA sequencing exaxmple, write your own code for generating the directed graph we learned in class, so that you can find a DNA sequences using Eulerian cycle algorithm\n",
    "\n",
    "In the example from the class, we have the following sub-sequences sampled from a single sequence of nucleotides."
   ]
  },
  {
   "cell_type": "code",
   "execution_count": 11,
   "metadata": {
    "collapsed": true
   },
   "outputs": [],
   "source": [
    "subsequence = ['ATG', 'TGG', 'TGC', 'GTG', 'GGC', 'GCA', 'GCG', 'CGT']"
   ]
  },
  {
   "cell_type": "markdown",
   "metadata": {},
   "source": [
    "Write a code below that generates and plots the graph $G$ defined from the subsequences above. Namely, for a length $k$ subsequnce (in which case we have $k=3$ in the above example), take the first $k-1$ nucleotides and assign a node to each **unique** length-$(k-1)$ subsequence. Also take the last $k-1$ nucleotides and assign a node to each **unique** length-$(k-1)$ subsequence. Add a directed edge for each subsequence in the samples, i.e. for the subsequence 'ATG', add an edge from node 'AT' to 'TG'."
   ]
  },
  {
   "cell_type": "code",
   "execution_count": 13,
   "metadata": {},
   "outputs": [
    {
     "data": {
      "text/plain": [
       "[('AT', 'TG'),\n",
       " ('TG', 'GG'),\n",
       " ('TG', 'GC'),\n",
       " ('GG', 'GC'),\n",
       " ('GG', 'GG'),\n",
       " ('GC', 'CA'),\n",
       " ('GC', 'CG'),\n",
       " ('GT', 'TG'),\n",
       " ('CG', 'GT'),\n",
       " ('CG', 'GC'),\n",
       " ('AG', 'GC')]"
      ]
     },
     "execution_count": 13,
     "metadata": {},
     "output_type": "execute_result"
    }
   ],
   "source": [
    "import numpy as np\n",
    "import networkx as nx\n",
    "import matplotlib.pyplot as plt\n",
    "\n",
    "G = nx.DiGraph()\n",
    "k = 3\n",
    "first_nodes = np.unique([i[: k-1] for i in subsequence])\n",
    "last_nodes = np.unique([i[1: ] for i in subsequence])\n",
    "\n",
    "for i in subsequence:\n",
    "    G.add_edges_from([(i[: k-1], i[1: ])])\n",
    "    \n",
    "for i in range(len(subsequence) - 1):\n",
    "    G.add_edges_from([(subsequence[i][2] + subsequence[i + 1][0], subsequence[i + 1][:2])])\n",
    "    \n",
    "G.edges()"
   ]
  },
  {
   "cell_type": "code",
   "execution_count": 124,
   "metadata": {},
   "outputs": [
    {
     "data": {
      "image/png": "[encoded data removed]",
      "text/plain": [
       "<matplotlib.figure.Figure at 0x114108048>"
      ]
     },
     "metadata": {},
     "output_type": "display_data"
    }
   ],
   "source": [
    "import numpy as np\n",
    "import networkx as nx\n",
    "import matplotlib.pyplot as plt\n",
    "\n",
    "G = nx.DiGraph()\n",
    "k = 3\n",
    "def subsequences_to_graph(subsequences):\n",
    "    import networkx as nx\n",
    "    G = nx.DiGraph()\n",
    "    \n",
    "# ------ YOUR CODE HERE that generates the graph ------------\n",
    "    \n",
    "    for i in subsequence:\n",
    "        G.add_edges_from([(i[: k-1], i[1: ])])\n",
    "\n",
    "# ------------------------------------------------------------\n",
    "    return G\n",
    "\n",
    "G = subsequences_to_graph(subsequence) \n",
    "nx.draw_networkx(G,arrows=True,with_labels=True)\n",
    "plt.show()"
   ]
  },
  {
   "cell_type": "markdown",
   "metadata": {},
   "source": [
    "Write a code that finds one of many possible **Eulerian paths** in the given graph.\n",
    "\n",
    "Note that in order to use the built in nx.eulerian_circuit(G,start_node) function, you need to first identify the start and end of the sequence and add a pseudo directed edge from the node in the end-of-sequence to the start-of-sequence.\n",
    "\n",
    "Output one complete sequence that is consistent with the samples we have seen in the list subsequences."
   ]
  },
  {
   "cell_type": "code",
   "execution_count": 57,
   "metadata": {},
   "outputs": [
    {
     "data": {
      "text/plain": [
       "[('AT', 'TG'),\n",
       " ('TG', 'GG'),\n",
       " ('GG', 'GC'),\n",
       " ('GC', 'CG'),\n",
       " ('CG', 'GT'),\n",
       " ('GT', 'TG'),\n",
       " ('TG', 'GC'),\n",
       " ('GC', 'CA'),\n",
       " ('CA', 'AT')]"
      ]
     },
     "execution_count": 57,
     "metadata": {},
     "output_type": "execute_result"
    }
   ],
   "source": [
    "# ------ YOUR CODE HERE that finds a DNA sequence\n",
    "\n",
    "G = subsequences_to_graph(subsequence) \n",
    "\n",
    "# start and end nodes of sequence\n",
    "start_node = next(key for key, value in G.in_degree().items() if value == 0)\n",
    "end_node = next(key for key, value in G.out_degree().items() if value == 0)\n",
    "\n",
    "# add pseudo directed edge \n",
    "G.add_edge(end_node, start_node)\n",
    "\n",
    "# Find one Eulerian path\n",
    "list(nx.eulerian_circuit(G, source = start_node))"
   ]
  },
  {
   "cell_type": "markdown",
   "metadata": {},
   "source": [
    "Note that the last edge 'CA' to 'AT' is an artificial edge added by us to force the graph to have a Eulerian cycle (and removing it finds the Eulerian Path)"
   ]
  },
  {
   "cell_type": "markdown",
   "metadata": {},
   "source": [
    "### Q2. we will explore in ths example how the length of the sub-sequence $k$ and the length of the whole DNA sequence $n$ determine the existence of a **unique** Eulerian path\n",
    "\n",
    "We can get an approximate estimate of the probability of success, where success means success in identifying the true sequence which happens if there is a **unique** Eulerian path in the induced graph $G$. \n",
    "Consider two random sub-sequences of length $(k-1)$ denoted by $x_1$ and $x_2$. The probability they are exactly the same is \n",
    "\n",
    "$$P(x_1=x_2) = (1/4)^{(k-1)}$$\n",
    "\n",
    "There are $(n-k+2)$ sub-sequences of length $(k-1)$ in a DNA sequence of length $n$. \n",
    "We are interested in the probability that all of those sub-sequences are **distinct** (different from each other), which implies that the proposed sequencing algorithm based on Eulerian path is successful. Hence, \n",
    "\n",
    "$$P(\\text{Eulerian path sequencing algorithm is successful}) = P(\\text{all sub-sequences are distinct})$$\n",
    "\n",
    "Estimating this probability is not easy as \n",
    "the sub-sequences are not independent (in particular a two immediate neighbors share $k-2$ nucleotides). \n",
    "One way to approximate this probability is by assuming independence. \n",
    "Suppose (non-rigorously) for now that the event of a pair being different is **independent** of the event that two other pairs are different. Then, the above probability can be immediately computed as \n",
    "\n",
    "\\begin{eqnarray}\n",
    " P(\\text{all sub-sequences are distinct}) &\\simeq& \n",
    " P(x_1\\neq x_2)^{(n-k+2)(n-k+1)/2} \\\\\n",
    " &=& (1-(1/4)^{(k-1)})^{(n-k+2)(n-k+1)/2}\n",
    "\\end{eqnarray}\n",
    "\n",
    "where $(n-k+2)(n-k+1)/2$ is the total number of pairs of sub-sequences we have to compare. \n",
    "For one example of $n=50$ length sequence for $k\\in\\{4,5,6,7,8,9,10\\}$, this probability of success is shown below."
   ]
  },
  {
   "cell_type": "code",
   "execution_count": 73,
   "metadata": {
    "scrolled": true
   },
   "outputs": [
    {
     "data": {
      "image/png": "[encoded data removed]",
      "text/plain": [
       "<matplotlib.figure.Figure at 0x113c44668>"
      ]
     },
     "metadata": {},
     "output_type": "display_data"
    }
   ],
   "source": [
    "import matplotlib.pyplot as plt\n",
    "import numpy as np\n",
    "\n",
    "# ---------- WRITE YOUR CODE for drawing this figure\n",
    "\n",
    "# Calculations\n",
    "n = 50\n",
    "K = np.arange(4, 10, 0.01)\n",
    "P = (1- (1 / 4)**(K-1))**((n-K+2)*(n-K+1)/2)\n",
    "\n",
    "# Display the graph\n",
    "plt.plot(K, P, label = \"Theoretical Estimate\")\n",
    "plt.xlabel('subsequence length k')\n",
    "plt.ylabel('P(success)')\n",
    "plt.title('n = 50 length DNA sequencing')\n",
    "plt.legend(loc = \"lower right\")\n",
    "plt.grid(True)\n",
    "plt.show()\n",
    "\n",
    "# --------------------------------------------------"
   ]
  },
  {
   "cell_type": "markdown",
   "metadata": {},
   "source": [
    "It is expected that the probability is monotonic in $k$ as larger $k$ implies that two sub-sequences are unlikely to be the same. \n",
    "\n",
    "Another way of getting an approximation of the success probability is using **union bound**. \n",
    "\n",
    "\\begin{eqnarray}\n",
    " P(\\text{success}) &=&\n",
    " 1-P(\\text{there exist two sequences that are the same}) \\\\\n",
    " &\\geq& \n",
    " 1- \\frac{(n-k+2)(n-k+1)}{2} \\times P(x_1= x_2) \\\\\n",
    " &=& 1- \\frac{(n-k+2)(n-k+1)}{2} (1/4)^{(k-1)}\n",
    "\\end{eqnarray}\n",
    "\n",
    "Two approximations together is shown below:"
   ]
  },
  {
   "cell_type": "code",
   "execution_count": 75,
   "metadata": {},
   "outputs": [
    {
     "data": {
      "image/png": "[encoded data removed]",
      "text/plain": [
       "<matplotlib.figure.Figure at 0x113df3a90>"
      ]
     },
     "metadata": {},
     "output_type": "display_data"
    }
   ],
   "source": [
    "import matplotlib.pyplot as plt\n",
    "import numpy as np\n",
    "\n",
    "# ---------- WRITE YOUR CODE for drawing this figure\n",
    "\n",
    "# Calculations\n",
    "n = 50\n",
    "K1 = np.arange(4, 10, 0.01)\n",
    "K2 = np.arange(6, 10, 0.01)\n",
    "P1 = (1- (1 / 4)**(K1-1))**((n-K1+2)*(n-K1+1)/2)\n",
    "P2 = 1 - ((n-K2+2) * (n-K2+1) / 2) * (1/4) ** (K2 - 1)\n",
    "\n",
    "# Display the graph\n",
    "fig, ax = plt.subplots()\n",
    "\n",
    "plt.plot(K1, P1, label = \"Theoretical Estimate\")\n",
    "plt.plot(K2, P2, label = \"Theoretical Lower Bound\")\n",
    "\n",
    "plt.xlabel('subsequence length k')\n",
    "plt.ylabel('P(success)')\n",
    "plt.title('n = 50 length DNA sequencing')\n",
    "plt.legend(loc = \"lower right\")\n",
    "plt.grid(True)\n",
    "plt.show()\n",
    "\n",
    "# --------------------------------------------------"
   ]
  },
  {
   "cell_type": "markdown",
   "metadata": {},
   "source": [
    "We are now going to simulate DNA sequencing as follows. First for a given length of DNA, say $n=50$, generate a random sequence of $\\{A,C,G,T\\}$ of length $n$ where each nucleotide is chosen independently and with probability 1/4. Once a DNA sequence is generated, sample $n-k+1$ sub-sequences by taking length-$k$  subsequences of the DNA from position $i$ to position $i+k-1$ for $i\\in\\{0,1,\\ldots,n-k\\}$. Store these subsequnces in a list and call the function *subsequences_to_graph()* you wrote a bove to get a graph $G$.\n",
    "\n",
    "Check if there is a unique Eulerian path in this graph by counting the maximum indegree of a node in this directed graph. Increase the number of errors by one if this DNA sequence has multiple Eulerian cycles. \n",
    "\n",
    "Repeat this for $N$ independent sample DNA sequences, for given $n$ and $k$, and return the average probability of success.\n"
   ]
  },
  {
   "cell_type": "code",
   "execution_count": 164,
   "metadata": {},
   "outputs": [],
   "source": [
    "s = ''.join(list(np.random.choice([\"A\", \"C\", \"G\", \"T\"], 50, \n",
    "                            p = [0.25, 0.25, 0.25, 0.25])))\n",
    "sub_list = []\n",
    "\n",
    "for i in range(50 - 7 + 1):\n",
    "    sub_list.append(s[i: i + 7])\n",
    "\n",
    "k = 7\n",
    "G = nx.DiGraph()\n",
    "    \n",
    "for i in sub_list:\n",
    "    G.add_edges_from([(i[: k-1], i[1: ])])\n",
    "\n",
    "\n",
    "#G.in_degree().values()\n",
    "#list(G.in_degree().values()).count(max(G.in_degree().values())) % 2 == 0\n",
    "\n",
    "\n",
    "\n",
    "\n",
    "\n"
   ]
  },
  {
   "cell_type": "code",
   "execution_count": 165,
   "metadata": {},
   "outputs": [
    {
     "data": {
      "text/plain": [
       "dict_values([0, 1, 1, 1, 1, 1, 1, 1, 1, 1, 1, 1, 1, 1, 1, 1, 1, 1, 1, 1, 1, 1, 1, 1, 1, 1, 1, 1, 1, 1, 1, 1, 1, 1, 1, 1, 1, 1, 1, 1, 1, 1, 1, 1, 1])"
      ]
     },
     "execution_count": 165,
     "metadata": {},
     "output_type": "execute_result"
    }
   ],
   "source": [
    "G.in_degree().values()"
   ]
  },
  {
   "cell_type": "code",
   "execution_count": 161,
   "metadata": {},
   "outputs": [
    {
     "data": {
      "text/plain": [
       "True"
      ]
     },
     "execution_count": 161,
     "metadata": {},
     "output_type": "execute_result"
    }
   ],
   "source": [
    "len(sub_list) == len(set(sub_list))"
   ]
  },
  {
   "cell_type": "code",
   "execution_count": 121,
   "metadata": {},
   "outputs": [
    {
     "data": {
      "text/plain": [
       "[True,\n",
       " True,\n",
       " True,\n",
       " True,\n",
       " True,\n",
       " True,\n",
       " True,\n",
       " True,\n",
       " True,\n",
       " True,\n",
       " True,\n",
       " True,\n",
       " True,\n",
       " True,\n",
       " True,\n",
       " True,\n",
       " True,\n",
       " True,\n",
       " True,\n",
       " True,\n",
       " True,\n",
       " True,\n",
       " True,\n",
       " True,\n",
       " True,\n",
       " True,\n",
       " True,\n",
       " True,\n",
       " True,\n",
       " True,\n",
       " True,\n",
       " True,\n",
       " True,\n",
       " True,\n",
       " True,\n",
       " True,\n",
       " True,\n",
       " True,\n",
       " True,\n",
       " True,\n",
       " True,\n",
       " True,\n",
       " True,\n",
       " True]"
      ]
     },
     "execution_count": 121,
     "metadata": {},
     "output_type": "execute_result"
    }
   ],
   "source": [
    "DNA_list = []\n",
    "for i in range(10):\n",
    "    DNA_list.append(''.join(list(np.random.choice([\"A\", \"C\", \"G\", \"T\"], 50, p = [0.25, 0.25, 0.25, 0.25]))))\n",
    "\n",
    "succ = []\n",
    "for DNA in DNA_list:\n",
    "    sub_list = []\n",
    "\n",
    "for i in range(50 - 7 + 1):\n",
    "    sub_list.append(s[i: i + 7])\n",
    "    G = subsequences_to_graph(sub_list)\n",
    "    succ.append(list(G.in_degree().values()).count(max(G.in_degree().values())) % 2 == 0)\n",
    "                \n",
    "                \n",
    "succ         \n",
    "                \n",
    "                "
   ]
  },
  {
   "cell_type": "code",
   "execution_count": 12,
   "metadata": {},
   "outputs": [
    {
     "data": {
      "text/plain": [
       "0.837"
      ]
     },
     "execution_count": 12,
     "metadata": {},
     "output_type": "execute_result"
    }
   ],
   "source": [
    "def simulate(N,n,K):\n",
    "# ------------- YOUR CODE HERE \n",
    "\n",
    "    sequence = ''.join(list(np.random.choice([\"A\", \"C\", \"G\", \"T\"], 50, p = [0.25, 0.25, 0.25, 0.25])))\n",
    "\n",
    "    sub_list = []\n",
    "\n",
    "    for i in range(n - K + 1):\n",
    "        sub_list.append(sequence[i: i + K])\n",
    "\n",
    "    G = subsequences_to_graph(sub_list)\n",
    "    nx.draw_networkx(G, arrows = True, with_labels = True)\n",
    "    plt.show()\n",
    "\n",
    "    \n",
    "    P = (1- (1 / 4)**(K1-1))**((n-K1+2)*(n-K1+1)/2)\n",
    "\n",
    "\n",
    "    DNA_list = []\n",
    "    for i in range(10):\n",
    "        DNA_list.append(''.join(list(np.random.choice([\"A\", \"C\", \"G\", \"T\"], 50, p = [0.25, 0.25, 0.25, 0.25]))))\n",
    "\n",
    "    for list in \n",
    "\n",
    "# ----------------------------------------------------\n",
    "\n",
    "simulate(1000,50,7)"
   ]
  },
  {
   "cell_type": "markdown",
   "metadata": {},
   "source": [
    "Using the function *simulate()*, find the probability of success for $N=200$, $n=50$, and $k\\in\\{4,5,6,7,8,9,10\\}, and plot the result with theoretical estimates."
   ]
  },
  {
   "cell_type": "code",
   "execution_count": 13,
   "metadata": {},
   "outputs": [
    {
     "data": {
      "image/png": "[encoded data removed]",
      "text/plain": [
       "<matplotlib.figure.Figure at 0x107ecb710>"
      ]
     },
     "metadata": {},
     "output_type": "display_data"
    }
   ],
   "source": [
    "N = 200 # sample size\n",
    "n = 50 # DNA length\n",
    "P_succ=[]\n",
    "\n",
    "for k in range(4,11): # sub-sequence length\n",
    "  P_succ.append(simulate(N,n,k))\n",
    "\n",
    "# ------------- YOUR CODE HERE \n",
    "\n",
    "\n",
    "\n",
    "\n",
    "\n",
    "\n",
    "\n",
    "\n",
    "\n",
    "\n",
    "\n",
    "\n",
    "\n",
    "\n",
    "\n",
    "# ---------------------------------------"
   ]
  },
  {
   "cell_type": "code",
   "execution_count": null,
   "metadata": {
    "collapsed": true
   },
   "outputs": [],
   "source": []
  }
 ],
 "metadata": {
  "kernelspec": {
   "display_name": "Python 3",
   "language": "python",
   "name": "python3"
  },
  "language_info": {
   "codemirror_mode": {
    "name": "ipython",
    "version": 3
   },
   "file_extension": ".py",
   "mimetype": "text/x-python",
   "name": "python",
   "nbconvert_exporter": "python",
   "pygments_lexer": "ipython3",
   "version": "3.6.2"
  }
 },
 "nbformat": 4,
 "nbformat_minor": 1
}
