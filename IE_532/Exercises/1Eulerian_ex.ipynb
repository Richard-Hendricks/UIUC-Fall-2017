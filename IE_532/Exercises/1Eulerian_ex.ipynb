{
 "cells": [
  {
   "cell_type": "markdown",
   "metadata": {},
   "source": [
    "In this exercise, we will use Tensorflow for classification.\n",
    "\n",
    "To begin, install tensorflow on your machine. __[One way](https://www.youtube.com/watch?v=gDzAm25CORk)__ to do so is using Anaconda. Another is to install pip, and then type in the command line 'pip install tensorflow'.\n",
    "\n"
   ]
  },
  {
   "cell_type": "markdown",
   "metadata": {},
   "source": [
    "## Hello world\n",
    "\n",
    "We will now execute a simple command that creates a __[constant](https://www.tensorflow.org/api_docs/python/tf/constant)__ tensor. We also create a __[session](https://www.tensorflow.org/api_docs/python/tf/Session)__ for running the tensorflow operations."
   ]
  },
  {
   "cell_type": "code",
   "execution_count": 53,
   "metadata": {},
   "outputs": [
    {
     "name": "stdout",
     "output_type": "stream",
     "text": [
      "b'Hello, TensorFlow!'\n"
     ]
    }
   ],
   "source": [
    "import tensorflow as tf\n",
    "\n",
    "hello = tf.constant('Hello, TensorFlow!')\n",
    "sess = tf.Session()\n",
    "print(sess.run(hello))"
   ]
  },
  {
   "cell_type": "markdown",
   "metadata": {},
   "source": [
    "## Basic Operations\n",
    "\n",
    "We now execute some basic operations using the tensorflow library.\n",
    "\n",
    "In a basic **constant operation**, the value returned by the constructor represents the output of the Constant op."
   ]
  },
  {
   "cell_type": "code",
   "execution_count": 54,
   "metadata": {
    "collapsed": true
   },
   "outputs": [],
   "source": [
    "a = tf.constant(2)\n",
    "b = tf.constant(3)"
   ]
  },
  {
   "cell_type": "markdown",
   "metadata": {},
   "source": [
    "Let us launch the default graph."
   ]
  },
  {
   "cell_type": "code",
   "execution_count": 55,
   "metadata": {},
   "outputs": [
    {
     "name": "stdout",
     "output_type": "stream",
     "text": [
      "a: 2 b: 3\n",
      "Addition with constants: 5\n",
      "Multiplication with constants: 6\n"
     ]
    }
   ],
   "source": [
    "with tf.Session() as sess:\n",
    "    print(\"a: %i\" % sess.run(a), \"b: %i\" % sess.run(b))\n",
    "    print(\"Addition with constants: %i\" % sess.run(a+b))\n",
    "    print(\"Multiplication with constants: %i\" % sess.run(a*b))"
   ]
  },
  {
   "cell_type": "markdown",
   "metadata": {},
   "source": [
    "In basic Operations with **variable** graph input, the value returned by the constructor represents the output\n",
    "of the Variable op (define as input when running session). This is done so using a __[placeholder](https://www.tensorflow.org/api_docs/python/tf/placeholder)__."
   ]
  },
  {
   "cell_type": "code",
   "execution_count": 47,
   "metadata": {
    "collapsed": true
   },
   "outputs": [],
   "source": [
    "# Inserts a placeholder for a tensor that will be always fed\n",
    "a = tf.placeholder(tf.int16)\n",
    "b = tf.placeholder(tf.int16)"
   ]
  },
  {
   "cell_type": "markdown",
   "metadata": {},
   "source": [
    "We can define the __[addition](https://www.tensorflow.org/api_docs/python/tf/add)__ and __[multiplication](https://www.tensorflow.org/api_docs/python/tf/multiply)__ operations as follows."
   ]
  },
  {
   "cell_type": "code",
   "execution_count": 48,
   "metadata": {
    "collapsed": true
   },
   "outputs": [],
   "source": [
    "add = tf.add(a, b)\n",
    "mul = tf.multiply(a, b)"
   ]
  },
  {
   "cell_type": "markdown",
   "metadata": {},
   "source": [
    "Let us launch the default graph."
   ]
  },
  {
   "cell_type": "code",
   "execution_count": 49,
   "metadata": {},
   "outputs": [
    {
     "name": "stdout",
     "output_type": "stream",
     "text": [
      "Addition with variables: 5\n",
      "Multiplication with variables: 6\n"
     ]
    }
   ],
   "source": [
    "with tf.Session() as sess:\n",
    "    # Run every operation with variable input\n",
    "    print(\"Addition with variables: %i\" % sess.run(add, feed_dict={a: 2, b: 3}))\n",
    "    print(\"Multiplication with variables: %i\" % sess.run(mul, feed_dict={a: 2, b: 3}))"
   ]
  },
  {
   "cell_type": "markdown",
   "metadata": {},
   "source": [
    "Let us now look at **matrix multiplication**. \n",
    "\n",
    "Create a Constant op that produces a 1x2 matrix.  The op is added as a node to the default graph."
   ]
  },
  {
   "cell_type": "code",
   "execution_count": 50,
   "metadata": {
    "collapsed": true
   },
   "outputs": [],
   "source": [
    "matrix1 = tf.constant([[3., 3.]]) # 1 row, 2 columns"
   ]
  },
  {
   "cell_type": "markdown",
   "metadata": {},
   "source": [
    "Create another Constant that produces a 2x1 matrix."
   ]
  },
  {
   "cell_type": "code",
   "execution_count": 9,
   "metadata": {
    "collapsed": true
   },
   "outputs": [],
   "source": [
    "matrix2 = tf.constant([[2.],[2.]]) # 2 rows, 1 column"
   ]
  },
  {
   "cell_type": "markdown",
   "metadata": {},
   "source": [
    "Create a __[Matmul](https://www.tensorflow.org/api_docs/python/tf/matmul)__ op that takes 'matrix1' and 'matrix2' as inputs. The returned value, 'product', represents the result of the matrix multiplication."
   ]
  },
  {
   "cell_type": "code",
   "execution_count": 10,
   "metadata": {
    "collapsed": true
   },
   "outputs": [],
   "source": [
    "# Multiplies matrix a by matrix b, producing a * b\n",
    "product = tf.matmul(matrix1, matrix2)"
   ]
  },
  {
   "cell_type": "markdown",
   "metadata": {},
   "source": [
    "To run the matmul op we **call the session 'run()' method**, passing 'product' which represents the output of the matmul op.  This indicates to the call that we want to get the output of the matmul op back. All inputs needed by the op are run automatically by the session.  They typically are run in parallel. The call 'run(product)' thus causes the execution of threes ops in the graph: the two constants(**matrix1 and matrix2 are executing constant() method**) and matmul. The output of the op is returned in 'result' as a numpy `ndarray` object."
   ]
  },
  {
   "cell_type": "code",
   "execution_count": 11,
   "metadata": {},
   "outputs": [
    {
     "name": "stdout",
     "output_type": "stream",
     "text": [
      "[[ 12.]]\n"
     ]
    }
   ],
   "source": [
    "with tf.Session() as sess:\n",
    "    result = sess.run(product)\n",
    "    print(result)"
   ]
  },
  {
   "cell_type": "markdown",
   "metadata": {},
   "source": [
    "## Linear Regression"
   ]
  },
  {
   "cell_type": "markdown",
   "metadata": {},
   "source": [
    "Let us now perform linear regression using tensorflow."
   ]
  },
  {
   "cell_type": "code",
   "execution_count": 56,
   "metadata": {
    "collapsed": true
   },
   "outputs": [],
   "source": [
    "import tensorflow as tf\n",
    "import numpy\n",
    "import matplotlib.pyplot as plt\n",
    "rng = numpy.random"
   ]
  },
  {
   "cell_type": "markdown",
   "metadata": {},
   "source": [
    "Define the parameters. \n",
    "'learning_rate' sets the rate of convergence of the gradient descent optimizer.\n",
    "'training_epochs' sets the number of iterations, where an 'epoch' is an iteration.\n",
    "'display_step' sets the frequency of epochs to print the current status of the algorithm."
   ]
  },
  {
   "cell_type": "code",
   "execution_count": 57,
   "metadata": {
    "collapsed": true
   },
   "outputs": [],
   "source": [
    "learning_rate = 0.01 # rate of convergence of GD\n",
    "training_epochs = 1000 # the number of iterations\n",
    "display_step = 50"
   ]
  },
  {
   "cell_type": "markdown",
   "metadata": {
    "collapsed": true
   },
   "source": [
    "The training data is given as below."
   ]
  },
  {
   "cell_type": "code",
   "execution_count": 58,
   "metadata": {
    "collapsed": true
   },
   "outputs": [],
   "source": [
    "train_X = numpy.asarray([3.3,4.4,5.5,6.71,6.93,4.168,9.779,6.182,7.59,2.167,\n",
    "                         7.042,10.791,5.313,7.997,5.654,9.27,3.1])\n",
    "train_Y = numpy.asarray([1.7,2.76,2.09,3.19,1.694,1.573,3.366,2.596,2.53,1.221,\n",
    "                         2.827,3.465,1.65,2.904,2.42,2.94,1.3])\n",
    "n_samples = train_X.shape[0]"
   ]
  },
  {
   "cell_type": "code",
   "execution_count": 59,
   "metadata": {},
   "outputs": [
    {
     "data": {
      "text/plain": [
       "17"
      ]
     },
     "execution_count": 59,
     "metadata": {},
     "output_type": "execute_result"
    }
   ],
   "source": [
    "n_samples"
   ]
  },
  {
   "cell_type": "markdown",
   "metadata": {},
   "source": [
    "The input graph is created and weights for the model are set."
   ]
  },
  {
   "cell_type": "code",
   "execution_count": 60,
   "metadata": {
    "collapsed": true
   },
   "outputs": [],
   "source": [
    "X = tf.placeholder(\"float\")\n",
    "Y = tf.placeholder(\"float\")\n",
    "\n",
    "W = tf.Variable(rng.randn(), name=\"weight\")\n",
    "b = tf.Variable(rng.randn(), name=\"bias\")"
   ]
  },
  {
   "cell_type": "markdown",
   "metadata": {},
   "source": [
    "The linear model is constructed.\n",
    "\n",
    "**tf.multiply: Returns x * y element-wise.**"
   ]
  },
  {
   "cell_type": "code",
   "execution_count": 64,
   "metadata": {
    "collapsed": true
   },
   "outputs": [],
   "source": [
    "pred = tf.add(tf.multiply(X, W), b)"
   ]
  },
  {
   "cell_type": "markdown",
   "metadata": {},
   "source": [
    "The mean squared error and the optimizer are defined.\n",
    "\n",
    "**tf.reduce_sum: Computes the sum of elements across dimensions of a tensor.**"
   ]
  },
  {
   "cell_type": "code",
   "execution_count": 62,
   "metadata": {
    "collapsed": true
   },
   "outputs": [],
   "source": [
    "cost = tf.reduce_sum(tf.pow(pred-Y, 2))/(2*n_samples)\n",
    " \n",
    "optimizer = tf.train.GradientDescentOptimizer(learning_rate).minimize(cost)"
   ]
  },
  {
   "cell_type": "markdown",
   "metadata": {},
   "source": [
    "Initialize the variables (i.e. assign their default value)."
   ]
  },
  {
   "cell_type": "code",
   "execution_count": 63,
   "metadata": {
    "collapsed": true
   },
   "outputs": [],
   "source": [
    "init = tf.global_variables_initializer()"
   ]
  },
  {
   "cell_type": "markdown",
   "metadata": {},
   "source": [
    "Start training."
   ]
  },
  {
   "cell_type": "code",
   "execution_count": 65,
   "metadata": {},
   "outputs": [
    {
     "name": "stdout",
     "output_type": "stream",
     "text": [
      "Epoch: 0050 cost= 0.206859231 W= 0.451079 b= -0.648006\n",
      "Epoch: 0100 cost= 0.191854060 W= 0.439096 b= -0.5618\n",
      "Epoch: 0150 cost= 0.178581700 W= 0.427825 b= -0.48072\n",
      "Epoch: 0200 cost= 0.166842014 W= 0.417225 b= -0.404463\n",
      "Epoch: 0250 cost= 0.156458095 W= 0.407255 b= -0.332741\n",
      "Epoch: 0300 cost= 0.147273421 W= 0.397878 b= -0.265284\n",
      "Epoch: 0350 cost= 0.139149562 W= 0.389059 b= -0.201839\n",
      "Epoch: 0400 cost= 0.131963983 W= 0.380764 b= -0.142167\n",
      "Epoch: 0450 cost= 0.125608474 W= 0.372963 b= -0.0860451\n",
      "Epoch: 0500 cost= 0.119987093 W= 0.365626 b= -0.0332604\n",
      "Epoch: 0550 cost= 0.115015090 W= 0.358725 b= 0.0163847\n",
      "Epoch: 0600 cost= 0.110617504 W= 0.352234 b= 0.0630773\n",
      "Epoch: 0650 cost= 0.106728017 W= 0.34613 b= 0.106993\n",
      "Epoch: 0700 cost= 0.103287920 W= 0.340388 b= 0.148296\n",
      "Epoch: 0750 cost= 0.100245327 W= 0.334988 b= 0.187143\n",
      "Epoch: 0800 cost= 0.097554319 W= 0.329909 b= 0.22368\n",
      "Epoch: 0850 cost= 0.095174342 W= 0.325133 b= 0.258044\n",
      "Epoch: 0900 cost= 0.093069412 W= 0.32064 b= 0.290364\n",
      "Epoch: 0950 cost= 0.091207795 W= 0.316414 b= 0.320762\n",
      "Epoch: 1000 cost= 0.089561403 W= 0.31244 b= 0.349351\n",
      "Optimization Finished.\n",
      "Training cost= 0.0895614 W= 0.31244 b= 0.349351 \n",
      "\n"
     ]
    },
    {
     "data": {
      "image/png": "[encoded data removed]",
      "text/plain": [
       "<matplotlib.figure.Figure at 0x121d1fa58>"
      ]
     },
     "metadata": {},
     "output_type": "display_data"
    }
   ],
   "source": [
    "with tf.Session() as sess:\n",
    "    sess.run(init)\n",
    "\n",
    "    # Fit all training data\n",
    "    for epoch in range(training_epochs):\n",
    "        for (x, y) in zip(train_X, train_Y):\n",
    "            sess.run(optimizer, feed_dict={X: x, Y: y})\n",
    "\n",
    "        #Display logs per epoch step\n",
    "        if (epoch+1) % display_step == 0:\n",
    "            c = sess.run(cost, feed_dict={X: train_X, Y:train_Y})\n",
    "            print(\"Epoch:\", '%04d' % (epoch+1), \"cost=\", \"{:.9f}\".format(c), \\\n",
    "                \"W=\", sess.run(W), \"b=\", sess.run(b))\n",
    "\n",
    "    print(\"Optimization Finished.\")\n",
    "    training_cost = sess.run(cost, feed_dict={X: train_X, Y: train_Y})\n",
    "    print(\"Training cost=\", training_cost, \"W=\", sess.run(W), \"b=\", sess.run(b), '\\n')\n",
    "\n",
    "    #Graphic display\n",
    "    plt.plot(train_X, train_Y, 'ro', label='Original data')\n",
    "    plt.plot(train_X, sess.run(W) * train_X + sess.run(b), label='Fitted line')\n",
    "    plt.legend()\n",
    "    plt.show()"
   ]
  },
  {
   "cell_type": "markdown",
   "metadata": {},
   "source": [
    "### Q1. Observe the dependence of the training cost (error) on the learning rate.\n",
    "\n",
    "With all other parameters fixed, we now vary the learning rate to take three values in $\\{0.0001,0.01,0.8\\}$. Draw a plot with y-axis representing the training cost and the x-axis representing the iteration (0 through 1000). There must be three curves in this plot, each representing a choice of learning rate."
   ]
  },
  {
   "cell_type": "code",
   "execution_count": 66,
   "metadata": {},
   "outputs": [
    {
     "data": {
      "image/png": "[encoded data removed]",
      "text/plain": [
       "<matplotlib.figure.Figure at 0x12195ec50>"
      ]
     },
     "metadata": {},
     "output_type": "display_data"
    }
   ],
   "source": [
    "#----------------- Your code here ---------------#\n",
    "learning_rates = [0.0001, 0.01, 0.8]\n",
    "costs = []\n",
    "\n",
    "with tf.Session() as sess:\n",
    "    sess.run(init)\n",
    "\n",
    "    for learning_rate in learning_rates:\n",
    "        \n",
    "        # Fit all training data\n",
    "        for epoch in range(training_epochs):\n",
    "            \n",
    "            for (x, y) in zip(train_X, train_Y):\n",
    "                sess.run(optimizer, feed_dict = {X: x, Y: y})\n",
    "                \n",
    "            # Store costs per epoch step\n",
    "            c = sess.run(cost, feed_dict = {X: train_X, Y: train_Y})\n",
    "            costs.append(c)\n",
    "\n",
    "            \n",
    "# Display the graph\n",
    "X = numpy.arange(1, 1000, 1)\n",
    "cost1 = costs[0: training_epochs - 1]\n",
    "cost2 = costs[training_epochs: 2 * training_epochs - 1]\n",
    "cost3 = costs[2 * training_epochs: 3 * training_epochs - 1]\n",
    "\n",
    "fig, ax = plt.subplots(figsize = (10, 6))\n",
    "\n",
    "plt.plot(X, cost1, label = \"0.0001\")\n",
    "plt.plot(X, cost2, label = \"0.01\")\n",
    "plt.plot(X, cost3, label = \"0.8\")\n",
    "\n",
    "plt.xlabel('Iteration')\n",
    "plt.ylabel('Training Cost')\n",
    "plt.title('Training Cost vs. Learning Rate')\n",
    "plt.legend(loc = \"upper right\", title = \"Learning Rate\")\n",
    "plt.grid(color = 'lightgray', linestyle = '--')\n",
    "plt.show()\n",
    "\n",
    "#------------------------------------------------#"
   ]
  },
  {
   "cell_type": "markdown",
   "metadata": {},
   "source": [
    "As we can observe, very small or very large learning rates aren't preferable since even convergence is not guaranteed."
   ]
  },
  {
   "cell_type": "markdown",
   "metadata": {},
   "source": [
    "## Logistics Regression\n",
    "Let us now perform logistics regression using tensorflow. We will now be using the __[MNIST database of handwritten digits](http://yann.lecun.com/exdb/mnist/)__.\n",
    "\n",
    "The data can be imported "
   ]
  },
  {
   "cell_type": "code",
   "execution_count": 69,
   "metadata": {
    "scrolled": true
   },
   "outputs": [
    {
     "name": "stdout",
     "output_type": "stream",
     "text": [
      "Successfully downloaded train-images-idx3-ubyte.gz 9912422 bytes.\n",
      "Extracting /tmp/data/train-images-idx3-ubyte.gz\n",
      "Successfully downloaded train-labels-idx1-ubyte.gz 28881 bytes.\n",
      "Extracting /tmp/data/train-labels-idx1-ubyte.gz\n",
      "Successfully downloaded t10k-images-idx3-ubyte.gz 1648877 bytes.\n",
      "Extracting /tmp/data/t10k-images-idx3-ubyte.gz\n",
      "Successfully downloaded t10k-labels-idx1-ubyte.gz 4542 bytes.\n",
      "Extracting /tmp/data/t10k-labels-idx1-ubyte.gz\n"
     ]
    }
   ],
   "source": [
    "import tensorflow as tf\n",
    "from matplotlib import pyplot as plt\n",
    "import numpy as np\n",
    "\n",
    "# Import MINST data\n",
    "from tensorflow.examples.tutorials.mnist import input_data\n",
    "mnist = input_data.read_data_sets(\"/tmp/data/\", one_hot=True)"
   ]
  },
  {
   "cell_type": "markdown",
   "metadata": {},
   "source": [
    "Let us see visualize a part of the data."
   ]
  },
  {
   "cell_type": "code",
   "execution_count": 70,
   "metadata": {},
   "outputs": [
    {
     "data": {
      "image/png": "[encoded data removed]",
      "text/plain": [
       "<matplotlib.figure.Figure at 0x12576ffd0>"
      ]
     },
     "metadata": {},
     "output_type": "display_data"
    },
    {
     "name": "stdout",
     "output_type": "stream",
     "text": [
      "True classification: 3\n"
     ]
    },
    {
     "data": {
      "image/png": "[encoded data removed]",
      "text/plain": [
       "<matplotlib.figure.Figure at 0x1219446a0>"
      ]
     },
     "metadata": {},
     "output_type": "display_data"
    },
    {
     "name": "stdout",
     "output_type": "stream",
     "text": [
      "True classification: 5\n"
     ]
    },
    {
     "data": {
      "image/png": "[encoded data removed]",
      "text/plain": [
       "<matplotlib.figure.Figure at 0x12192d198>"
      ]
     },
     "metadata": {},
     "output_type": "display_data"
    },
    {
     "name": "stdout",
     "output_type": "stream",
     "text": [
      "True classification: 9\n"
     ]
    },
    {
     "data": {
      "image/png": "[encoded data removed]",
      "text/plain": [
       "<matplotlib.figure.Figure at 0x12f6c19e8>"
      ]
     },
     "metadata": {},
     "output_type": "display_data"
    },
    {
     "name": "stdout",
     "output_type": "stream",
     "text": [
      "True classification: 0\n"
     ]
    },
    {
     "data": {
      "image/png": "[encoded data removed]",
      "text/plain": [
       "<matplotlib.figure.Figure at 0x12f7ed320>"
      ]
     },
     "metadata": {},
     "output_type": "display_data"
    },
    {
     "name": "stdout",
     "output_type": "stream",
     "text": [
      "True classification: 0\n"
     ]
    },
    {
     "data": {
      "image/png": "[encoded data removed]",
      "text/plain": [
       "<matplotlib.figure.Figure at 0x12faf5f98>"
      ]
     },
     "metadata": {},
     "output_type": "display_data"
    },
    {
     "name": "stdout",
     "output_type": "stream",
     "text": [
      "True classification: 1\n"
     ]
    },
    {
     "data": {
      "image/png": "[encoded data removed]",
      "text/plain": [
       "<matplotlib.figure.Figure at 0x12fbf24a8>"
      ]
     },
     "metadata": {},
     "output_type": "display_data"
    },
    {
     "name": "stdout",
     "output_type": "stream",
     "text": [
      "True classification: 1\n"
     ]
    },
    {
     "data": {
      "image/png": "[encoded data removed]",
      "text/plain": [
       "<matplotlib.figure.Figure at 0x12fd0db70>"
      ]
     },
     "metadata": {},
     "output_type": "display_data"
    },
    {
     "name": "stdout",
     "output_type": "stream",
     "text": [
      "True classification: 3\n"
     ]
    },
    {
     "data": {
      "image/png": "[encoded data removed]",
      "text/plain": [
       "<matplotlib.figure.Figure at 0x12fe27978>"
      ]
     },
     "metadata": {},
     "output_type": "display_data"
    },
    {
     "name": "stdout",
     "output_type": "stream",
     "text": [
      "True classification: 9\n"
     ]
    },
    {
     "data": {
      "image/png": "[encoded data removed]",
      "text/plain": [
       "<matplotlib.figure.Figure at 0x12ff260f0>"
      ]
     },
     "metadata": {},
     "output_type": "display_data"
    },
    {
     "name": "stdout",
     "output_type": "stream",
     "text": [
      "True classification: 3\n"
     ]
    },
    {
     "data": {
      "image/png": "[encoded data removed]",
      "text/plain": [
       "<matplotlib.figure.Figure at 0x12fe10dd8>"
      ]
     },
     "metadata": {},
     "output_type": "display_data"
    },
    {
     "name": "stdout",
     "output_type": "stream",
     "text": [
      "True classification: 7\n"
     ]
    },
    {
     "data": {
      "image/png": "[encoded data removed]",
      "text/plain": [
       "<matplotlib.figure.Figure at 0x12f89f4e0>"
      ]
     },
     "metadata": {},
     "output_type": "display_data"
    },
    {
     "name": "stdout",
     "output_type": "stream",
     "text": [
      "True classification: 7\n"
     ]
    },
    {
     "data": {
      "image/png": "[encoded data removed]",
      "text/plain": [
       "<matplotlib.figure.Figure at 0x12fdb59b0>"
      ]
     },
     "metadata": {},
     "output_type": "display_data"
    },
    {
     "name": "stdout",
     "output_type": "stream",
     "text": [
      "True classification: 1\n"
     ]
    },
    {
     "data": {
      "image/png": "[encoded data removed]",
      "text/plain": [
       "<matplotlib.figure.Figure at 0x12fc1b470>"
      ]
     },
     "metadata": {},
     "output_type": "display_data"
    },
    {
     "name": "stdout",
     "output_type": "stream",
     "text": [
      "True classification: 8\n"
     ]
    },
    {
     "data": {
      "image/png": "[encoded data removed]",
      "text/plain": [
       "<matplotlib.figure.Figure at 0x12f67ed68>"
      ]
     },
     "metadata": {},
     "output_type": "display_data"
    },
    {
     "name": "stdout",
     "output_type": "stream",
     "text": [
      "True classification: 7\n"
     ]
    },
    {
     "data": {
      "image/png": "[encoded data removed]",
      "text/plain": [
       "<matplotlib.figure.Figure at 0x121576588>"
      ]
     },
     "metadata": {},
     "output_type": "display_data"
    },
    {
     "name": "stdout",
     "output_type": "stream",
     "text": [
      "True classification: 5\n"
     ]
    },
    {
     "data": {
      "image/png": "[encoded data removed]",
      "text/plain": [
       "<matplotlib.figure.Figure at 0x12f91eac8>"
      ]
     },
     "metadata": {},
     "output_type": "display_data"
    },
    {
     "name": "stdout",
     "output_type": "stream",
     "text": [
      "True classification: 6\n"
     ]
    },
    {
     "data": {
      "image/png": "[encoded data removed]",
      "text/plain": [
       "<matplotlib.figure.Figure at 0x12f7ffb70>"
      ]
     },
     "metadata": {},
     "output_type": "display_data"
    },
    {
     "name": "stdout",
     "output_type": "stream",
     "text": [
      "True classification: 1\n"
     ]
    },
    {
     "data": {
      "image/png": "[encoded data removed]",
      "text/plain": [
       "<matplotlib.figure.Figure at 0x12f64cf28>"
      ]
     },
     "metadata": {},
     "output_type": "display_data"
    },
    {
     "name": "stdout",
     "output_type": "stream",
     "text": [
      "True classification: 7\n"
     ]
    },
    {
     "data": {
      "image/png": "[encoded data removed]",
      "text/plain": [
       "<matplotlib.figure.Figure at 0x11de33390>"
      ]
     },
     "metadata": {},
     "output_type": "display_data"
    },
    {
     "name": "stdout",
     "output_type": "stream",
     "text": [
      "True classification: 0\n"
     ]
    }
   ],
   "source": [
    "def gen_image(arr):\n",
    "    two_d = (np.reshape(arr, (28, 28)) * 255).astype(np.uint8)\n",
    "    plt.imshow(two_d, interpolation='nearest')\n",
    "    return plt\n",
    "\n",
    "# Get a batch of two random images and show in a pop-up window.\n",
    "batch_xs, batch_ys = mnist.test.next_batch(20)\n",
    "for i in range(20):\n",
    "    gen_image(batch_xs[i]).show()\n",
    "    print(\"True classification:\",list(batch_ys[i]).index(1))"
   ]
  },
  {
   "cell_type": "markdown",
   "metadata": {},
   "source": [
    "Then, we set the parameters similar to the linear regression exercise."
   ]
  },
  {
   "cell_type": "code",
   "execution_count": 71,
   "metadata": {
    "collapsed": true
   },
   "outputs": [],
   "source": [
    "# Parameters\n",
    "learning_rate = 0.01\n",
    "training_epochs = 100\n",
    "batch_size = 100\n",
    "display_step = 1\n",
    "\n",
    "# tf Graph Input\n",
    "x = tf.placeholder(tf.float32, [None, 784]) # mnist data image of shape 28*28=784\n",
    "y = tf.placeholder(tf.float32, [None, 10]) # 0-9 digits recognition => 10 classes\n",
    "\n",
    "# Set model weights\n",
    "W = tf.Variable(tf.zeros([784, 10]))\n",
    "b = tf.Variable(tf.zeros([10]))\n",
    "\n",
    "# Construct model\n",
    "pred = tf.nn.softmax(tf.matmul(x, W) + b) # Softmax\n",
    "\n",
    "# Minimize error using cross entropy\n",
    "cost = tf.reduce_mean(-tf.reduce_sum(y*tf.log(pred), reduction_indices=1))\n",
    "\n",
    "# Gradient Descent\n",
    "optimizer = tf.train.GradientDescentOptimizer(learning_rate).minimize(cost)\n",
    "\n",
    "# Initialize the variables (i.e. assign their default value)\n",
    "init = tf.global_variables_initializer()"
   ]
  },
  {
   "cell_type": "markdown",
   "metadata": {},
   "source": [
    "Start training."
   ]
  },
  {
   "cell_type": "code",
   "execution_count": 72,
   "metadata": {},
   "outputs": [
    {
     "name": "stdout",
     "output_type": "stream",
     "text": [
      "Epoch: 0001 cost= 1.183271398\n",
      "Epoch: 0002 cost= 0.665329186\n",
      "Epoch: 0003 cost= 0.552827995\n",
      "Epoch: 0004 cost= 0.498661614\n",
      "Epoch: 0005 cost= 0.465538528\n",
      "Epoch: 0006 cost= 0.442582138\n",
      "Epoch: 0007 cost= 0.425542472\n",
      "Epoch: 0008 cost= 0.412199307\n",
      "Epoch: 0009 cost= 0.401423340\n",
      "Epoch: 0010 cost= 0.392432725\n",
      "Epoch: 0011 cost= 0.384791804\n",
      "Epoch: 0012 cost= 0.378178135\n",
      "Epoch: 0013 cost= 0.372407603\n",
      "Epoch: 0014 cost= 0.367284772\n",
      "Epoch: 0015 cost= 0.362715962\n",
      "Epoch: 0016 cost= 0.358644639\n",
      "Epoch: 0017 cost= 0.354847498\n",
      "Epoch: 0018 cost= 0.351438058\n",
      "Epoch: 0019 cost= 0.348355568\n",
      "Epoch: 0020 cost= 0.345431714\n",
      "Epoch: 0021 cost= 0.342723547\n",
      "Epoch: 0022 cost= 0.340224007\n",
      "Epoch: 0023 cost= 0.337933934\n",
      "Epoch: 0024 cost= 0.335751594\n",
      "Epoch: 0025 cost= 0.333698389\n",
      "Epoch: 0026 cost= 0.331787752\n",
      "Epoch: 0027 cost= 0.329906774\n",
      "Epoch: 0028 cost= 0.328229716\n",
      "Epoch: 0029 cost= 0.326600071\n",
      "Epoch: 0030 cost= 0.325053009\n",
      "Epoch: 0031 cost= 0.323567918\n",
      "Epoch: 0032 cost= 0.322147771\n",
      "Epoch: 0033 cost= 0.320809401\n",
      "Epoch: 0034 cost= 0.319513408\n",
      "Epoch: 0035 cost= 0.318305967\n",
      "Epoch: 0036 cost= 0.317133023\n",
      "Epoch: 0037 cost= 0.315954849\n",
      "Epoch: 0038 cost= 0.314893414\n",
      "Epoch: 0039 cost= 0.313869972\n",
      "Epoch: 0040 cost= 0.312879563\n",
      "Epoch: 0041 cost= 0.311882088\n",
      "Epoch: 0042 cost= 0.310951466\n",
      "Epoch: 0043 cost= 0.310052821\n",
      "Epoch: 0044 cost= 0.309151862\n",
      "Epoch: 0045 cost= 0.308355949\n",
      "Epoch: 0046 cost= 0.307546879\n",
      "Epoch: 0047 cost= 0.306725691\n",
      "Epoch: 0048 cost= 0.305957091\n",
      "Epoch: 0049 cost= 0.305233375\n",
      "Epoch: 0050 cost= 0.304508593\n",
      "Epoch: 0051 cost= 0.303766464\n",
      "Epoch: 0052 cost= 0.303112460\n",
      "Epoch: 0053 cost= 0.302413890\n",
      "Epoch: 0054 cost= 0.301778160\n",
      "Epoch: 0055 cost= 0.301173281\n",
      "Epoch: 0056 cost= 0.300543908\n",
      "Epoch: 0057 cost= 0.299923936\n",
      "Epoch: 0058 cost= 0.299374629\n",
      "Epoch: 0059 cost= 0.298819848\n",
      "Epoch: 0060 cost= 0.298230717\n",
      "Epoch: 0061 cost= 0.297747865\n",
      "Epoch: 0062 cost= 0.297191866\n",
      "Epoch: 0063 cost= 0.296644688\n",
      "Epoch: 0064 cost= 0.296163023\n",
      "Epoch: 0065 cost= 0.295672342\n",
      "Epoch: 0066 cost= 0.295198179\n",
      "Epoch: 0067 cost= 0.294724346\n",
      "Epoch: 0068 cost= 0.294256162\n",
      "Epoch: 0069 cost= 0.293776064\n",
      "Epoch: 0070 cost= 0.293358646\n",
      "Epoch: 0071 cost= 0.292945979\n",
      "Epoch: 0072 cost= 0.292516406\n",
      "Epoch: 0073 cost= 0.292106747\n",
      "Epoch: 0074 cost= 0.291680997\n",
      "Epoch: 0075 cost= 0.291225999\n",
      "Epoch: 0076 cost= 0.290913809\n",
      "Epoch: 0077 cost= 0.290505588\n",
      "Epoch: 0078 cost= 0.290120607\n",
      "Epoch: 0079 cost= 0.289747763\n",
      "Epoch: 0080 cost= 0.289386738\n",
      "Epoch: 0081 cost= 0.289022120\n",
      "Epoch: 0082 cost= 0.288689191\n",
      "Epoch: 0083 cost= 0.288330142\n",
      "Epoch: 0084 cost= 0.288004876\n",
      "Epoch: 0085 cost= 0.287641357\n",
      "Epoch: 0086 cost= 0.287339243\n",
      "Epoch: 0087 cost= 0.287014404\n",
      "Epoch: 0088 cost= 0.286671100\n",
      "Epoch: 0089 cost= 0.286402323\n",
      "Epoch: 0090 cost= 0.286064727\n",
      "Epoch: 0091 cost= 0.285773642\n",
      "Epoch: 0092 cost= 0.285478934\n",
      "Epoch: 0093 cost= 0.285141049\n",
      "Epoch: 0094 cost= 0.284895245\n",
      "Epoch: 0095 cost= 0.284605856\n",
      "Epoch: 0096 cost= 0.284322917\n",
      "Epoch: 0097 cost= 0.283994671\n",
      "Epoch: 0098 cost= 0.283743317\n",
      "Epoch: 0099 cost= 0.283491817\n",
      "Epoch: 0100 cost= 0.283222385\n",
      "Optimization Finished.\n",
      "Accuracy: 0.922333\n"
     ]
    },
    {
     "data": {
      "image/png": "[encoded data removed]",
      "text/plain": [
       "<matplotlib.figure.Figure at 0x1260454e0>"
      ]
     },
     "metadata": {},
     "output_type": "display_data"
    },
    {
     "name": "stdout",
     "output_type": "stream",
     "text": [
      "Predicted classification: 3\n"
     ]
    },
    {
     "data": {
      "image/png": "[encoded data removed]",
      "text/plain": [
       "<matplotlib.figure.Figure at 0x12f64c5c0>"
      ]
     },
     "metadata": {},
     "output_type": "display_data"
    },
    {
     "name": "stdout",
     "output_type": "stream",
     "text": [
      "Predicted classification: 5\n"
     ]
    },
    {
     "data": {
      "image/png": "[encoded data removed]",
      "text/plain": [
       "<matplotlib.figure.Figure at 0x1260c2080>"
      ]
     },
     "metadata": {},
     "output_type": "display_data"
    },
    {
     "name": "stdout",
     "output_type": "stream",
     "text": [
      "Predicted classification: 9\n"
     ]
    },
    {
     "data": {
      "image/png": "[encoded data removed]",
      "text/plain": [
       "<matplotlib.figure.Figure at 0x126251d68>"
      ]
     },
     "metadata": {},
     "output_type": "display_data"
    },
    {
     "name": "stdout",
     "output_type": "stream",
     "text": [
      "Predicted classification: 0\n"
     ]
    },
    {
     "data": {
      "image/png": "[encoded data removed]",
      "text/plain": [
       "<matplotlib.figure.Figure at 0x12f6a7128>"
      ]
     },
     "metadata": {},
     "output_type": "display_data"
    },
    {
     "name": "stdout",
     "output_type": "stream",
     "text": [
      "Predicted classification: 0\n"
     ]
    },
    {
     "data": {
      "image/png": "[encoded data removed]",
      "text/plain": [
       "<matplotlib.figure.Figure at 0x12f769a58>"
      ]
     },
     "metadata": {},
     "output_type": "display_data"
    },
    {
     "name": "stdout",
     "output_type": "stream",
     "text": [
      "Predicted classification: 1\n"
     ]
    },
    {
     "data": {
      "image/png": "[encoded data removed]",
      "text/plain": [
       "<matplotlib.figure.Figure at 0x12fcccd30>"
      ]
     },
     "metadata": {},
     "output_type": "display_data"
    },
    {
     "name": "stdout",
     "output_type": "stream",
     "text": [
      "Predicted classification: 1\n"
     ]
    },
    {
     "data": {
      "image/png": "[encoded data removed]",
      "text/plain": [
       "<matplotlib.figure.Figure at 0x12ff599e8>"
      ]
     },
     "metadata": {},
     "output_type": "display_data"
    },
    {
     "name": "stdout",
     "output_type": "stream",
     "text": [
      "Predicted classification: 3\n"
     ]
    },
    {
     "data": {
      "image/png": "[encoded data removed]",
      "text/plain": [
       "<matplotlib.figure.Figure at 0x1300117b8>"
      ]
     },
     "metadata": {},
     "output_type": "display_data"
    },
    {
     "name": "stdout",
     "output_type": "stream",
     "text": [
      "Predicted classification: 9\n"
     ]
    },
    {
     "data": {
      "image/png": "[encoded data removed]",
      "text/plain": [
       "<matplotlib.figure.Figure at 0x12fdb5358>"
      ]
     },
     "metadata": {},
     "output_type": "display_data"
    },
    {
     "name": "stdout",
     "output_type": "stream",
     "text": [
      "Predicted classification: 3\n"
     ]
    }
   ],
   "source": [
    "with tf.Session() as sess:\n",
    "    sess.run(init)\n",
    "\n",
    "    # Training cycle\n",
    "    for epoch in range(training_epochs):\n",
    "        avg_cost = 0.\n",
    "        total_batch = int(mnist.train.num_examples / batch_size)\n",
    "        \n",
    "        # Loop over all batches\n",
    "        for i in range(total_batch):\n",
    "            batch_xs, batch_ys = mnist.train.next_batch(batch_size)\n",
    "            \n",
    "            # Fit training using batch data\n",
    "            _, c = sess.run([optimizer, cost], feed_dict={x: batch_xs,\n",
    "                                                          y: batch_ys})\n",
    "            # Compute average loss\n",
    "            avg_cost += c / total_batch\n",
    "            \n",
    "        # Display logs per epoch step\n",
    "        if (epoch + 1) % display_step == 0:\n",
    "            print(\"Epoch:\", '%04d' % (epoch + 1), \"cost=\", \"{:.9f}\".format(avg_cost))\n",
    "            \n",
    "    prediction=tf.argmax(pred,1)\n",
    "    print(\"Optimization Finished.\")\n",
    "\n",
    "    # Test model\n",
    "    correct_prediction = tf.equal(tf.argmax(pred, 1), tf.argmax(y, 1))\n",
    "    \n",
    "    # Calculate accuracy for 3000 examples\n",
    "    accuracy = tf.reduce_mean(tf.cast(correct_prediction, tf.float32))\n",
    "    print(\"Accuracy:\", accuracy.eval({x: mnist.test.images[:3000], y: mnist.test.labels[:3000]}))\n",
    "    \n",
    "    predicted_labels = list(prediction.eval({x: mnist.test.images[:3000]}))\n",
    "    images = mnist.test.images[:3000]\n",
    "    for i in range(10):\n",
    "        gen_image(images[i]).show()\n",
    "        print(\"Predicted classification:\",predicted_labels[i])   "
   ]
  },
  {
   "cell_type": "markdown",
   "metadata": {},
   "source": [
    "### Q2. Observe the dependence of the training cost (error) on the learning rate.\n",
    "\n",
    "With all other parameters fixed, we now vary the learning rate to take three values in $\\{0.0001,0.01,1\\}$. Draw a plot with y-axis representing the training cost and the x-axis representing the iteration (0 through 1000). There must be three curves in this plot, each representing a choice of learning rate."
   ]
  },
  {
   "cell_type": "code",
   "execution_count": 73,
   "metadata": {},
   "outputs": [],
   "source": [
    "#----------------- Your code here ---------------#\n",
    "learning_rates = [0.0001, 0.01, 1]\n",
    "costs = []\n",
    "\n",
    "with tf.Session() as sess:\n",
    "    sess.run(init)\n",
    "\n",
    "    for learning_rate in learning_rates:\n",
    "        \n",
    "        # Training cycle\n",
    "        for epoch in range(training_epochs):\n",
    "            avg_cost = 0.\n",
    "            total_batch = int(mnist.train.num_examples / batch_size)\n",
    "        \n",
    "            # Loop over all batches\n",
    "            for i in range(total_batch):\n",
    "                batch_xs, batch_ys = mnist.train.next_batch(batch_size)\n",
    "            \n",
    "                # Fit training using batch data\n",
    "                _, c = sess.run([optimizer, cost], feed_dict={x: batch_xs,\n",
    "                                                              y: batch_ys})\n",
    "                # Compute average loss\n",
    "                avg_cost += c / total_batch\n",
    "            \n",
    "            costs.append(avg_cost)            \n",
    "\n",
    "\n",
    "#------------------------------------------------#"
   ]
  },
  {
   "cell_type": "code",
   "execution_count": 74,
   "metadata": {},
   "outputs": [
    {
     "data": {
      "text/plain": [
       "300"
      ]
     },
     "execution_count": 74,
     "metadata": {},
     "output_type": "execute_result"
    }
   ],
   "source": [
    "len(costs)"
   ]
  },
  {
   "cell_type": "code",
   "execution_count": 75,
   "metadata": {},
   "outputs": [
    {
     "data": {
      "image/png": "[encoded data removed]",
      "text/plain": [
       "<matplotlib.figure.Figure at 0x126219f28>"
      ]
     },
     "metadata": {},
     "output_type": "display_data"
    }
   ],
   "source": [
    "# Display the graph\n",
    "X = numpy.arange(1, training_epochs, 1)\n",
    "cost1 = costs[0: training_epochs - 1]\n",
    "cost2 = costs[training_epochs: 2 * training_epochs - 1]\n",
    "cost3 = costs[2 * training_epochs: 3 * training_epochs - 1]\n",
    "\n",
    "fig, ax = plt.subplots(figsize = (10, 6))\n",
    "\n",
    "plt.plot(X, cost1, label = \"0.0001\")\n",
    "plt.plot(X, cost2, label = \"0.01\")\n",
    "plt.plot(X, cost3, label = \"1\")\n",
    "\n",
    "plt.xlabel('Iteration')\n",
    "plt.ylabel('Training Cost')\n",
    "plt.title('Training Cost vs. Learning Rate')\n",
    "plt.legend(loc = \"upper right\", title = \"Learning Rate\")\n",
    "plt.grid(color = 'lightgray', linestyle = '--')\n",
    "plt.show()"
   ]
  }
 ],
 "metadata": {
  "kernelspec": {
   "display_name": "Python 3",
   "language": "python",
   "name": "python3"
  },
  "language_info": {
   "codemirror_mode": {
    "name": "ipython",
    "version": 3
   },
   "file_extension": ".py",
   "mimetype": "text/x-python",
   "name": "python",
   "nbconvert_exporter": "python",
   "pygments_lexer": "ipython3",
   "version": "3.6.2"
  }
 },
 "nbformat": 4,
 "nbformat_minor": 2
}
