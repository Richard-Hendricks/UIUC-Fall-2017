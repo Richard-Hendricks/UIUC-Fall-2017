{
 "cells": [
  {
   "cell_type": "markdown",
   "metadata": {},
   "source": [
    "# Shortest Paths\n",
    "\n",
    "In this exercise, we will use shortest path functions. You are given a directed graph as an adjacency matrix stored in '3directedgraph.csv'. The value of an entry in the $i$-th row and $j$-th column in the matrix corresponds to the length attribute of edge $(i,j)$. Your first task is to read this file and store the graph as a Networkx DiGraph. Note that the nodes must be labelled $1$ through $20$."
   ]
  },
  {
   "cell_type": "code",
   "execution_count": 1,
   "metadata": {},
   "outputs": [],
   "source": [
    "import numpy as np\n",
    "import csv\n",
    "import networkx as nx\n",
    "\n",
    "#---------- Your code here ------------#\n",
    "G = nx.DiGraph()\n",
    "i = 1\n",
    "\n",
    "with open('3directedgraph.csv', newline='') as csvfile:\n",
    "    datareader = csv.reader(csvfile, delimiter=',')\n",
    "    \n",
    "    for row in datareader:\n",
    "        for j in range(len(row)):\n",
    "            G.add_edge(i, j + 1, d = int(row[j])) # add edge from current row to column\n",
    "        \n",
    "        i = i + 1\n",
    "        \n",
    "for edge in G.edges(data = True):\n",
    "    if edge[2]['d'] == 0:\n",
    "        G.remove_edge(edge[0], edge[1]) \n",
    "        # I assume there's no edge when weight = 0\n",
    "#--------------------------------------#"
   ]
  },
  {
   "cell_type": "markdown",
   "metadata": {
    "collapsed": true
   },
   "source": [
    "We will now use some of the __[shortest path algorithms](https://networkx.github.io/documentation/networkx-1.10/reference/algorithms.shortest_paths.html)__ in Networkx to compute the following."
   ]
  },
  {
   "cell_type": "markdown",
   "metadata": {},
   "source": [
    "### Q1. What is the length of a shortest path from node $1$ to node $18$? Also, what is the path?"
   ]
  },
  {
   "cell_type": "code",
   "execution_count": 2,
   "metadata": {},
   "outputs": [
    {
     "name": "stdout",
     "output_type": "stream",
     "text": [
      "5\n",
      "[1, 20, 9, 18]\n"
     ]
    }
   ],
   "source": [
    "#---------- Your code here ------------#\n",
    "print(nx.shortest_path_length(G, 1, 18,'d'))\n",
    "print(nx.shortest_path(G, 1, 18, 'd')) # different from result??\n",
    "#--------------------------------------#"
   ]
  },
  {
   "cell_type": "markdown",
   "metadata": {},
   "source": [
    "### Q2. What is the length of a shortest path from node $1$ to node $18$, that *does* pass through node $19$? Also, what is the path? (you can travel the same edge twice if you need to)"
   ]
  },
  {
   "cell_type": "code",
   "execution_count": 3,
   "metadata": {},
   "outputs": [
    {
     "name": "stdout",
     "output_type": "stream",
     "text": [
      "8\n",
      "[1, 20, 19, 18]\n"
     ]
    }
   ],
   "source": [
    "#---------- Your code here ------------#\n",
    "# path from 1 to 19\n",
    "length1 = nx.shortest_path_length(G, 1, 19,'d')\n",
    "path1 = nx.shortest_path(G, 1, 19, 'd')\n",
    "\n",
    "# path from 19 to 18\n",
    "length2 = nx.shortest_path_length(G, 19, 18,'d')\n",
    "path2 = nx.shortest_path(G, 19, 18, 'd')\n",
    "\n",
    "print(length1 + length2)\n",
    "print(path1 + path2[1:])\n",
    "#--------------------------------------#\n"
   ]
  },
  {
   "cell_type": "markdown",
   "metadata": {},
   "source": [
    "### Q3. What is the length of a shortest path from node $1$ to node $18$, that *does not* pass through node $9$? Also, what is the path?"
   ]
  },
  {
   "cell_type": "code",
   "execution_count": 4,
   "metadata": {},
   "outputs": [
    {
     "name": "stdout",
     "output_type": "stream",
     "text": [
      "7\n",
      "[1, 20, 12, 18]\n"
     ]
    }
   ],
   "source": [
    "#---------- Your code here ------------#\n",
    "G1 = G.copy()\n",
    "G1.remove_node(9)\n",
    "print(nx.shortest_path_length(G1, 1, 18,'d'))\n",
    "print(nx.shortest_path(G1, 1, 18, 'd'))\n",
    "#--------------------------------------#"
   ]
  },
  {
   "cell_type": "markdown",
   "metadata": {},
   "source": [
    "### Q4. What is the length of a shortest path from node $1$ to node $18$, that *does* pass through edge $(5,6)$? Also, what is the path?"
   ]
  },
  {
   "cell_type": "code",
   "execution_count": 5,
   "metadata": {},
   "outputs": [
    {
     "name": "stdout",
     "output_type": "stream",
     "text": [
      "16\n",
      "[1, 20, 5, 6, 7, 18]\n"
     ]
    }
   ],
   "source": [
    "#---------- Your code here ------------#\n",
    "# path from 1 to 5\n",
    "length1 = nx.shortest_path_length(G, 1, 5,'d')\n",
    "path1 = nx.shortest_path(G, 1, 5, 'd')\n",
    "\n",
    "# edge attribute\n",
    "length2 = nx.get_edge_attributes(G1, 'd')[(5, 6)]\n",
    "\n",
    "# path from 6 to 18\n",
    "length3 = nx.shortest_path_length(G, 6, 18,'d')\n",
    "path3 = nx.shortest_path(G, 6, 18, 'd')\n",
    "\n",
    "print(length1 + length2 + length3)\n",
    "print(path1 + path3)\n",
    "#--------------------------------------#\n"
   ]
  }
 ],
 "metadata": {
  "kernelspec": {
   "display_name": "Python 3",
   "language": "python",
   "name": "python3"
  },
  "language_info": {
   "codemirror_mode": {
    "name": "ipython",
    "version": 3
   },
   "file_extension": ".py",
   "mimetype": "text/x-python",
   "name": "python",
   "nbconvert_exporter": "python",
   "pygments_lexer": "ipython3",
   "version": "3.6.2"
  }
 },
 "nbformat": 4,
 "nbformat_minor": 2
}
