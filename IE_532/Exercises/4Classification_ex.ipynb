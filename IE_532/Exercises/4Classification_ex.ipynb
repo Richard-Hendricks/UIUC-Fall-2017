{
 "cells": [
  {
   "cell_type": "markdown",
   "metadata": {},
   "source": [
    "In this exercise, we will use Tensorflow for classification.\n",
    "\n",
    "To begin, install tensorflow on your machine. __[One way](https://www.youtube.com/watch?v=gDzAm25CORk)__ to do so is using Anaconda. Another is to install pip, and then type in the command line 'pip install tensorflow'.\n",
    "\n"
   ]
  },
  {
   "cell_type": "markdown",
   "metadata": {},
   "source": [
    "## Hello world\n",
    "\n",
    "We will now execute a simple command that creates a __[constant](https://www.tensorflow.org/api_docs/python/tf/constant)__ tensor. We also create a __[session](https://www.tensorflow.org/api_docs/python/tf/Session)__ for running the tensorflow operations."
   ]
  },
  {
   "cell_type": "code",
   "execution_count": 1,
   "metadata": {},
   "outputs": [
    {
     "name": "stdout",
     "output_type": "stream",
     "text": [
      "b'Hello, TensorFlow!'\n"
     ]
    }
   ],
   "source": [
    "import tensorflow as tf\n",
    "\n",
    "hello = tf.constant('Hello, TensorFlow!')\n",
    "sess = tf.Session()\n",
    "print(sess.run(hello))"
   ]
  },
  {
   "cell_type": "markdown",
   "metadata": {},
   "source": [
    "## Basic Operations\n",
    "\n",
    "We now execute some basic operations using the tensorflow library.\n",
    "\n",
    "In a basic **constant operation**, the value returned by the constructor represents the output of the Constant op."
   ]
  },
  {
   "cell_type": "code",
   "execution_count": 2,
   "metadata": {
    "collapsed": true
   },
   "outputs": [],
   "source": [
    "a = tf.constant(2)\n",
    "b = tf.constant(3)"
   ]
  },
  {
   "cell_type": "markdown",
   "metadata": {},
   "source": [
    "Let us launch the default graph."
   ]
  },
  {
   "cell_type": "code",
   "execution_count": 3,
   "metadata": {},
   "outputs": [
    {
     "name": "stdout",
     "output_type": "stream",
     "text": [
      "a: 2 b: 3\n",
      "Addition with constants: 5\n",
      "Multiplication with constants: 6\n"
     ]
    }
   ],
   "source": [
    "with tf.Session() as sess:\n",
    "    print(\"a: %i\" % sess.run(a), \"b: %i\" % sess.run(b))\n",
    "    print(\"Addition with constants: %i\" % sess.run(a+b))\n",
    "    print(\"Multiplication with constants: %i\" % sess.run(a*b))"
   ]
  },
  {
   "cell_type": "markdown",
   "metadata": {},
   "source": [
    "In basic Operations with **variable** graph input, the value returned by the constructor represents the output\n",
    "of the Variable op (define as input when running session). This is done so using a __[placeholder](https://www.tensorflow.org/api_docs/python/tf/placeholder)__."
   ]
  },
  {
   "cell_type": "code",
   "execution_count": 4,
   "metadata": {
    "collapsed": true
   },
   "outputs": [],
   "source": [
    "# Inserts a placeholder for a tensor that will be always fed\n",
    "a = tf.placeholder(tf.int16)\n",
    "b = tf.placeholder(tf.int16)"
   ]
  },
  {
   "cell_type": "markdown",
   "metadata": {},
   "source": [
    "We can define the __[addition](https://www.tensorflow.org/api_docs/python/tf/add)__ and __[multiplication](https://www.tensorflow.org/api_docs/python/tf/multiply)__ operations as follows."
   ]
  },
  {
   "cell_type": "code",
   "execution_count": 5,
   "metadata": {},
   "outputs": [],
   "source": [
    "add = tf.add(a, b)\n",
    "mul = tf.multiply(a, b)"
   ]
  },
  {
   "cell_type": "markdown",
   "metadata": {},
   "source": [
    "Let us launch the default graph."
   ]
  },
  {
   "cell_type": "code",
   "execution_count": 6,
   "metadata": {},
   "outputs": [
    {
     "name": "stdout",
     "output_type": "stream",
     "text": [
      "Addition with variables: 5\n",
      "Multiplication with variables: 6\n"
     ]
    }
   ],
   "source": [
    "with tf.Session() as sess:\n",
    "    # Run every operation with variable input\n",
    "    print(\"Addition with variables: %i\" % sess.run(add, feed_dict={a: 2, b: 3}))\n",
    "    print(\"Multiplication with variables: %i\" % sess.run(mul, feed_dict={a: 2, b: 3}))"
   ]
  },
  {
   "cell_type": "markdown",
   "metadata": {},
   "source": [
    "Let us now look at **matrix multiplication**. \n",
    "\n",
    "Create a Constant op that produces a 1x2 matrix.  The op is added as a node to the default graph."
   ]
  },
  {
   "cell_type": "code",
   "execution_count": 7,
   "metadata": {
    "collapsed": true
   },
   "outputs": [],
   "source": [
    "matrix1 = tf.constant([[3., 3.]]) # 1 row, 2 columns"
   ]
  },
  {
   "cell_type": "markdown",
   "metadata": {},
   "source": [
    "Create another Constant that produces a 2x1 matrix."
   ]
  },
  {
   "cell_type": "code",
   "execution_count": 8,
   "metadata": {
    "collapsed": true
   },
   "outputs": [],
   "source": [
    "matrix2 = tf.constant([[2.],[2.]]) # 2 rows, 1 column"
   ]
  },
  {
   "cell_type": "markdown",
   "metadata": {},
   "source": [
    "Create a __[Matmul](https://www.tensorflow.org/api_docs/python/tf/matmul)__ op that takes 'matrix1' and 'matrix2' as inputs. The returned value, 'product', represents the result of the matrix multiplication."
   ]
  },
  {
   "cell_type": "code",
   "execution_count": 9,
   "metadata": {
    "collapsed": true
   },
   "outputs": [],
   "source": [
    "# Multiplies matrix a by matrix b, producing a * b\n",
    "product = tf.matmul(matrix1, matrix2)"
   ]
  },
  {
   "cell_type": "markdown",
   "metadata": {},
   "source": [
    "To run the matmul op we **call the session 'run()' method**, passing 'product' which represents the output of the matmul op.  This indicates to the call that we want to get the output of the matmul op back. All inputs needed by the op are run automatically by the session.  They typically are run in parallel. The call 'run(product)' thus causes the execution of threes ops in the graph: the two constants(**matrix1 and matrix2 are executing constant() method**) and matmul. The output of the op is returned in 'result' as a numpy `ndarray` object."
   ]
  },
  {
   "cell_type": "code",
   "execution_count": 10,
   "metadata": {},
   "outputs": [
    {
     "name": "stdout",
     "output_type": "stream",
     "text": [
      "[[ 12.]]\n"
     ]
    }
   ],
   "source": [
    "with tf.Session() as sess:\n",
    "    result = sess.run(product)\n",
    "    print(result)"
   ]
  },
  {
   "cell_type": "markdown",
   "metadata": {},
   "source": [
    "## Linear Regression"
   ]
  },
  {
   "cell_type": "markdown",
   "metadata": {},
   "source": [
    "Let us now perform linear regression using tensorflow."
   ]
  },
  {
   "cell_type": "code",
   "execution_count": 11,
   "metadata": {
    "collapsed": true
   },
   "outputs": [],
   "source": [
    "import tensorflow as tf\n",
    "import numpy\n",
    "import matplotlib.pyplot as plt\n",
    "rng = numpy.random"
   ]
  },
  {
   "cell_type": "markdown",
   "metadata": {},
   "source": [
    "Define the parameters. \n",
    "'learning_rate' sets the rate of convergence of the gradient descent optimizer.\n",
    "'training_epochs' sets the number of iterations, where an 'epoch' is an iteration.\n",
    "'display_step' sets the frequency of epochs to print the current status of the algorithm."
   ]
  },
  {
   "cell_type": "code",
   "execution_count": 27,
   "metadata": {
    "collapsed": true
   },
   "outputs": [],
   "source": [
    "learning_rate = 0.01 # rate of convergence of GD\n",
    "training_epochs = 1000 # the number of iterations\n",
    "display_step = 50"
   ]
  },
  {
   "cell_type": "markdown",
   "metadata": {
    "collapsed": true
   },
   "source": [
    "The training data is given as below."
   ]
  },
  {
   "cell_type": "code",
   "execution_count": 13,
   "metadata": {
    "collapsed": true
   },
   "outputs": [],
   "source": [
    "train_X = numpy.asarray([3.3,4.4,5.5,6.71,6.93,4.168,9.779,6.182,7.59,2.167,\n",
    "                         7.042,10.791,5.313,7.997,5.654,9.27,3.1])\n",
    "train_Y = numpy.asarray([1.7,2.76,2.09,3.19,1.694,1.573,3.366,2.596,2.53,1.221,\n",
    "                         2.827,3.465,1.65,2.904,2.42,2.94,1.3])\n",
    "n_samples = train_X.shape[0]"
   ]
  },
  {
   "cell_type": "code",
   "execution_count": 14,
   "metadata": {},
   "outputs": [
    {
     "data": {
      "text/plain": [
       "17"
      ]
     },
     "execution_count": 14,
     "metadata": {},
     "output_type": "execute_result"
    }
   ],
   "source": [
    "n_samples"
   ]
  },
  {
   "cell_type": "markdown",
   "metadata": {},
   "source": [
    "The input graph is created and weights for the model are set."
   ]
  },
  {
   "cell_type": "code",
   "execution_count": 15,
   "metadata": {
    "collapsed": true
   },
   "outputs": [],
   "source": [
    "X = tf.placeholder(\"float\")\n",
    "Y = tf.placeholder(\"float\")\n",
    "\n",
    "W = tf.Variable(rng.randn(), name=\"weight\")\n",
    "b = tf.Variable(rng.randn(), name=\"bias\")"
   ]
  },
  {
   "cell_type": "markdown",
   "metadata": {},
   "source": [
    "The linear model is constructed.\n",
    "\n",
    "**tf.multiply: Returns x * y element-wise.**"
   ]
  },
  {
   "cell_type": "code",
   "execution_count": 16,
   "metadata": {
    "collapsed": true
   },
   "outputs": [],
   "source": [
    "pred = tf.add(tf.multiply(X, W), b)"
   ]
  },
  {
   "cell_type": "markdown",
   "metadata": {},
   "source": [
    "The mean squared error and the optimizer are defined.\n",
    "\n",
    "**tf.reduce_sum: Computes the sum of elements across dimensions of a tensor.**"
   ]
  },
  {
   "cell_type": "code",
   "execution_count": 17,
   "metadata": {
    "collapsed": true
   },
   "outputs": [],
   "source": [
    "cost = tf.reduce_sum(tf.pow(pred-Y, 2))/(2*n_samples)\n",
    " \n",
    "optimizer = tf.train.GradientDescentOptimizer(learning_rate).minimize(cost)"
   ]
  },
  {
   "cell_type": "markdown",
   "metadata": {},
   "source": [
    "Initialize the variables (i.e. assign their default value)."
   ]
  },
  {
   "cell_type": "code",
   "execution_count": 18,
   "metadata": {
    "collapsed": true
   },
   "outputs": [],
   "source": [
    "init = tf.global_variables_initializer()"
   ]
  },
  {
   "cell_type": "markdown",
   "metadata": {},
   "source": [
    "Start training."
   ]
  },
  {
   "cell_type": "code",
   "execution_count": 28,
   "metadata": {},
   "outputs": [
    {
     "name": "stdout",
     "output_type": "stream",
     "text": [
      "Epoch: 0050 cost= 0.149709582 W= 0.402708 b= 0.000776693\n",
      "Epoch: 0100 cost= 0.149707392 W= 0.402707 b= 0.000776429\n",
      "Epoch: 0150 cost= 0.149706200 W= 0.402706 b= 0.000776191\n",
      "Epoch: 0200 cost= 0.149707392 W= 0.402707 b= 0.000776429\n",
      "Epoch: 0250 cost= 0.149706200 W= 0.402706 b= 0.000776191\n",
      "Epoch: 0300 cost= 0.149707392 W= 0.402707 b= 0.000776429\n",
      "Epoch: 0350 cost= 0.149706200 W= 0.402706 b= 0.000776191\n",
      "Epoch: 0400 cost= 0.149707392 W= 0.402707 b= 0.000776429\n",
      "Epoch: 0450 cost= 0.149706200 W= 0.402706 b= 0.000776191\n",
      "Epoch: 0500 cost= 0.149707392 W= 0.402707 b= 0.000776429\n",
      "Epoch: 0550 cost= 0.149706200 W= 0.402706 b= 0.000776191\n",
      "Epoch: 0600 cost= 0.149707392 W= 0.402707 b= 0.000776429\n",
      "Epoch: 0650 cost= 0.149706200 W= 0.402706 b= 0.000776191\n",
      "Epoch: 0700 cost= 0.149707392 W= 0.402707 b= 0.000776429\n",
      "Epoch: 0750 cost= 0.149706200 W= 0.402706 b= 0.000776191\n",
      "Epoch: 0800 cost= 0.149707392 W= 0.402707 b= 0.000776429\n",
      "Epoch: 0850 cost= 0.149706200 W= 0.402706 b= 0.000776191\n",
      "Epoch: 0900 cost= 0.149707392 W= 0.402707 b= 0.000776429\n",
      "Epoch: 0950 cost= 0.149706200 W= 0.402706 b= 0.000776191\n",
      "Epoch: 1000 cost= 0.149707392 W= 0.402707 b= 0.000776429\n",
      "Optimization Finished.\n",
      "Training cost= 0.149707 W= 0.402707 b= 0.000776429 \n",
      "\n"
     ]
    },
    {
     "data": {
      "image/png": "[encoded data removed]",
      "text/plain": [
       "<matplotlib.figure.Figure at 0x12b35d8d0>"
      ]
     },
     "metadata": {},
     "output_type": "display_data"
    }
   ],
   "source": [
    "with tf.Session() as sess:\n",
    "    sess.run(init)\n",
    "\n",
    "    # Fit all training data\n",
    "    for epoch in range(training_epochs):\n",
    "        for (x, y) in zip(train_X, train_Y):\n",
    "            sess.run(optimizer, feed_dict={X: x, Y: y})\n",
    "\n",
    "        #Display logs per epoch step\n",
    "        if (epoch+1) % display_step == 0:\n",
    "            c = sess.run(cost, feed_dict={X: train_X, Y:train_Y})\n",
    "            print(\"Epoch:\", '%04d' % (epoch+1), \"cost=\", \"{:.9f}\".format(c), \\\n",
    "                \"W=\", sess.run(W), \"b=\", sess.run(b))\n",
    "\n",
    "    print(\"Optimization Finished.\")\n",
    "    training_cost = sess.run(cost, feed_dict={X: train_X, Y: train_Y})\n",
    "    print(\"Training cost=\", training_cost, \"W=\", sess.run(W), \"b=\", sess.run(b), '\\n')\n",
    "\n",
    "    #Graphic display\n",
    "    plt.plot(train_X, train_Y, 'ro', label='Original data')\n",
    "    plt.plot(train_X, sess.run(W) * train_X + sess.run(b), label='Fitted line')\n",
    "    plt.legend()\n",
    "    plt.show()"
   ]
  },
  {
   "cell_type": "markdown",
   "metadata": {},
   "source": [
    "### Q1. Observe the dependence of the training cost (error) on the learning rate.\n",
    "\n",
    "With all other parameters fixed, we now vary the learning rate to take three values in $\\{0.0001,0.01,0.8\\}$. Draw a plot with y-axis representing the training cost and the x-axis representing the iteration (0 through 1000). There must be three curves in this plot, each representing a choice of learning rate."
   ]
  },
  {
   "cell_type": "code",
   "execution_count": 29,
   "metadata": {},
   "outputs": [
    {
     "data": {
      "image/png": "[encoded data removed]",
      "text/plain": [
       "<matplotlib.figure.Figure at 0x113408f60>"
      ]
     },
     "metadata": {},
     "output_type": "display_data"
    }
   ],
   "source": [
    "#----------------- Your code here ---------------#\n",
    "learning_rates = [0.0001, 0.01, 0.8]\n",
    "\n",
    "for learning_rate in learning_rates:\n",
    "    costs = []\n",
    "    W = tf.Variable(rng.randn(), name = \"weight\")\n",
    "    b = tf.Variable(rng.randn(), name = \"bias\")\n",
    "    pred = tf.add(tf.multiply(X, W), b)\n",
    "    cost = tf.reduce_sum(tf.pow(pred - Y, 2))/(2 * n_samples)\n",
    "    optimizer = tf.train.GradientDescentOptimizer(learning_rate).minimize(cost)\n",
    "    init = tf.global_variables_initializer()\n",
    "\n",
    "    with tf.Session() as sess:\n",
    "        sess.run(init)\n",
    "\n",
    "        # Fit all training data\n",
    "        for epoch in range(training_epochs):\n",
    "            for (x, y) in zip(train_X, train_Y):\n",
    "                sess.run(optimizer, feed_dict = {X: x, Y: y})\n",
    "                \n",
    "            # Store costs per epoch step\n",
    "            c = sess.run(cost, feed_dict = {X: train_X, Y: train_Y})\n",
    "            costs.append(c)\n",
    "            \n",
    "    plt.plot(range(20, training_epochs), costs[20:], label = str(learning_rate))\n",
    "      \n",
    "plt.xlabel('Iteration')\n",
    "plt.ylabel('Training Cost')\n",
    "plt.xlim(0, 1000)\n",
    "plt.ylim(0, 1)\n",
    "plt.title('Training Cost vs. Learning Rate')\n",
    "plt.legend(loc = \"upper right\", title = \"Learning Rate\")\n",
    "plt.grid(color = 'lightgray', linestyle = '--')\n",
    "plt.show()\n",
    "\n",
    "#------------------------------------------------#"
   ]
  },
  {
   "cell_type": "markdown",
   "metadata": {},
   "source": [
    "As we can observe, very small or very large learning rates aren't preferable since even convergence is not guaranteed."
   ]
  },
  {
   "cell_type": "markdown",
   "metadata": {},
   "source": [
    "## Logistics Regression\n",
    "Let us now perform logistics regression using tensorflow. We will now be using the __[MNIST database of handwritten digits](http://yann.lecun.com/exdb/mnist/)__.\n",
    "\n",
    "The data can be imported "
   ]
  },
  {
   "cell_type": "code",
   "execution_count": 21,
   "metadata": {
    "scrolled": true
   },
   "outputs": [
    {
     "name": "stdout",
     "output_type": "stream",
     "text": [
      "Extracting /tmp/data/train-images-idx3-ubyte.gz\n",
      "Extracting /tmp/data/train-labels-idx1-ubyte.gz\n",
      "Extracting /tmp/data/t10k-images-idx3-ubyte.gz\n",
      "Extracting /tmp/data/t10k-labels-idx1-ubyte.gz\n"
     ]
    }
   ],
   "source": [
    "import tensorflow as tf\n",
    "from matplotlib import pyplot as plt\n",
    "import numpy as np\n",
    "\n",
    "# Import MINST data\n",
    "from tensorflow.examples.tutorials.mnist import input_data\n",
    "mnist = input_data.read_data_sets(\"/tmp/data/\", one_hot=True)"
   ]
  },
  {
   "cell_type": "markdown",
   "metadata": {},
   "source": [
    "Let us see visualize a part of the data."
   ]
  },
  {
   "cell_type": "code",
   "execution_count": 22,
   "metadata": {},
   "outputs": [
    {
     "data": {
      "image/png": "[encoded data removed]",
      "text/plain": [
       "<matplotlib.figure.Figure at 0x114742be0>"
      ]
     },
     "metadata": {},
     "output_type": "display_data"
    },
    {
     "name": "stdout",
     "output_type": "stream",
     "text": [
      "True classification: 7\n"
     ]
    },
    {
     "data": {
      "image/png": "[encoded data removed]",
      "text/plain": [
       "<matplotlib.figure.Figure at 0x12ad61e10>"
      ]
     },
     "metadata": {},
     "output_type": "display_data"
    },
    {
     "name": "stdout",
     "output_type": "stream",
     "text": [
      "True classification: 0\n"
     ]
    },
    {
     "data": {
      "image/png": "[encoded data removed]",
      "text/plain": [
       "<matplotlib.figure.Figure at 0x1141ffc88>"
      ]
     },
     "metadata": {},
     "output_type": "display_data"
    },
    {
     "name": "stdout",
     "output_type": "stream",
     "text": [
      "True classification: 0\n"
     ]
    },
    {
     "data": {
      "image/png": "[encoded data removed]",
      "text/plain": [
       "<matplotlib.figure.Figure at 0x12af97ef0>"
      ]
     },
     "metadata": {},
     "output_type": "display_data"
    },
    {
     "name": "stdout",
     "output_type": "stream",
     "text": [
      "True classification: 4\n"
     ]
    },
    {
     "data": {
      "image/png": "[encoded data removed]",
      "text/plain": [
       "<matplotlib.figure.Figure at 0x114360908>"
      ]
     },
     "metadata": {},
     "output_type": "display_data"
    },
    {
     "name": "stdout",
     "output_type": "stream",
     "text": [
      "True classification: 2\n"
     ]
    },
    {
     "data": {
      "image/png": "[encoded data removed]",
      "text/plain": [
       "<matplotlib.figure.Figure at 0x12ae67c50>"
      ]
     },
     "metadata": {},
     "output_type": "display_data"
    },
    {
     "name": "stdout",
     "output_type": "stream",
     "text": [
      "True classification: 7\n"
     ]
    },
    {
     "data": {
      "image/png": "[encoded data removed]",
      "text/plain": [
       "<matplotlib.figure.Figure at 0x12b304a58>"
      ]
     },
     "metadata": {},
     "output_type": "display_data"
    },
    {
     "name": "stdout",
     "output_type": "stream",
     "text": [
      "True classification: 4\n"
     ]
    },
    {
     "data": {
      "image/png": "[encoded data removed]",
      "text/plain": [
       "<matplotlib.figure.Figure at 0x12b420f98>"
      ]
     },
     "metadata": {},
     "output_type": "display_data"
    },
    {
     "name": "stdout",
     "output_type": "stream",
     "text": [
      "True classification: 7\n"
     ]
    },
    {
     "data": {
      "image/png": "[encoded data removed]",
      "text/plain": [
       "<matplotlib.figure.Figure at 0x12b539a20>"
      ]
     },
     "metadata": {},
     "output_type": "display_data"
    },
    {
     "name": "stdout",
     "output_type": "stream",
     "text": [
      "True classification: 9\n"
     ]
    },
    {
     "data": {
      "image/png": "[encoded data removed]",
      "text/plain": [
       "<matplotlib.figure.Figure at 0x12b1d8f98>"
      ]
     },
     "metadata": {},
     "output_type": "display_data"
    },
    {
     "name": "stdout",
     "output_type": "stream",
     "text": [
      "True classification: 8\n"
     ]
    },
    {
     "data": {
      "image/png": "[encoded data removed]",
      "text/plain": [
       "<matplotlib.figure.Figure at 0x12b757d30>"
      ]
     },
     "metadata": {},
     "output_type": "display_data"
    },
    {
     "name": "stdout",
     "output_type": "stream",
     "text": [
      "True classification: 8\n"
     ]
    },
    {
     "data": {
      "image/png": "[encoded data removed]",
      "text/plain": [
       "<matplotlib.figure.Figure at 0x12b88cef0>"
      ]
     },
     "metadata": {},
     "output_type": "display_data"
    },
    {
     "name": "stdout",
     "output_type": "stream",
     "text": [
      "True classification: 6\n"
     ]
    },
    {
     "data": {
      "image/png": "[encoded data removed]",
      "text/plain": [
       "<matplotlib.figure.Figure at 0x12b6c2128>"
      ]
     },
     "metadata": {},
     "output_type": "display_data"
    },
    {
     "name": "stdout",
     "output_type": "stream",
     "text": [
      "True classification: 3\n"
     ]
    },
    {
     "data": {
      "image/png": "[encoded data removed]",
      "text/plain": [
       "<matplotlib.figure.Figure at 0x12bac0e80>"
      ]
     },
     "metadata": {},
     "output_type": "display_data"
    },
    {
     "name": "stdout",
     "output_type": "stream",
     "text": [
      "True classification: 3\n"
     ]
    },
    {
     "data": {
      "image/png": "[encoded data removed]",
      "text/plain": [
       "<matplotlib.figure.Figure at 0x12bbf9780>"
      ]
     },
     "metadata": {},
     "output_type": "display_data"
    },
    {
     "name": "stdout",
     "output_type": "stream",
     "text": [
      "True classification: 8\n"
     ]
    },
    {
     "data": {
      "image/png": "[encoded data removed]",
      "text/plain": [
       "<matplotlib.figure.Figure at 0x12ba9bd30>"
      ]
     },
     "metadata": {},
     "output_type": "display_data"
    },
    {
     "name": "stdout",
     "output_type": "stream",
     "text": [
      "True classification: 0\n"
     ]
    },
    {
     "data": {
      "image/png": "[encoded data removed]",
      "text/plain": [
       "<matplotlib.figure.Figure at 0x1146e7860>"
      ]
     },
     "metadata": {},
     "output_type": "display_data"
    },
    {
     "name": "stdout",
     "output_type": "stream",
     "text": [
      "True classification: 2\n"
     ]
    },
    {
     "data": {
      "image/png": "[encoded data removed]",
      "text/plain": [
       "<matplotlib.figure.Figure at 0x12bbad710>"
      ]
     },
     "metadata": {},
     "output_type": "display_data"
    },
    {
     "name": "stdout",
     "output_type": "stream",
     "text": [
      "True classification: 4\n"
     ]
    },
    {
     "data": {
      "image/png": "[encoded data removed]",
      "text/plain": [
       "<matplotlib.figure.Figure at 0x12b6416a0>"
      ]
     },
     "metadata": {},
     "output_type": "display_data"
    },
    {
     "name": "stdout",
     "output_type": "stream",
     "text": [
      "True classification: 5\n"
     ]
    },
    {
     "data": {
      "image/png": "[encoded data removed]",
      "text/plain": [
       "<matplotlib.figure.Figure at 0x12b7659b0>"
      ]
     },
     "metadata": {},
     "output_type": "display_data"
    },
    {
     "name": "stdout",
     "output_type": "stream",
     "text": [
      "True classification: 7\n"
     ]
    }
   ],
   "source": [
    "def gen_image(arr):\n",
    "    two_d = (np.reshape(arr, (28, 28)) * 255).astype(np.uint8)\n",
    "    plt.imshow(two_d, interpolation='nearest')\n",
    "    return plt\n",
    "\n",
    "# Get a batch of two random images and show in a pop-up window.\n",
    "batch_xs, batch_ys = mnist.test.next_batch(20)\n",
    "for i in range(20):\n",
    "    gen_image(batch_xs[i]).show()\n",
    "    print(\"True classification:\",list(batch_ys[i]).index(1))"
   ]
  },
  {
   "cell_type": "markdown",
   "metadata": {},
   "source": [
    "Then, we set the parameters similar to the linear regression exercise."
   ]
  },
  {
   "cell_type": "code",
   "execution_count": 23,
   "metadata": {
    "collapsed": true
   },
   "outputs": [],
   "source": [
    "# Parameters\n",
    "learning_rate = 0.01\n",
    "training_epochs = 100\n",
    "batch_size = 100\n",
    "display_step = 1\n",
    "\n",
    "# tf Graph Input\n",
    "x = tf.placeholder(tf.float32, [None, 784]) # mnist data image of shape 28*28=784\n",
    "y = tf.placeholder(tf.float32, [None, 10]) # 0-9 digits recognition => 10 classes\n",
    "\n",
    "# Set model weights\n",
    "W = tf.Variable(tf.zeros([784, 10]))\n",
    "b = tf.Variable(tf.zeros([10]))\n",
    "\n",
    "# Construct model\n",
    "pred = tf.nn.softmax(tf.matmul(x, W) + b) # Softmax\n",
    "\n",
    "# Minimize error using cross entropy\n",
    "cost = tf.reduce_mean(-tf.reduce_sum(y*tf.log(pred), reduction_indices=1))\n",
    "\n",
    "# Gradient Descent\n",
    "optimizer = tf.train.GradientDescentOptimizer(learning_rate).minimize(cost)\n",
    "\n",
    "# Initialize the variables (i.e. assign their default value)\n",
    "init = tf.global_variables_initializer()"
   ]
  },
  {
   "cell_type": "markdown",
   "metadata": {},
   "source": [
    "Start training."
   ]
  },
  {
   "cell_type": "code",
   "execution_count": 24,
   "metadata": {},
   "outputs": [
    {
     "name": "stdout",
     "output_type": "stream",
     "text": [
      "Epoch: 0001 cost= 1.183504469\n",
      "Epoch: 0002 cost= 0.665233125\n",
      "Epoch: 0003 cost= 0.552797505\n",
      "Epoch: 0004 cost= 0.498667916\n",
      "Epoch: 0005 cost= 0.465452726\n",
      "Epoch: 0006 cost= 0.442589262\n",
      "Epoch: 0007 cost= 0.425501532\n",
      "Epoch: 0008 cost= 0.412180263\n",
      "Epoch: 0009 cost= 0.401411550\n",
      "Epoch: 0010 cost= 0.392450988\n",
      "Epoch: 0011 cost= 0.384788335\n",
      "Epoch: 0012 cost= 0.378133222\n",
      "Epoch: 0013 cost= 0.372414780\n",
      "Epoch: 0014 cost= 0.367299522\n",
      "Epoch: 0015 cost= 0.362703505\n",
      "Epoch: 0016 cost= 0.358586483\n",
      "Epoch: 0017 cost= 0.354861129\n",
      "Epoch: 0018 cost= 0.351422077\n",
      "Epoch: 0019 cost= 0.348355285\n",
      "Epoch: 0020 cost= 0.345485780\n",
      "Epoch: 0021 cost= 0.342682655\n",
      "Epoch: 0022 cost= 0.340249519\n",
      "Epoch: 0023 cost= 0.337953644\n",
      "Epoch: 0024 cost= 0.335713265\n",
      "Epoch: 0025 cost= 0.333703836\n",
      "Epoch: 0026 cost= 0.331770384\n",
      "Epoch: 0027 cost= 0.329915960\n",
      "Epoch: 0028 cost= 0.328232877\n",
      "Epoch: 0029 cost= 0.326583559\n",
      "Epoch: 0030 cost= 0.325067132\n",
      "Epoch: 0031 cost= 0.323558554\n",
      "Epoch: 0032 cost= 0.322133821\n",
      "Epoch: 0033 cost= 0.320861562\n",
      "Epoch: 0034 cost= 0.319542366\n",
      "Epoch: 0035 cost= 0.318334358\n",
      "Epoch: 0036 cost= 0.317127643\n",
      "Epoch: 0037 cost= 0.316002469\n",
      "Epoch: 0038 cost= 0.314937521\n",
      "Epoch: 0039 cost= 0.313884087\n",
      "Epoch: 0040 cost= 0.312772395\n",
      "Epoch: 0041 cost= 0.311912215\n",
      "Epoch: 0042 cost= 0.310930322\n",
      "Epoch: 0043 cost= 0.310068304\n",
      "Epoch: 0044 cost= 0.309120522\n",
      "Epoch: 0045 cost= 0.308324479\n",
      "Epoch: 0046 cost= 0.307520334\n",
      "Epoch: 0047 cost= 0.306680990\n",
      "Epoch: 0048 cost= 0.305957507\n",
      "Epoch: 0049 cost= 0.305195063\n",
      "Epoch: 0050 cost= 0.304500647\n",
      "Epoch: 0051 cost= 0.303752009\n",
      "Epoch: 0052 cost= 0.303112581\n",
      "Epoch: 0053 cost= 0.302451910\n",
      "Epoch: 0054 cost= 0.301801237\n",
      "Epoch: 0055 cost= 0.301135020\n",
      "Epoch: 0056 cost= 0.300553783\n",
      "Epoch: 0057 cost= 0.299921768\n",
      "Epoch: 0058 cost= 0.299349207\n",
      "Epoch: 0059 cost= 0.298819665\n",
      "Epoch: 0060 cost= 0.298252589\n",
      "Epoch: 0061 cost= 0.297702921\n",
      "Epoch: 0062 cost= 0.297187273\n",
      "Epoch: 0063 cost= 0.296675340\n",
      "Epoch: 0064 cost= 0.296165588\n",
      "Epoch: 0065 cost= 0.295702660\n",
      "Epoch: 0066 cost= 0.295181311\n",
      "Epoch: 0067 cost= 0.294696284\n",
      "Epoch: 0068 cost= 0.294226977\n",
      "Epoch: 0069 cost= 0.293801211\n",
      "Epoch: 0070 cost= 0.293371210\n",
      "Epoch: 0071 cost= 0.292917327\n",
      "Epoch: 0072 cost= 0.292497356\n",
      "Epoch: 0073 cost= 0.292103335\n",
      "Epoch: 0074 cost= 0.291705714\n",
      "Epoch: 0075 cost= 0.291270590\n",
      "Epoch: 0076 cost= 0.290884348\n",
      "Epoch: 0077 cost= 0.290488430\n",
      "Epoch: 0078 cost= 0.290146950\n",
      "Epoch: 0079 cost= 0.289730054\n",
      "Epoch: 0080 cost= 0.289412992\n",
      "Epoch: 0081 cost= 0.289036043\n",
      "Epoch: 0082 cost= 0.288664172\n",
      "Epoch: 0083 cost= 0.288340276\n",
      "Epoch: 0084 cost= 0.287959852\n",
      "Epoch: 0085 cost= 0.287620488\n",
      "Epoch: 0086 cost= 0.287309808\n",
      "Epoch: 0087 cost= 0.287003627\n",
      "Epoch: 0088 cost= 0.286687272\n",
      "Epoch: 0089 cost= 0.286326119\n",
      "Epoch: 0090 cost= 0.286049495\n",
      "Epoch: 0091 cost= 0.285741992\n",
      "Epoch: 0092 cost= 0.285478720\n",
      "Epoch: 0093 cost= 0.285175117\n",
      "Epoch: 0094 cost= 0.284846315\n",
      "Epoch: 0095 cost= 0.284573709\n",
      "Epoch: 0096 cost= 0.284324529\n",
      "Epoch: 0097 cost= 0.284032135\n",
      "Epoch: 0098 cost= 0.283734437\n",
      "Epoch: 0099 cost= 0.283472615\n",
      "Epoch: 0100 cost= 0.283217761\n",
      "Optimization Finished.\n",
      "Accuracy: 0.920667\n"
     ]
    },
    {
     "data": {
      "image/png": "[encoded data removed]",
      "text/plain": [
       "<matplotlib.figure.Figure at 0x12ace05f8>"
      ]
     },
     "metadata": {},
     "output_type": "display_data"
    },
    {
     "name": "stdout",
     "output_type": "stream",
     "text": [
      "Predicted classification: 7\n"
     ]
    },
    {
     "data": {
      "image/png": "[encoded data removed]",
      "text/plain": [
       "<matplotlib.figure.Figure at 0x12b2e2278>"
      ]
     },
     "metadata": {},
     "output_type": "display_data"
    },
    {
     "name": "stdout",
     "output_type": "stream",
     "text": [
      "Predicted classification: 0\n"
     ]
    },
    {
     "data": {
      "image/png": "[encoded data removed]",
      "text/plain": [
       "<matplotlib.figure.Figure at 0x12b356ba8>"
      ]
     },
     "metadata": {},
     "output_type": "display_data"
    },
    {
     "name": "stdout",
     "output_type": "stream",
     "text": [
      "Predicted classification: 0\n"
     ]
    },
    {
     "data": {
      "image/png": "[encoded data removed]",
      "text/plain": [
       "<matplotlib.figure.Figure at 0x12b2e25c0>"
      ]
     },
     "metadata": {},
     "output_type": "display_data"
    },
    {
     "name": "stdout",
     "output_type": "stream",
     "text": [
      "Predicted classification: 4\n"
     ]
    },
    {
     "data": {
      "image/png": "[encoded data removed]",
      "text/plain": [
       "<matplotlib.figure.Figure at 0x12af7b908>"
      ]
     },
     "metadata": {},
     "output_type": "display_data"
    },
    {
     "name": "stdout",
     "output_type": "stream",
     "text": [
      "Predicted classification: 2\n"
     ]
    },
    {
     "data": {
      "image/png": "[encoded data removed]",
      "text/plain": [
       "<matplotlib.figure.Figure at 0x12b15ef98>"
      ]
     },
     "metadata": {},
     "output_type": "display_data"
    },
    {
     "name": "stdout",
     "output_type": "stream",
     "text": [
      "Predicted classification: 7\n"
     ]
    },
    {
     "data": {
      "image/png": "[encoded data removed]",
      "text/plain": [
       "<matplotlib.figure.Figure at 0x12af68cf8>"
      ]
     },
     "metadata": {},
     "output_type": "display_data"
    },
    {
     "name": "stdout",
     "output_type": "stream",
     "text": [
      "Predicted classification: 4\n"
     ]
    },
    {
     "data": {
      "image/png": "[encoded data removed]",
      "text/plain": [
       "<matplotlib.figure.Figure at 0x12aec8eb8>"
      ]
     },
     "metadata": {},
     "output_type": "display_data"
    },
    {
     "name": "stdout",
     "output_type": "stream",
     "text": [
      "Predicted classification: 7\n"
     ]
    },
    {
     "data": {
      "image/png": "[encoded data removed]",
      "text/plain": [
       "<matplotlib.figure.Figure at 0x12b941940>"
      ]
     },
     "metadata": {},
     "output_type": "display_data"
    },
    {
     "name": "stdout",
     "output_type": "stream",
     "text": [
      "Predicted classification: 9\n"
     ]
    },
    {
     "data": {
      "image/png": "[encoded data removed]",
      "text/plain": [
       "<matplotlib.figure.Figure at 0x12b15eb00>"
      ]
     },
     "metadata": {},
     "output_type": "display_data"
    },
    {
     "name": "stdout",
     "output_type": "stream",
     "text": [
      "Predicted classification: 8\n"
     ]
    }
   ],
   "source": [
    "with tf.Session() as sess:\n",
    "    sess.run(init)\n",
    "\n",
    "    # Training cycle\n",
    "    for epoch in range(training_epochs):\n",
    "        avg_cost = 0.\n",
    "        total_batch = int(mnist.train.num_examples / batch_size)\n",
    "        \n",
    "        # Loop over all batches\n",
    "        for i in range(total_batch):\n",
    "            batch_xs, batch_ys = mnist.train.next_batch(batch_size)\n",
    "            \n",
    "            # Fit training using batch data\n",
    "            _, c = sess.run([optimizer, cost], feed_dict={x: batch_xs,\n",
    "                                                          y: batch_ys})\n",
    "            # Compute average loss\n",
    "            avg_cost += c / total_batch\n",
    "            \n",
    "        # Display logs per epoch step\n",
    "        if (epoch + 1) % display_step == 0:\n",
    "            print(\"Epoch:\", '%04d' % (epoch + 1), \"cost=\", \"{:.9f}\".format(avg_cost))\n",
    "            \n",
    "    prediction=tf.argmax(pred,1)\n",
    "    print(\"Optimization Finished.\")\n",
    "\n",
    "    # Test model\n",
    "    correct_prediction = tf.equal(tf.argmax(pred, 1), tf.argmax(y, 1))\n",
    "    \n",
    "    # Calculate accuracy for 3000 examples\n",
    "    accuracy = tf.reduce_mean(tf.cast(correct_prediction, tf.float32))\n",
    "    print(\"Accuracy:\", accuracy.eval({x: mnist.test.images[:3000], y: mnist.test.labels[:3000]}))\n",
    "    \n",
    "    predicted_labels = list(prediction.eval({x: mnist.test.images[:3000]}))\n",
    "    images = mnist.test.images[:3000]\n",
    "    for i in range(10):\n",
    "        gen_image(images[i]).show()\n",
    "        print(\"Predicted classification:\",predicted_labels[i])   "
   ]
  },
  {
   "cell_type": "markdown",
   "metadata": {},
   "source": [
    "### Q2. Observe the dependence of the training cost (error) on the learning rate.\n",
    "\n",
    "With all other parameters fixed, we now vary the learning rate to take three values in $\\{0.0001,0.01,1\\}$. Draw a plot with y-axis representing the training cost and the x-axis representing the iteration (0 through 1000). There must be three curves in this plot, each representing a choice of learning rate."
   ]
  },
  {
   "cell_type": "code",
   "execution_count": 25,
   "metadata": {},
   "outputs": [
    {
     "data": {
      "image/png": "[encoded data removed]",
      "text/plain": [
       "<matplotlib.figure.Figure at 0x12b420748>"
      ]
     },
     "metadata": {},
     "output_type": "display_data"
    }
   ],
   "source": [
    "#----------------- Your code here ---------------#\n",
    "learning_rates = [0.0001, 0.01, 1]\n",
    "\n",
    "for learning_rate in learning_rates:\n",
    "    costs = []\n",
    "    x = tf.placeholder(tf.float32, [None, 784]) # mnist data image of shape 28*28=784\n",
    "    y = tf.placeholder(tf.float32, [None, 10]) # 0-9 digits recognition => 10 classes\n",
    "    W = tf.Variable(tf.zeros([784, 10]))\n",
    "    b = tf.Variable(tf.zeros([10]))\n",
    "    \n",
    "    # Construct model\n",
    "    pred = tf.nn.softmax(tf.matmul(x, W) + b) # Softmax\n",
    "    \n",
    "    # Minimize error using cross entropy\n",
    "    cost = tf.reduce_mean(-tf.reduce_sum(y*tf.log(pred), reduction_indices = 1))\n",
    "    \n",
    "    # Gradient Descent\n",
    "    optimizer = tf.train.GradientDescentOptimizer(learning_rate).minimize(cost)\n",
    "    \n",
    "    # Initialize the variables (i.e. assign their default value)\n",
    "    init = tf.global_variables_initializer()\n",
    "    with tf.Session() as sess:\n",
    "        sess.run(init)\n",
    "        for epoch in range(training_epochs):\n",
    "            avg_cost = 0.\n",
    "            total_batch = int(mnist.train.num_examples/batch_size)\n",
    "            \n",
    "            # Loop over all batches\n",
    "            for i in range(total_batch):\n",
    "                batch_xs, batch_ys = mnist.train.next_batch(batch_size)\n",
    "                \n",
    "                # Fit training using batch data\n",
    "                _, c = sess.run([optimizer, cost], feed_dict={x: batch_xs,y: batch_ys})\n",
    "                \n",
    "                # Compute average loss\n",
    "                avg_cost += c / total_batch\n",
    "            costs.append(avg_cost)\n",
    "            \n",
    "    plt.plot(range(training_epochs), costs, label = str(learning_rate))\n",
    "    \n",
    "plt.xlabel('Iteration')\n",
    "plt.ylabel('Training Cost')\n",
    "plt.xlim(0, 100)\n",
    "plt.ylim(0, 5)\n",
    "plt.title('Training Cost vs. Learning Rate')\n",
    "plt.legend(loc = \"upper right\", title = \"Learning Rate\")\n",
    "plt.grid(color = 'lightgray', linestyle = '--')\n",
    "plt.show()\n",
    "\n",
    "#------------------------------------------------#"
   ]
  }
 ],
 "metadata": {
  "kernelspec": {
   "display_name": "Python 3",
   "language": "python",
   "name": "python3"
  },
  "language_info": {
   "codemirror_mode": {
    "name": "ipython",
    "version": 3
   },
   "file_extension": ".py",
   "mimetype": "text/x-python",
   "name": "python",
   "nbconvert_exporter": "python",
   "pygments_lexer": "ipython3",
   "version": "3.6.2"
  }
 },
 "nbformat": 4,
 "nbformat_minor": 2
}
