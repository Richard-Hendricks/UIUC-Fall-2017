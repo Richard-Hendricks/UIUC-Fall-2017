{
 "cells": [
  {
   "cell_type": "markdown",
   "metadata": {},
   "source": [
    "# Code"
   ]
  },
  {
   "cell_type": "markdown",
   "metadata": {},
   "source": [
    "### Input 1: Preferential Attachment Model"
   ]
  },
  {
   "cell_type": "code",
   "execution_count": 1,
   "metadata": {
    "collapsed": true
   },
   "outputs": [],
   "source": [
    "import networkx as nx\n",
    "import pandas as pd\n",
    "import numpy as np\n",
    "import matplotlib.pyplot as plt\n",
    "import seaborn\n",
    "import plotly\n",
    "import plotly.plotly as py\n",
    "from plotly.graph_objs import *\n",
    "plotly.tools.set_credentials_file(username='Yiming_Gao', api_key='8aK9bpc31YdCuAqEBv7m')\n",
    "# import visJS2jupyter.visJS_module\n",
    "\n",
    "from __future__ import division\n",
    "from __future__ import print_function\n",
    "\n",
    "import time\n",
    "import tensorflow as tf\n",
    "from gcn.utils import *\n",
    "from gcn.models import Model,MLP\n",
    "from gcn.layers import *\n",
    "\n",
    "import scipy.sparse as sp\n",
    "import random"
   ]
  },
  {
   "cell_type": "code",
   "execution_count": 2,
   "metadata": {
    "collapsed": true
   },
   "outputs": [],
   "source": [
    "G_temp = nx.barabasi_albert_graph(1000, 1)\n",
    "G = nx.DiGraph()\n",
    "G.add_edges_from(G_temp.edges()) # convert to directed model\n",
    "pr = nx.pagerank(G, alpha = 0.85) \n",
    "for i in pr.keys():\n",
    "    G[i]['score']=pr[i]\n",
    "    \n",
    "n = len(G.nodes()) # number of nodes"
   ]
  },
  {
   "cell_type": "markdown",
   "metadata": {},
   "source": [
    "### Input 4: Stanford Web Data"
   ]
  },
  {
   "cell_type": "code",
   "execution_count": 2,
   "metadata": {
    "collapsed": true
   },
   "outputs": [],
   "source": [
    "with open(\"web-Stanford.txt\",\"r\") as fil:\n",
    "    for _ in range(4):\n",
    "        next(fil)\n",
    "    data=[tuple([int(j) for j in i.strip().split()]) for i in fil]"
   ]
  },
  {
   "cell_type": "code",
   "execution_count": 3,
   "metadata": {
    "collapsed": true
   },
   "outputs": [],
   "source": [
    "G = nx.DiGraph()\n",
    "G.add_edges_from(data)\n",
    "\n",
    "pr = nx.pagerank(G, alpha=0.9)   #作为true response?"
   ]
  },
  {
   "cell_type": "code",
   "execution_count": 4,
   "metadata": {
    "collapsed": true
   },
   "outputs": [],
   "source": [
    "for i in pr.keys():\n",
    "    G[i]['score']=pr[i]"
   ]
  },
  {
   "cell_type": "code",
   "execution_count": 5,
   "metadata": {},
   "outputs": [
    {
     "data": {
      "text/plain": [
       "3.561215144991757e-07"
      ]
     },
     "execution_count": 5,
     "metadata": {},
     "output_type": "execute_result"
    }
   ],
   "source": [
    "G[1]['score']"
   ]
  },
  {
   "cell_type": "code",
   "execution_count": 6,
   "metadata": {
    "collapsed": true
   },
   "outputs": [],
   "source": [
    "n=len(G.nodes())"
   ]
  },
  {
   "cell_type": "markdown",
   "metadata": {},
   "source": [
    "A Sidenote:\n",
    "\n",
    "要解释什么是damping factor:\n",
    "\n",
    "The damping factor is the click-through probability, is included to prevent sinks (i.e. pages with no outgoing links) from \"absorbing\" the PageRanks of those pages connected to the sinks.  \n",
    "- You can see that if it equals to 1, the person clicking will click forever and they will always end up in a sink. \n",
    "\n",
    "- On the other hand, if the click-through probability is 0, then all clicks are random restarts, which are uniformly distributed.\n",
    "\n",
    "So, a damping factor is a weighted average between the two extremes."
   ]
  },
  {
   "cell_type": "markdown",
   "metadata": {},
   "source": [
    "### Preferential Attachment Model\n",
    "命名和上一个一样，可以先拿以下的代码试验，数据小跑起来比较快"
   ]
  },
  {
   "cell_type": "code",
   "execution_count": 2,
   "metadata": {
    "collapsed": true
   },
   "outputs": [],
   "source": [
    "# G_temp = nx.barabasi_albert_graph(1000, 1)\n",
    "G_temp = nx.watts_strogatz_graph(1000, 10, 0.05) # Small world with low rewiring probability\n",
    "# G_temp = nx.watts_strogatz_graph(1000, 10, 0.9) # Small world with high rewiring probability\n",
    "\n",
    "# initialize an empty directed graph\n",
    "G = nx.DiGraph()\n",
    "G.add_edges_from(G_temp.edges())\n",
    "\n",
    "pr = nx.pagerank(G, alpha = 0.85) \n",
    "for i in pr.keys():\n",
    "    G[i]['score']=pr[i]"
   ]
  },
  {
   "cell_type": "code",
   "execution_count": 3,
   "metadata": {},
   "outputs": [
    {
     "data": {
      "text/plain": [
       "0.00015389462990409082"
      ]
     },
     "execution_count": 3,
     "metadata": {},
     "output_type": "execute_result"
    }
   ],
   "source": [
    "G[0]['score']"
   ]
  },
  {
   "cell_type": "code",
   "execution_count": 4,
   "metadata": {
    "collapsed": true
   },
   "outputs": [],
   "source": [
    "n = len(G.nodes())"
   ]
  },
  {
   "cell_type": "markdown",
   "metadata": {},
   "source": [
    "## Simple Neural Network"
   ]
  },
  {
   "cell_type": "code",
   "execution_count": 5,
   "metadata": {
    "collapsed": true
   },
   "outputs": [],
   "source": [
    "from __future__ import division\n",
    "from __future__ import print_function\n",
    "\n",
    "import time\n",
    "import tensorflow as tf\n",
    "from gcn.utils import *\n",
    "from gcn.models import Model,MLP\n",
    "from gcn.layers import *\n",
    "\n",
    "import scipy.sparse as sp\n",
    "import random\n",
    "import numpy as np"
   ]
  },
  {
   "cell_type": "markdown",
   "metadata": {},
   "source": [
    "### 测试前要看一下\n",
    "+ 之前学习率填了0.05，明显训练的时候有了误差来回变大减小又变大再减小的情况，应该要调小一点，之前作业里是0.01,我一时兴起又改大了……\n",
    "+ 用networkx里的pagerank算法出来的分数是在0-1之间，所以最后的误差出来即使是0.几，也不确定是不是很好，这里是100个点做validation。\n",
    "+ epoch可能也要调，学习率0.05的时候300差不多收敛了，但是不知道学习率改了之后是什么情况"
   ]
  },
  {
   "cell_type": "code",
   "execution_count": 6,
   "metadata": {
    "collapsed": true
   },
   "outputs": [],
   "source": [
    "# Set random seed\n",
    "seed = 123\n",
    "np.random.seed(seed)\n",
    "tf.set_random_seed(seed)\n",
    "\n",
    "# Settings\n",
    "flags = tf.app.flags\n",
    "FLAGS = flags.FLAGS\n",
    "flags.DEFINE_string('dataset', 'cora', 'Dataset string.')  # 'cora', 'citeseer', 'pubmed'  #这行应该并没有什么用\n",
    "flags.DEFINE_string('model', 'gcn', 'Model string.')  # 'gcn', 'gcn_cheby', 'dense'\n",
    "flags.DEFINE_float('learning_rate', 0.05, 'Initial learning rate.')\n",
    "#flags.DEFINE_float('learning_rate', 0.1, 'Initial learning rate.')\n",
    "flags.DEFINE_integer('epochs', 300, 'Number of epochs to train.')\n",
    "flags.DEFINE_integer('hidden1', 16, 'Number of units in hidden layer 1.')\n",
    "flags.DEFINE_float('dropout', 0.5, 'Dropout rate (1 - keep probability).')\n",
    "#flags.DEFINE_float('dropout', 0., 'Dropout rate (1 - keep probability).')\n",
    "flags.DEFINE_float('weight_decay', 5e-4, 'Weight for L2 loss on embedding matrix.')\n",
    "#flags.DEFINE_float('weight_decay', 0, 'Weight for L2 loss on embedding matrix.')\n",
    "flags.DEFINE_integer('early_stopping', 100, 'Tolerance for early stopping (# of epochs).')\n",
    "flags.DEFINE_integer('max_degree', 3, 'Maximum Chebyshev polynomial degree.')"
   ]
  },
  {
   "cell_type": "markdown",
   "metadata": {},
   "source": [
    "If you assume the target is continuous (like PageRank scores here) and normally distributed, and you maximize the likelihood of the output of the net under these assumptions, you get the MSE (combined with a linear output layer)."
   ]
  },
  {
   "cell_type": "code",
   "execution_count": 7,
   "metadata": {
    "collapsed": true
   },
   "outputs": [],
   "source": [
    "# loss function 1\n",
    "def masked_mean_square_error(preds,labels,mask):\n",
    "    \"\"\"L2 loss with masking.\"\"\"\n",
    "    loss = tf.nn.l2_loss(preds - labels)   \n",
    "    # loss = tf.nn.relu(preds - labels) Rulu loss\n",
    "    mask = tf.cast(mask, dtype=tf.float32)\n",
    "    mask /= tf.reduce_mean(mask)\n",
    "    loss *= mask\n",
    "    return tf.reduce_mean(loss)\n",
    "\n",
    "# loss function 2\n",
    "def masked_absolute_difference(preds,labels,mask):\n",
    "    \"\"\"Absolute Loss (L1 Loss) with masking\"\"\"\n",
    "    loss = tf.losses.absolute_difference(labels = labels, predictions = preds)\n",
    "    mask = tf.cast(mask, dtype=tf.float32)\n",
    "    mask /= tf.reduce_mean(mask)\n",
    "    loss *= mask\n",
    "    return tf.reduce_mean(loss)\n",
    "\n",
    "# loss function 3\n",
    "def masked_huber_loss(preds,labels,mask):\n",
    "    \"\"\"Huber with masking\"\"\"\n",
    "    # https://davidrosenberg.github.io/ml2015/docs/3a.loss-functions.pdf\n",
    "    err = tf.abs(preds - labels)\n",
    "    delta = tf.constant(5e-1)\n",
    "    quad = 0.5 * tf.square(err) # quadratic\n",
    "    lin = err - 0.5 # linear\n",
    "    loss = tf.where(err < delta, quad, lin)\n",
    "    mask = tf.cast(mask, dtype=tf.float32)\n",
    "    mask /= tf.reduce_mean(mask)\n",
    "    loss *= mask\n",
    "    return tf.reduce_mean(loss)\n",
    "\n",
    "#------------- Output layer: loss function for regression: squared loss -----------------#\n",
    "## 因为response是continuous，是不是应该用RMSE instead of accuracy? (accuracy是针对分类问题)\n",
    "## *计算方法改成了rmse,但函数名仍然是accuracy，因为要改的地方太多，我怕漏了，就没改\n",
    "## 我们自己知道就行\n",
    "def masked_accuracy(preds, labels, mask):\n",
    "    \"\"\"Root Mean Square Error with masking\"\"\"\n",
    "    rmse = tf.squared_difference(preds, labels)\n",
    "    mask = tf.cast(mask, dtype=tf.float32)\n",
    "    mask /= tf.reduce_mean(mask)\n",
    "    rmse *= mask\n",
    "    return tf.reduce_mean(rmse)"
   ]
  },
  {
   "cell_type": "markdown",
   "metadata": {},
   "source": [
    "**Cross Entropy vs. Mean Square Error**\n",
    "\n",
    "Cross-entropy is prefered for **classification**, while mean squared error is one of the best choices for **regression**. This comes directly from the statement of the problems itself - in classification you work with very particular set of possible output values thus MSE is badly defined (as it does not have this kind of knowledge thus penalizes errors in incompatible way). "
   ]
  },
  {
   "cell_type": "code",
   "execution_count": 8,
   "metadata": {
    "collapsed": true
   },
   "outputs": [],
   "source": [
    "class GCN(Model):\n",
    "    def __init__(self, placeholders, input_dim, **kwargs):\n",
    "        super(GCN, self).__init__(**kwargs)\n",
    "\n",
    "        self.inputs = placeholders['features']\n",
    "        self.input_dim = input_dim\n",
    "        # self.input_dim = self.inputs.get_shape().as_list()[1]  # To be supported in future Tensorflow versions\n",
    "        self.output_dim = placeholders['labels'].get_shape().as_list()[1]\n",
    "        self.placeholders = placeholders\n",
    "\n",
    "        self.optimizer = tf.train.AdamOptimizer(learning_rate=FLAGS.learning_rate)\n",
    "\n",
    "        self.build()\n",
    "\n",
    "    def _loss(self):\n",
    "        # Weight decay loss\n",
    "        for var in self.layers[0].vars.values():\n",
    "            self.loss += FLAGS.weight_decay * tf.nn.l2_loss(var)\n",
    "\n",
    "        # loss function 1\n",
    "        # self.loss += masked_mean_square_error(self.outputs, self.placeholders['labels'],\n",
    "                                                 # self.placeholders['labels_mask'])\n",
    "        \n",
    "        # loss function 2\n",
    "        self.loss += masked_absolute_difference(self.outputs, self.placeholders['labels'],\n",
    "                                                self.placeholders['labels_mask'])\n",
    "        \n",
    "        # loss function 3\n",
    "        # self.loss += masked_huber_loss(self.outputs, self.placeholders['labels'],\n",
    "                                       # self.placeholders['labels_mask'])\n",
    "        \n",
    "\n",
    "    def _accuracy(self):\n",
    "        self.accuracy = masked_accuracy(self.outputs, self.placeholders['labels'],\n",
    "                                        self.placeholders['labels_mask'])\n",
    "\n",
    "    def _build(self):\n",
    "\n",
    "        self.layers.append(GraphConvolution(input_dim=self.input_dim,\n",
    "                                            output_dim=FLAGS.hidden1,\n",
    "                                            placeholders=self.placeholders,\n",
    "                                            act=tf.nn.relu,\n",
    "                                            dropout=True,\n",
    "                                            sparse_inputs=True,\n",
    "                                            logging=self.logging))\n",
    "\n",
    "        self.layers.append(GraphConvolution(input_dim=FLAGS.hidden1,\n",
    "                                            output_dim=self.output_dim,\n",
    "                                            placeholders=self.placeholders,\n",
    "                                            act=lambda x: x,\n",
    "                                            dropout=True,\n",
    "                                            logging=self.logging))\n",
    "\n",
    "    def predict(self):\n",
    "        return self.outputs    #tf.nn.softmax(self.outputs)"
   ]
  },
  {
   "cell_type": "code",
   "execution_count": 9,
   "metadata": {
    "collapsed": true
   },
   "outputs": [],
   "source": [
    "def preprocess_adj(adj):\n",
    "    \"\"\"Preprocessing of adjacency matrix for simple GCN model and conversion to tuple representation.\"\"\"\n",
    "    adj_normalized = normalize_adj(adj + sp.eye(adj.shape[0]))\n",
    "    return sparse_to_tuple(adj_normalized)\n",
    "\n",
    "# A^2\n",
    "#    adj_square = np.power(adj,2).tocoo()\n",
    "#    return sparse_to_tuple(adj)"
   ]
  },
  {
   "cell_type": "code",
   "execution_count": 10,
   "metadata": {
    "collapsed": true
   },
   "outputs": [],
   "source": [
    "# Randomly generate graph with 500 nodes\n",
    "adj = nx.adjacency_matrix(G)\n",
    "\n",
    "# Generate feature matrix  #there is difference between different version of networkx, 这里是用networkx 2.0. 原来1.1的用法注释掉了\n",
    "#features = sp.vstack(list(j[1] for j in G.in_degree(G.nodes())),dtype = 'float32').tolil()\n",
    "features = sp.vstack(list(G.in_degree(G.nodes()).values()),dtype = 'float32').tolil()   \n",
    "\n",
    "# Feed labels to 20 nodes\n",
    "label = []\n",
    "for i in G.nodes():\n",
    "    #label.append(G.nodes[i]['score']) 我用的1.1语法-yiming\n",
    "    label.append(G[i]['score'])\n",
    "        \n",
    "alabel = np.array(label, dtype='float64')\n",
    "\n",
    "idx_train = range(700)\n",
    "idx_val = range(700, 700 + 100) #20000改到500 for preferential attachment model\n",
    "idx_test = range(800, 1000)\n",
    "\n",
    "y_train = np.zeros([n, 1])   # n is number of total nodes\n",
    "train_mask = np.zeros([n, ], dtype = 'bool')\n",
    "for i in idx_train:\n",
    "    y_train[i] = alabel[i]\n",
    "    train_mask[i] = True\n",
    "\n",
    "y_val = np.zeros([n, 1])\n",
    "val_mask = np.zeros([n, ], dtype = 'bool')\n",
    "for i in idx_val:\n",
    "    y_val[i] = alabel[i]\n",
    "    val_mask[i] = True\n",
    "    \n",
    "# Test data\n",
    "y_test = np.zeros([n, 1])\n",
    "test_mask = np.zeros([n, ], dtype = 'bool')\n",
    "for i in idx_test:\n",
    "    y_test[i] = alabel[i]\n",
    "    test_mask[i] = True"
   ]
  },
  {
   "cell_type": "code",
   "execution_count": 11,
   "metadata": {},
   "outputs": [
    {
     "name": "stderr",
     "output_type": "stream",
     "text": [
      "/Users/Yiming/Desktop/Homework/IE 532/Project/gcn/utils.py:97: RuntimeWarning: divide by zero encountered in power\n",
      "  r_inv = np.power(rowsum, -1).flatten()\n"
     ]
    }
   ],
   "source": [
    "# Load data\n",
    "#adj, features, y_train, y_val, y_test, train_mask, val_mask, test_mask = load_data(FLAGS.dataset)\n",
    "\n",
    "# Some preprocessing\n",
    "features = preprocess_features(features)\n",
    "if FLAGS.model == 'gcn':\n",
    "    support = [preprocess_adj(adj)]\n",
    "    num_supports = 1\n",
    "    model_func = GCN\n",
    "elif FLAGS.model == 'gcn_cheby':\n",
    "    support = chebyshev_polynomials(adj, FLAGS.max_degree)\n",
    "    num_supports = 1 + FLAGS.max_degree\n",
    "    model_func = GCN\n",
    "elif FLAGS.model == 'dense':\n",
    "    support = [preprocess_adj(adj)]  # Not used\n",
    "    num_supports = 1\n",
    "    model_func = MLP\n",
    "else:\n",
    "    raise ValueError('Invalid argument for model: ' + str(FLAGS.model))\n",
    "\n",
    "# Define placeholders\n",
    "placeholders = {\n",
    "    'support': [tf.sparse_placeholder(tf.float32) for _ in range(num_supports)],\n",
    "    'features': tf.sparse_placeholder(tf.float32, shape=tf.constant(features[2], dtype=tf.int64)),\n",
    "    'labels': tf.placeholder(tf.float32, shape=(None, y_train.shape[1])),\n",
    "    'labels_mask': tf.placeholder(tf.int32),\n",
    "    'dropout': tf.placeholder_with_default(0., shape=()),\n",
    "    'num_features_nonzero': tf.placeholder(tf.int32)  # helper variable for sparse dropout\n",
    "}\n",
    "\n",
    "# Create model\n",
    "model = model_func(placeholders, input_dim=features[2][1], logging=True)\n",
    "\n",
    "# Initialize session\n",
    "sess = tf.Session()\n",
    "\n",
    "\n",
    "# Define model evaluation function\n",
    "def evaluate(features, support, labels, mask, placeholders):\n",
    "    t_test = time.time()\n",
    "    feed_dict_val = construct_feed_dict(features, support, labels, mask, placeholders)\n",
    "    outs_val = sess.run([model.loss, model.accuracy], feed_dict=feed_dict_val)\n",
    "    return outs_val[0], outs_val[1], (time.time() - t_test)"
   ]
  },
  {
   "cell_type": "code",
   "execution_count": 12,
   "metadata": {},
   "outputs": [
    {
     "name": "stdout",
     "output_type": "stream",
     "text": [
      "Epoch: 0001 train_loss= 0.18084 train_rmse= 6.571764e-02 val_loss= 0.16495 val_rmse= 3.132762e-02 time= 0.07007\n",
      "Epoch: 0002 train_loss= 0.20051 train_rmse= 7.169466e-02 val_loss= 0.11470 val_rmse= 1.512531e-02 time= 0.03241\n",
      "Epoch: 0003 train_loss= 0.17202 train_rmse= 4.988529e-02 val_loss= 0.00773 val_rmse= 6.227782e-05 time= 0.03187\n",
      "Epoch: 0004 train_loss= 0.13820 train_rmse= 3.710288e-02 val_loss= 0.06127 val_rmse= 4.298519e-03 time= 0.03242\n",
      "Epoch: 0005 train_loss= 0.12123 train_rmse= 2.979616e-02 val_loss= 0.08175 val_rmse= 7.686895e-03 time= 0.03250\n",
      "Epoch: 0006 train_loss= 0.13922 train_rmse= 3.733938e-02 val_loss= 0.02601 val_rmse= 7.677051e-04 time= 0.03216\n",
      "Epoch: 0007 train_loss= 0.10700 train_rmse= 2.731553e-02 val_loss= 0.05379 val_rmse= 3.328051e-03 time= 0.03345\n",
      "Epoch: 0008 train_loss= 0.10703 train_rmse= 1.979276e-02 val_loss= 0.05818 val_rmse= 3.899493e-03 time= 0.04490\n",
      "Epoch: 0009 train_loss= 0.09824 train_rmse= 1.651717e-02 val_loss= 0.02579 val_rmse= 7.617795e-04 time= 0.04372\n",
      "Epoch: 0010 train_loss= 0.07620 train_rmse= 1.153838e-02 val_loss= 0.02490 val_rmse= 7.094155e-04 time= 0.03782\n",
      "Epoch: 0011 train_loss= 0.06846 train_rmse= 9.544065e-03 val_loss= 0.03000 val_rmse= 1.033090e-03 time= 0.03905\n",
      "Epoch: 0012 train_loss= 0.06590 train_rmse= 8.765507e-03 val_loss= 0.01852 val_rmse= 3.918044e-04 time= 0.04359\n",
      "Epoch: 0013 train_loss= 0.05328 train_rmse= 4.979993e-03 val_loss= 0.01978 val_rmse= 4.488248e-04 time= 0.04525\n",
      "Epoch: 0014 train_loss= 0.05574 train_rmse= 9.248910e-03 val_loss= 0.02602 val_rmse= 7.791602e-04 time= 0.04341\n",
      "Epoch: 0015 train_loss= 0.05192 train_rmse= 6.741474e-03 val_loss= 0.00086 val_rmse= 7.465543e-07 time= 0.03756\n",
      "Epoch: 0016 train_loss= 0.03920 train_rmse= 3.218299e-03 val_loss= 0.02515 val_rmse= 7.269813e-04 time= 0.03375\n",
      "Epoch: 0017 train_loss= 0.03731 train_rmse= 3.078517e-03 val_loss= 0.01993 val_rmse= 4.560147e-04 time= 0.03250\n",
      "Epoch: 0018 train_loss= 0.03016 train_rmse= 1.681991e-03 val_loss= 0.00070 val_rmse= 5.252463e-07 time= 0.04597\n",
      "Epoch: 0019 train_loss= 0.02158 train_rmse= 8.662917e-04 val_loss= 0.01907 val_rmse= 4.184143e-04 time= 0.03569\n",
      "Epoch: 0020 train_loss= 0.02296 train_rmse= 2.290536e-03 val_loss= 0.01645 val_rmse= 3.113386e-04 time= 0.03336\n",
      "Epoch: 0021 train_loss= 0.01893 train_rmse= 5.871615e-04 val_loss= 0.00444 val_rmse= 2.202833e-05 time= 0.03241\n",
      "Epoch: 0022 train_loss= 0.01158 train_rmse= 2.249958e-04 val_loss= 0.01609 val_rmse= 2.969578e-04 time= 0.03182\n",
      "Epoch: 0023 train_loss= 0.01820 train_rmse= 5.049822e-04 val_loss= 0.00651 val_rmse= 4.799536e-05 time= 0.03158\n",
      "Epoch: 0024 train_loss= 0.00890 train_rmse= 1.767922e-04 val_loss= 0.01287 val_rmse= 1.903872e-04 time= 0.03212\n",
      "Epoch: 0025 train_loss= 0.01275 train_rmse= 2.442994e-04 val_loss= 0.01194 val_rmse= 1.635964e-04 time= 0.04491\n",
      "Epoch: 0026 train_loss= 0.01068 train_rmse= 1.623804e-04 val_loss= 0.00267 val_rmse= 7.994729e-06 time= 0.03332\n",
      "Epoch: 0027 train_loss= 0.00314 train_rmse= 1.705127e-05 val_loss= 0.00125 val_rmse= 1.678416e-06 time= 0.03526\n",
      "Epoch: 0028 train_loss= 0.00267 train_rmse= 1.495401e-05 val_loss= 0.00178 val_rmse= 3.445651e-06 time= 0.03228\n",
      "Epoch: 0029 train_loss= 0.00251 train_rmse= 9.275848e-06 val_loss= 0.00071 val_rmse= 4.767841e-07 time= 0.03331\n",
      "Epoch: 0030 train_loss= 0.00114 train_rmse= 2.010944e-06 val_loss= 0.00245 val_rmse= 6.725013e-06 time= 0.03814\n",
      "Epoch: 0031 train_loss= 0.00201 train_rmse= 6.109030e-06 val_loss= 0.00164 val_rmse= 2.982142e-06 time= 0.04207\n",
      "Epoch: 0032 train_loss= 0.00127 train_rmse= 2.483028e-06 val_loss= 0.00060 val_rmse= 4.125260e-07 time= 0.03438\n",
      "Epoch: 0033 train_loss= 0.00144 train_rmse= 3.352874e-06 val_loss= 0.00092 val_rmse= 9.047152e-07 time= 0.03297\n",
      "Epoch: 0034 train_loss= 0.00178 train_rmse= 5.813213e-06 val_loss= 0.00023 val_rmse= 1.321585e-07 time= 0.03174\n",
      "Epoch: 0035 train_loss= 0.00127 train_rmse= 2.457562e-06 val_loss= 0.00111 val_rmse= 1.368357e-06 time= 0.03185\n",
      "Epoch: 0036 train_loss= 0.00115 train_rmse= 2.286828e-06 val_loss= 0.00166 val_rmse= 3.044265e-06 time= 0.03484\n",
      "Epoch: 0037 train_loss= 0.00140 train_rmse= 2.860304e-06 val_loss= 0.00122 val_rmse= 1.629829e-06 time= 0.04442\n",
      "Epoch: 0038 train_loss= 0.00103 train_rmse= 1.571888e-06 val_loss= 0.00056 val_rmse= 2.655570e-07 time= 0.04249\n",
      "Epoch: 0039 train_loss= 0.00092 train_rmse= 1.479914e-06 val_loss= 0.00025 val_rmse= 1.104324e-07 time= 0.05284\n",
      "Epoch: 0040 train_loss= 0.00088 train_rmse= 9.931664e-07 val_loss= 0.00043 val_rmse= 1.575080e-07 time= 0.03926\n",
      "Epoch: 0041 train_loss= 0.00070 train_rmse= 9.314847e-07 val_loss= 0.00080 val_rmse= 6.281079e-07 time= 0.04127\n",
      "Epoch: 0042 train_loss= 0.00064 train_rmse= 4.911749e-07 val_loss= 0.00096 val_rmse= 9.701530e-07 time= 0.04474\n",
      "Epoch: 0043 train_loss= 0.00062 train_rmse= 4.605376e-07 val_loss= 0.00084 val_rmse= 6.940064e-07 time= 0.03290\n",
      "Epoch: 0044 train_loss= 0.00058 train_rmse= 4.432315e-07 val_loss= 0.00059 val_rmse= 2.965619e-07 time= 0.03335\n",
      "Epoch: 0045 train_loss= 0.00054 train_rmse= 2.687710e-07 val_loss= 0.00053 val_rmse= 2.298709e-07 time= 0.03551\n",
      "Epoch: 0046 train_loss= 0.00057 train_rmse= 2.873952e-07 val_loss= 0.00063 val_rmse= 3.485152e-07 time= 0.05701\n",
      "Epoch: 0047 train_loss= 0.00057 train_rmse= 3.508222e-07 val_loss= 0.00075 val_rmse= 5.208595e-07 time= 0.05615\n",
      "Epoch: 0048 train_loss= 0.00057 train_rmse= 3.603063e-07 val_loss= 0.00073 val_rmse= 4.951954e-07 time= 0.06034\n",
      "Epoch: 0049 train_loss= 0.00056 train_rmse= 3.450828e-07 val_loss= 0.00065 val_rmse= 3.645816e-07 time= 0.05753\n",
      "Epoch: 0050 train_loss= 0.00054 train_rmse= 3.165331e-07 val_loss= 0.00059 val_rmse= 2.885851e-07 time= 0.05054\n",
      "Epoch: 0051 train_loss= 0.00057 train_rmse= 3.176614e-07 val_loss= 0.00055 val_rmse= 2.511849e-07 time= 0.04667\n",
      "Epoch: 0052 train_loss= 0.00056 train_rmse= 3.086537e-07 val_loss= 0.00060 val_rmse= 2.988227e-07 time= 0.03473\n",
      "Epoch: 0053 train_loss= 0.00056 train_rmse= 3.250016e-07 val_loss= 0.00066 val_rmse= 3.820564e-07 time= 0.03312\n",
      "Epoch: 0054 train_loss= 0.00059 train_rmse= 3.641328e-07 val_loss= 0.00069 val_rmse= 4.248165e-07 time= 0.03300\n",
      "Epoch: 0055 train_loss= 0.00053 train_rmse= 2.855259e-07 val_loss= 0.00069 val_rmse= 4.291341e-07 time= 0.03352\n",
      "Epoch: 0056 train_loss= 0.00056 train_rmse= 3.500064e-07 val_loss= 0.00069 val_rmse= 4.292727e-07 time= 0.04355\n",
      "Epoch: 0057 train_loss= 0.00054 train_rmse= 3.185853e-07 val_loss= 0.00065 val_rmse= 3.674271e-07 time= 0.06084\n",
      "Epoch: 0058 train_loss= 0.00056 train_rmse= 3.268810e-07 val_loss= 0.00061 val_rmse= 3.206815e-07 time= 0.05086\n",
      "Epoch: 0059 train_loss= 0.00056 train_rmse= 2.998008e-07 val_loss= 0.00059 val_rmse= 2.972830e-07 time= 0.03434\n",
      "Epoch: 0060 train_loss= 0.00057 train_rmse= 3.223560e-07 val_loss= 0.00062 val_rmse= 3.246631e-07 time= 0.03353\n",
      "Epoch: 0061 train_loss= 0.00058 train_rmse= 3.420762e-07 val_loss= 0.00064 val_rmse= 3.518364e-07 time= 0.03930\n",
      "Epoch: 0062 train_loss= 0.00056 train_rmse= 3.096121e-07 val_loss= 0.00067 val_rmse= 3.922677e-07 time= 0.04377\n",
      "Epoch: 0063 train_loss= 0.00058 train_rmse= 3.826618e-07 val_loss= 0.00066 val_rmse= 3.796886e-07 time= 0.03257\n",
      "Epoch: 0064 train_loss= 0.00056 train_rmse= 3.156680e-07 val_loss= 0.00063 val_rmse= 3.487841e-07 time= 0.03217\n",
      "Epoch: 0065 train_loss= 0.00053 train_rmse= 2.739554e-07 val_loss= 0.00063 val_rmse= 3.463759e-07 time= 0.03209\n",
      "Epoch: 0066 train_loss= 0.00055 train_rmse= 3.086487e-07 val_loss= 0.00065 val_rmse= 3.738285e-07 time= 0.03223\n",
      "Epoch: 0067 train_loss= 0.00056 train_rmse= 3.858916e-07 val_loss= 0.00065 val_rmse= 3.702562e-07 time= 0.03505\n",
      "Epoch: 0068 train_loss= 0.00053 train_rmse= 3.453630e-07 val_loss= 0.00065 val_rmse= 3.703172e-07 time= 0.04180\n",
      "Epoch: 0069 train_loss= 0.00058 train_rmse= 3.475105e-07 val_loss= 0.00064 val_rmse= 3.546686e-07 time= 0.03215\n",
      "Epoch: 0070 train_loss= 0.00055 train_rmse= 3.262456e-07 val_loss= 0.00064 val_rmse= 3.646810e-07 time= 0.03207\n",
      "Epoch: 0071 train_loss= 0.00055 train_rmse= 3.163036e-07 val_loss= 0.00065 val_rmse= 3.693860e-07 time= 0.03396\n",
      "Epoch: 0072 train_loss= 0.00055 train_rmse= 3.740945e-07 val_loss= 0.00064 val_rmse= 3.634181e-07 time= 0.03793\n",
      "Epoch: 0073 train_loss= 0.00054 train_rmse= 3.158786e-07 val_loss= 0.00066 val_rmse= 3.859365e-07 time= 0.03924\n",
      "Epoch: 0074 train_loss= 0.00052 train_rmse= 2.699785e-07 val_loss= 0.00069 val_rmse= 4.399459e-07 time= 0.04365\n",
      "Epoch: 0075 train_loss= 0.00054 train_rmse= 3.336883e-07 val_loss= 0.00069 val_rmse= 4.336183e-07 time= 0.05524\n",
      "Epoch: 0076 train_loss= 0.00058 train_rmse= 4.562888e-07 val_loss= 0.00064 val_rmse= 3.693373e-07 time= 0.04592\n",
      "Epoch: 0077 train_loss= 0.00055 train_rmse= 3.160372e-07 val_loss= 0.00061 val_rmse= 3.190248e-07 time= 0.04520\n"
     ]
    },
    {
     "name": "stdout",
     "output_type": "stream",
     "text": [
      "Epoch: 0078 train_loss= 0.00055 train_rmse= 3.004560e-07 val_loss= 0.00059 val_rmse= 3.044271e-07 time= 0.04460\n",
      "Epoch: 0079 train_loss= 0.00056 train_rmse= 3.244149e-07 val_loss= 0.00059 val_rmse= 3.046877e-07 time= 0.03780\n",
      "Epoch: 0080 train_loss= 0.00055 train_rmse= 3.259014e-07 val_loss= 0.00061 val_rmse= 3.257681e-07 time= 0.03669\n",
      "Epoch: 0081 train_loss= 0.00055 train_rmse= 3.024747e-07 val_loss= 0.00066 val_rmse= 3.869610e-07 time= 0.03576\n",
      "Epoch: 0082 train_loss= 0.00050 train_rmse= 2.750735e-07 val_loss= 0.00070 val_rmse= 4.477513e-07 time= 0.03877\n",
      "Epoch: 0083 train_loss= 0.00055 train_rmse= 3.234934e-07 val_loss= 0.00070 val_rmse= 4.509063e-07 time= 0.04425\n",
      "Epoch: 0084 train_loss= 0.00052 train_rmse= 3.294238e-07 val_loss= 0.00067 val_rmse= 4.038176e-07 time= 0.07013\n",
      "Epoch: 0085 train_loss= 0.00054 train_rmse= 3.234910e-07 val_loss= 0.00062 val_rmse= 3.352657e-07 time= 0.06498\n",
      "Epoch: 0086 train_loss= 0.00055 train_rmse= 3.349233e-07 val_loss= 0.00058 val_rmse= 2.868390e-07 time= 0.04944\n",
      "Epoch: 0087 train_loss= 0.00054 train_rmse= 2.863094e-07 val_loss= 0.00057 val_rmse= 2.847863e-07 time= 0.04701\n",
      "Epoch: 0088 train_loss= 0.00052 train_rmse= 2.768302e-07 val_loss= 0.00060 val_rmse= 3.198443e-07 time= 0.04717\n",
      "Epoch: 0089 train_loss= 0.00054 train_rmse= 3.064489e-07 val_loss= 0.00065 val_rmse= 3.771254e-07 time= 0.03945\n",
      "Epoch: 0090 train_loss= 0.00055 train_rmse= 3.258597e-07 val_loss= 0.00069 val_rmse= 4.424443e-07 time= 0.05529\n",
      "Epoch: 0091 train_loss= 0.00056 train_rmse= 3.407457e-07 val_loss= 0.00072 val_rmse= 4.987434e-07 time= 0.05177\n",
      "Epoch: 0092 train_loss= 0.00056 train_rmse= 4.056355e-07 val_loss= 0.00069 val_rmse= 4.509195e-07 time= 0.05943\n",
      "Epoch: 0093 train_loss= 0.00054 train_rmse= 3.320156e-07 val_loss= 0.00063 val_rmse= 3.551775e-07 time= 0.05834\n",
      "Epoch: 0094 train_loss= 0.00055 train_rmse= 3.252614e-07 val_loss= 0.00058 val_rmse= 2.956650e-07 time= 0.05806\n",
      "Epoch: 0095 train_loss= 0.00054 train_rmse= 3.122427e-07 val_loss= 0.00056 val_rmse= 2.703242e-07 time= 0.04037\n",
      "Epoch: 0096 train_loss= 0.00052 train_rmse= 2.761814e-07 val_loss= 0.00059 val_rmse= 3.039161e-07 time= 0.03357\n",
      "Epoch: 0097 train_loss= 0.00056 train_rmse= 3.389632e-07 val_loss= 0.00062 val_rmse= 3.433176e-07 time= 0.04301\n",
      "Epoch: 0098 train_loss= 0.00056 train_rmse= 3.385400e-07 val_loss= 0.00065 val_rmse= 3.954283e-07 time= 0.03434\n",
      "Epoch: 0099 train_loss= 0.00052 train_rmse= 3.042533e-07 val_loss= 0.00067 val_rmse= 4.157656e-07 time= 0.03318\n",
      "Epoch: 0100 train_loss= 0.00051 train_rmse= 2.927667e-07 val_loss= 0.00069 val_rmse= 4.440883e-07 time= 0.03251\n",
      "Epoch: 0101 train_loss= 0.00051 train_rmse= 3.063680e-07 val_loss= 0.00068 val_rmse= 4.385828e-07 time= 0.03381\n",
      "Epoch: 0102 train_loss= 0.00056 train_rmse= 3.446750e-07 val_loss= 0.00064 val_rmse= 3.729749e-07 time= 0.03266\n",
      "Epoch: 0103 train_loss= 0.00053 train_rmse= 3.184387e-07 val_loss= 0.00061 val_rmse= 3.325447e-07 time= 0.03550\n",
      "Epoch: 0104 train_loss= 0.00052 train_rmse= 2.841514e-07 val_loss= 0.00060 val_rmse= 3.241568e-07 time= 0.06641\n",
      "Epoch: 0105 train_loss= 0.00055 train_rmse= 3.243127e-07 val_loss= 0.00062 val_rmse= 3.454469e-07 time= 0.06247\n",
      "Epoch: 0106 train_loss= 0.00054 train_rmse= 3.633838e-07 val_loss= 0.00063 val_rmse= 3.608906e-07 time= 0.05350\n",
      "Epoch: 0107 train_loss= 0.00051 train_rmse= 2.738524e-07 val_loss= 0.00066 val_rmse= 4.048777e-07 time= 0.04584\n",
      "Epoch: 0108 train_loss= 0.00055 train_rmse= 3.362792e-07 val_loss= 0.00067 val_rmse= 4.197396e-07 time= 0.05923\n",
      "Epoch: 0109 train_loss= 0.00052 train_rmse= 3.502646e-07 val_loss= 0.00066 val_rmse= 4.131753e-07 time= 0.05424\n",
      "Epoch: 0110 train_loss= 0.00052 train_rmse= 3.089456e-07 val_loss= 0.00066 val_rmse= 4.095198e-07 time= 0.04690\n",
      "Epoch: 0111 train_loss= 0.00051 train_rmse= 2.856457e-07 val_loss= 0.00064 val_rmse= 3.818363e-07 time= 0.04932\n",
      "Epoch: 0112 train_loss= 0.00053 train_rmse= 3.078862e-07 val_loss= 0.00061 val_rmse= 3.472962e-07 time= 0.06041\n",
      "Epoch: 0113 train_loss= 0.00052 train_rmse= 3.032063e-07 val_loss= 0.00059 val_rmse= 3.223725e-07 time= 0.05045\n",
      "Epoch: 0114 train_loss= 0.00051 train_rmse= 2.731647e-07 val_loss= 0.00059 val_rmse= 3.125974e-07 time= 0.04751\n",
      "Epoch: 0115 train_loss= 0.00055 train_rmse= 3.364531e-07 val_loss= 0.00058 val_rmse= 3.098105e-07 time= 0.03930\n",
      "Epoch: 0116 train_loss= 0.00054 train_rmse= 4.243210e-07 val_loss= 0.00060 val_rmse= 3.295389e-07 time= 0.04470\n",
      "Epoch: 0117 train_loss= 0.00054 train_rmse= 3.244734e-07 val_loss= 0.00061 val_rmse= 3.490174e-07 time= 0.03400\n",
      "Epoch: 0118 train_loss= 0.00053 train_rmse= 2.900615e-07 val_loss= 0.00064 val_rmse= 3.866011e-07 time= 0.03227\n",
      "Epoch: 0119 train_loss= 0.00054 train_rmse= 3.305191e-07 val_loss= 0.00066 val_rmse= 4.192302e-07 time= 0.03210\n",
      "Epoch: 0120 train_loss= 0.00058 train_rmse= 4.276308e-07 val_loss= 0.00066 val_rmse= 4.131448e-07 time= 0.03493\n",
      "Epoch: 0121 train_loss= 0.00052 train_rmse= 3.068053e-07 val_loss= 0.00062 val_rmse= 3.583785e-07 time= 0.03901\n",
      "Epoch: 0122 train_loss= 0.00051 train_rmse= 3.284042e-07 val_loss= 0.00059 val_rmse= 3.169993e-07 time= 0.05869\n",
      "Epoch: 0123 train_loss= 0.00053 train_rmse= 3.013192e-07 val_loss= 0.00059 val_rmse= 3.183591e-07 time= 0.05332\n",
      "Epoch: 0124 train_loss= 0.00052 train_rmse= 2.971908e-07 val_loss= 0.00060 val_rmse= 3.340650e-07 time= 0.06442\n",
      "Epoch: 0125 train_loss= 0.00054 train_rmse= 3.065151e-07 val_loss= 0.00062 val_rmse= 3.618350e-07 time= 0.05331\n",
      "Epoch: 0126 train_loss= 0.00051 train_rmse= 2.912685e-07 val_loss= 0.00065 val_rmse= 3.976814e-07 time= 0.06880\n",
      "Epoch: 0127 train_loss= 0.00054 train_rmse= 3.287649e-07 val_loss= 0.00068 val_rmse= 4.406266e-07 time= 0.05168\n",
      "Epoch: 0128 train_loss= 0.00050 train_rmse= 3.012154e-07 val_loss= 0.00070 val_rmse= 4.861776e-07 time= 0.04770\n",
      "Early stopping...\n",
      "Optimization Finished!\n"
     ]
    }
   ],
   "source": [
    "# Initialize weights\n",
    "sess.run(tf.global_variables_initializer())\n",
    "\n",
    "train_loss = []\n",
    "validation_loss = []\n",
    "train_rmse = []\n",
    "validation_rmse = []\n",
    "\n",
    "\n",
    "# Train model\n",
    "for epoch in range(FLAGS.epochs):\n",
    "\n",
    "    t = time.time()\n",
    "    # Construct feed dictionary\n",
    "    feed_dict = construct_feed_dict(features, support, y_train, train_mask, placeholders)\n",
    "    feed_dict.update({placeholders['dropout']: FLAGS.dropout})\n",
    "\n",
    "    # Training step\n",
    "    outs = sess.run([model.opt_op, model.loss, model.accuracy], feed_dict=feed_dict)\n",
    "    \n",
    "    # Validation\n",
    "    cost, acc, duration = evaluate(features, support, y_val, val_mask, placeholders)\n",
    "    validation_loss.append(cost)\n",
    "    validation_rmse.append(acc)\n",
    "    train_loss.append(outs[1])\n",
    "    train_rmse.append(outs[2])\n",
    "\n",
    "    # Print results\n",
    "    print(\"Epoch:\", '%04d' % (epoch + 1), \"train_loss=\", \"{:.5f}\".format(outs[1]),\n",
    "          \"train_rmse=\", \"{:e}\".format(outs[2]), \"val_loss=\", \"{:.5f}\".format(cost),\n",
    "          \"val_rmse=\", \"{:e}\".format(acc), \"time=\", \"{:.5f}\".format(time.time() - t))\n",
    "\n",
    "    if epoch > FLAGS.early_stopping and validation_loss[-1] > np.mean(validation_loss[-(FLAGS.early_stopping+1):-1]):\n",
    "        print(\"Early stopping...\")\n",
    "        break\n",
    "\n",
    "print(\"Optimization Finished!\")"
   ]
  },
  {
   "cell_type": "markdown",
   "metadata": {},
   "source": [
    "### Test"
   ]
  },
  {
   "cell_type": "code",
   "execution_count": 13,
   "metadata": {},
   "outputs": [
    {
     "name": "stdout",
     "output_type": "stream",
     "text": [
      "Test set results: cost= 0.00071, Mean square error= 4.955061e-07, time= 0.02540s.\n"
     ]
    }
   ],
   "source": [
    "# Testing\n",
    "test_cost, test_rmse, test_duration = evaluate(features, support, y_test, test_mask, placeholders)\n",
    "print(\"Test set results:\", \"cost=\", \"{:.5f},\".format(test_cost),\n",
    "      \"Mean square error=\", \"{:e},\".format(test_rmse), \"time=\", \"{:.5f}s.\".format(test_duration))"
   ]
  },
  {
   "cell_type": "code",
   "execution_count": 17,
   "metadata": {},
   "outputs": [
    {
     "data": {
      "image/png": "[encoded data removed]",
      "text/plain": [
       "<matplotlib.figure.Figure at 0x111b219b0>"
      ]
     },
     "metadata": {},
     "output_type": "display_data"
    }
   ],
   "source": [
    "import matplotlib.pyplot as plt\n",
    "fig, ax = plt.subplots(figsize = (10, 8))\n",
    "plt.plot(train_loss,label = 'train_loss')\n",
    "plt.plot(validation_loss,label='validaton_loss')\n",
    "plt.ylim(0, 0.004)\n",
    "plt.legend(prop={'size': 12})\n",
    "plt.grid(color = 'lightgray', linestyle = '--')\n",
    "plt.title('Training Loss vs. Step')\n",
    "# plt.savefig(\"6loss.png\") \n",
    "plt.show()"
   ]
  },
  {
   "cell_type": "markdown",
   "metadata": {},
   "source": [
    "## Tuning Process\n",
    "### Learning rate\n",
    "**1.png** Stop at Epoch 174, test mse = 0.00001\n",
    "- Model: Small World Model (p = 0.05)\n",
    "- Learning Rate = 0.01\n",
    "- Drop-out Rate = 0.4\n",
    "- Cost function: masked_mean_square_error\n",
    "- Evaluation function: masked_accuracy (其实是RMSE)\n",
    "- Adjacency matrix: A\n",
    "- Weight decay: Yes\n",
    "\n",
    "\n",
    "\n",
    "**2.png** Stop at Epoch 148, test mse = 9.403576e-07\n",
    "- Model: Small World Model (p = 0.05)\n",
    "- Learning Rate = 0.05\n",
    "- Drop-out Rate = 0.4\n",
    "- Cost function: masked_mean_square_error\n",
    "- Evaluation function: masked_accuracy (其实是RMSE)\n",
    "- Adjacency matrix: A\n",
    "- Weight decay: Yes\n",
    "\n",
    "\n",
    "**3.png** Stop at Epoch 177, test mse = 4.968480e-07\n",
    "- Model: Small World Model (p = 0.05)\n",
    "- Learning Rate = 0.1\n",
    "- Drop-out Rate = 0.4\n",
    "- Cost function: masked_mean_square_error\n",
    "- Evaluation function: masked_accuracy (其实是RMSE)\n",
    "- Adjacency matrix: A\n",
    "- Weight decay: Yes\n",
    "\n",
    "### Drop-out rate\n",
    "**4.png** Stop at Epoch 221, test mse = 4.405288e-06\n",
    "- Model: Small World Model (p = 0.05)\n",
    "- Learning Rate = 0.05\n",
    "- Drop-out Rate = 0.1\n",
    "- Cost function: masked_mean_square_error\n",
    "- Evaluation function: masked_accuracy (其实是RMSE)\n",
    "- Adjacency matrix: A\n",
    "- Weight decay: Yes\n",
    "\n",
    "\n",
    "**5.png** Stop at Epoch 196, test mse = 4.393734e-07\n",
    "- Model: Small World Model (p = 0.05)\n",
    "- Learning Rate = 0.05\n",
    "- Drop-out Rate = 0.5\n",
    "- Cost function: masked_mean_square_error\n",
    "- Evaluation function: masked_accuracy (其实是RMSE)\n",
    "- Adjacency matrix: A\n",
    "- Weight decay: Yes\n",
    "- 测试了好几次，到这里以上结果中case 5最理想(learning rate = 0.05, drop-out rate = 0.5), 以下的测试暂时基于这两个参数。\n",
    "\n",
    "### Cost function\n",
    "**6.png** Stop at Epoch 128, test mse = 4.955061e-07\n",
    "- Model: Small World Model (p = 0.05)\n",
    "- Learning Rate = 0.05\n",
    "- Drop-out Rate = 0.5\n",
    "- Cost function: **masked_absolute_difference**\n",
    "- Evaluation function: masked_accuracy (其实是RMSE)\n",
    "- Adjacency matrix: A\n",
    "- Weight decay: Yes\n",
    "\n",
    "**7.png** \n",
    "- Model: Small World Model (p = 0.05)\n",
    "- Learning Rate = 0.05\n",
    "- Drop-out Rate = 0.5\n",
    "- Cost function: **masked_huber_loss**\n",
    "    - 7-1: Delta = 5e-3 (Stop at Epoch 102, test mse = 2.845802e-07)\n",
    "    - 7-2: Delta = 5e-2 (Stop at Epoch 102, test mse = 3.775311e-07)\n",
    "    - 7-3: Delta = 5e-1 (Stop at Epoch 300, test mse = 3.015892e-07), probably performs the best 图片最好看\n",
    "    - 7-4: Delta = 1 (Stop at Epoch 300, test mse = 3.739734e-07)\n",
    "- Evaluation function: masked_accuracy (其实是RMSE)\n",
    "- Adjacency matrix: A\n",
    "- Weight decay: Yes"
   ]
  },
  {
   "cell_type": "markdown",
   "metadata": {},
   "source": [
    "- 若learning rate = 0.01, train_loss一开始很大，在epoch = 100左右急剧减小\n",
    "- 若learning rate = 0.05, train_loss一开始很大，在epoch = 20左右急剧减小"
   ]
  },
  {
   "cell_type": "code",
   "execution_count": 19,
   "metadata": {},
   "outputs": [
    {
     "data": {
      "image/png": "[encoded data removed]",
      "text/plain": [
       "<matplotlib.figure.Figure at 0x111ae29e8>"
      ]
     },
     "metadata": {},
     "output_type": "display_data"
    }
   ],
   "source": [
    "fig, ax = plt.subplots(figsize = (10, 8))\n",
    "plt.plot(train_rmse,label = 'train_mse')\n",
    "plt.plot(validation_rmse,label='validaton_mse')\n",
    "plt.ylim(0, 0.01)\n",
    "plt.legend(prop={'size': 12})\n",
    "plt.grid(color = 'lightgray', linestyle = '--')\n",
    "plt.title('Mean Square Error vs. Step')\n",
    "# plt.savefig(\"6mse.png\") # 保存图片放在slides上\n",
    "plt.show()"
   ]
  },
  {
   "cell_type": "markdown",
   "metadata": {},
   "source": [
    "Presentation时可以做的几个比较 （保持其余参数尽可能结果最好）：\n",
    "\n",
    "1. 不同的learning_rate (Yiming)\n",
    "2. 不同的drop_out rate (Yiming)\n",
    "3. 不同的Loss function (Yiming/ Yiqin)\n",
    "4. 有无weight_decay (Yiqin)\n",
    "5. 不同的adjacency matrix, A, A^2等等 (Yiqin)\n",
    "\n",
    "这些是train on small graphs, test on large graph?? (stanford data)\n",
    "\n",
    "Side note for Yiqin:\n",
    "现在的evaluate我是用的root mean square error，可以参见上面的注释，可能还可以试一下别的evaluation function for continuous response.\n",
    "\n",
    "我觉得presentation是图片越多越好，别人可能对定理没什么兴趣= =\n",
    "\n",
    "谢谢你啦！！\n",
    "\n",
    "\n",
    "*还需要test data"
   ]
  },
  {
   "cell_type": "code",
   "execution_count": null,
   "metadata": {
    "collapsed": true
   },
   "outputs": [],
   "source": []
  }
 ],
 "metadata": {
  "kernelspec": {
   "display_name": "Python 3",
   "language": "python",
   "name": "python3"
  },
  "language_info": {
   "codemirror_mode": {
    "name": "ipython",
    "version": 3
   },
   "file_extension": ".py",
   "mimetype": "text/x-python",
   "name": "python",
   "nbconvert_exporter": "python",
   "pygments_lexer": "ipython3",
   "version": "3.6.2"
  },
  "toc": {
   "nav_menu": {},
   "number_sections": true,
   "sideBar": false,
   "skip_h1_title": false,
   "toc_cell": true,
   "toc_position": {},
   "toc_section_display": "block",
   "toc_window_display": false
  }
 },
 "nbformat": 4,
 "nbformat_minor": 2
}
