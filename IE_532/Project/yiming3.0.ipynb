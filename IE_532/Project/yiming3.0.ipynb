{
 "cells": [
  {
   "cell_type": "markdown",
   "metadata": {},
   "source": [
    "# Code"
   ]
  },
  {
   "cell_type": "code",
   "execution_count": 3,
   "metadata": {
    "collapsed": true
   },
   "outputs": [],
   "source": [
    "import networkx as nx\n",
    "import pandas as pd\n",
    "import numpy as np\n",
    "import matplotlib.pyplot as plt\n",
    "import seaborn\n",
    "import plotly\n",
    "import plotly.plotly as py\n",
    "from plotly.graph_objs import *\n",
    "plotly.tools.set_credentials_file(username='Yiming_Gao', api_key='8aK9bpc31YdCuAqEBv7m')\n",
    "# import visJS2jupyter.visJS_module\n",
    "\n",
    "from __future__ import division\n",
    "from __future__ import print_function\n",
    "\n",
    "import time\n",
    "import tensorflow as tf\n",
    "from gcn.utils import *\n",
    "from gcn.models import Model,MLP\n",
    "from gcn.layers import *\n",
    "\n",
    "import scipy.sparse as sp\n",
    "import random"
   ]
  },
  {
   "cell_type": "markdown",
   "metadata": {},
   "source": [
    "### Input 1: Preferential Attachment Model\n",
    "\n",
    "- Model: Preferential Attachment Model\n",
    "- Learning Rate = 0.05\n",
    "- Drop-out Rate = 0.5\n",
    "- Cost function: masked_huber_loss (delta = 5e-2)\n",
    "- Evaluation function: masked_accuracy (actually it is MSE)\n",
    "- Adjacency matrix: A\n",
    "- Weight decay: Yes\n",
    "\n",
    "Result: test mse = 2.855006e-07\n",
    "\n",
    "Plot: Input1"
   ]
  },
  {
   "cell_type": "code",
   "execution_count": 4,
   "metadata": {
    "collapsed": true
   },
   "outputs": [],
   "source": [
    "G_temp = nx.barabasi_albert_graph(1000, 1)\n",
    "G = nx.DiGraph()\n",
    "G.add_edges_from(G_temp.edges()) # convert to directed model\n",
    "pr = nx.pagerank(G, alpha = 0.85) \n",
    "for i in pr.keys():\n",
    "    G[i]['score']=pr[i]\n",
    "    \n",
    "n = len(G.nodes()) # number of nodes"
   ]
  },
  {
   "cell_type": "markdown",
   "metadata": {},
   "source": [
    "### Input 2: Small World Model with Low Rewiring Probability (0.05)\n",
    "\n",
    "- Model: Small World Model with Low Rewiring Probability (0.05)\n",
    "- Learning Rate = 0.05\n",
    "- Drop-out Rate = 0.5\n",
    "- Cost function: masked_huber_loss (delta = 5e-2)\n",
    "- Evaluation function: masked_accuracy (actually it is MSE)\n",
    "- Adjacency matrix: A\n",
    "- Weight decay: Yes\n",
    "\n",
    "Result: test mse = 2.855006e-07\n",
    "\n",
    "Plot: Input2"
   ]
  },
  {
   "cell_type": "code",
   "execution_count": 2,
   "metadata": {
    "collapsed": true
   },
   "outputs": [],
   "source": [
    "G_temp = nx.watts_strogatz_graph(1000, 10, 0.05) # Small world with low rewiring probability\n",
    "# G_temp = nx.watts_strogatz_graph(1000, 10, 0.9) # Small world with high rewiring probability\n",
    "\n",
    "# initialize an empty directed graph\n",
    "G = nx.DiGraph()\n",
    "G.add_edges_from(G_temp.edges())\n",
    "\n",
    "pr = nx.pagerank(G, alpha = 0.85) \n",
    "for i in pr.keys():\n",
    "    G[i]['score']=pr[i]\n",
    "\n",
    "n = len(G.nodes()) # number of nodes"
   ]
  },
  {
   "cell_type": "markdown",
   "metadata": {},
   "source": [
    "### Input 4: Stanford Web Data"
   ]
  },
  {
   "cell_type": "code",
   "execution_count": 2,
   "metadata": {
    "collapsed": true
   },
   "outputs": [],
   "source": [
    "with open(\"web-Stanford.txt\",\"r\") as fil:\n",
    "    for _ in range(4):\n",
    "        next(fil)\n",
    "    data=[tuple([int(j) for j in i.strip().split()]) for i in fil]"
   ]
  },
  {
   "cell_type": "code",
   "execution_count": 3,
   "metadata": {
    "collapsed": true
   },
   "outputs": [],
   "source": [
    "G = nx.DiGraph()\n",
    "G.add_edges_from(data)\n",
    "\n",
    "pr = nx.pagerank(G, alpha=0.9)   #作为true response?"
   ]
  },
  {
   "cell_type": "code",
   "execution_count": 4,
   "metadata": {
    "collapsed": true
   },
   "outputs": [],
   "source": [
    "for i in pr.keys():\n",
    "    G[i]['score']=pr[i]"
   ]
  },
  {
   "cell_type": "code",
   "execution_count": 5,
   "metadata": {},
   "outputs": [
    {
     "data": {
      "text/plain": [
       "3.561215144991757e-07"
      ]
     },
     "execution_count": 5,
     "metadata": {},
     "output_type": "execute_result"
    }
   ],
   "source": [
    "G[1]['score']"
   ]
  },
  {
   "cell_type": "code",
   "execution_count": 6,
   "metadata": {
    "collapsed": true
   },
   "outputs": [],
   "source": [
    "n=len(G.nodes())"
   ]
  },
  {
   "cell_type": "markdown",
   "metadata": {},
   "source": [
    "A Sidenote:\n",
    "\n",
    "要解释什么是damping factor:\n",
    "\n",
    "The damping factor is the click-through probability, is included to prevent sinks (i.e. pages with no outgoing links) from \"absorbing\" the PageRanks of those pages connected to the sinks.  \n",
    "- You can see that if it equals to 1, the person clicking will click forever and they will always end up in a sink. \n",
    "\n",
    "- On the other hand, if the click-through probability is 0, then all clicks are random restarts, which are uniformly distributed.\n",
    "\n",
    "So, a damping factor is a weighted average between the two extremes."
   ]
  },
  {
   "cell_type": "markdown",
   "metadata": {},
   "source": [
    "### Preferential Attachment Model\n",
    "命名和上一个一样，可以先拿以下的代码试验，数据小跑起来比较快"
   ]
  },
  {
   "cell_type": "markdown",
   "metadata": {},
   "source": [
    "## Simple Neural Network"
   ]
  },
  {
   "cell_type": "markdown",
   "metadata": {},
   "source": [
    "### 测试前要看一下\n",
    "+ 之前学习率填了0.05，明显训练的时候有了误差来回变大减小又变大再减小的情况，应该要调小一点，之前作业里是0.01,我一时兴起又改大了……\n",
    "+ 用networkx里的pagerank算法出来的分数是在0-1之间，所以最后的误差出来即使是0.几，也不确定是不是很好，这里是100个点做validation。\n",
    "+ epoch可能也要调，学习率0.05的时候300差不多收敛了，但是不知道学习率改了之后是什么情况"
   ]
  },
  {
   "cell_type": "code",
   "execution_count": 5,
   "metadata": {
    "collapsed": true
   },
   "outputs": [],
   "source": [
    "# Set random seed\n",
    "seed = 123\n",
    "np.random.seed(seed)\n",
    "tf.set_random_seed(seed)\n",
    "\n",
    "# Settings\n",
    "flags = tf.app.flags\n",
    "FLAGS = flags.FLAGS\n",
    "flags.DEFINE_string('dataset', 'cora', 'Dataset string.')  # 'cora', 'citeseer', 'pubmed'  #这行应该并没有什么用\n",
    "flags.DEFINE_string('model', 'gcn', 'Model string.')  # 'gcn', 'gcn_cheby', 'dense'\n",
    "flags.DEFINE_float('learning_rate', 0.05, 'Initial learning rate.')\n",
    "#flags.DEFINE_float('learning_rate', 0.1, 'Initial learning rate.')\n",
    "flags.DEFINE_integer('epochs', 300, 'Number of epochs to train.')\n",
    "flags.DEFINE_integer('hidden1', 16, 'Number of units in hidden layer 1.')\n",
    "flags.DEFINE_float('dropout', 0.5, 'Dropout rate (1 - keep probability).')\n",
    "#flags.DEFINE_float('dropout', 0., 'Dropout rate (1 - keep probability).')\n",
    "flags.DEFINE_float('weight_decay', 5e-4, 'Weight for L2 loss on embedding matrix.')\n",
    "#flags.DEFINE_float('weight_decay', 0, 'Weight for L2 loss on embedding matrix.')\n",
    "flags.DEFINE_integer('early_stopping', 100, 'Tolerance for early stopping (# of epochs).')\n",
    "flags.DEFINE_integer('max_degree', 3, 'Maximum Chebyshev polynomial degree.')"
   ]
  },
  {
   "cell_type": "markdown",
   "metadata": {},
   "source": [
    "If you assume the target is continuous (like PageRank scores here) and normally distributed, and you maximize the likelihood of the output of the net under these assumptions, you get the MSE (combined with a linear output layer)."
   ]
  },
  {
   "cell_type": "code",
   "execution_count": 6,
   "metadata": {
    "collapsed": true
   },
   "outputs": [],
   "source": [
    "# loss function 1\n",
    "def masked_mean_square_error(preds,labels,mask):\n",
    "    \"\"\"L2 loss with masking.\"\"\"\n",
    "    loss = tf.nn.l2_loss(preds - labels)   \n",
    "    # loss = tf.nn.relu(preds - labels) Rulu loss\n",
    "    mask = tf.cast(mask, dtype=tf.float32)\n",
    "    mask /= tf.reduce_mean(mask)\n",
    "    loss *= mask\n",
    "    return tf.reduce_mean(loss)\n",
    "\n",
    "# loss function 2\n",
    "def masked_absolute_difference(preds,labels,mask):\n",
    "    \"\"\"Absolute Loss (L1 Loss) with masking\"\"\"\n",
    "    loss = tf.losses.absolute_difference(labels = labels, predictions = preds)\n",
    "    mask = tf.cast(mask, dtype=tf.float32)\n",
    "    mask /= tf.reduce_mean(mask)\n",
    "    loss *= mask\n",
    "    return tf.reduce_mean(loss)\n",
    "\n",
    "# loss function 3\n",
    "def masked_huber_loss(preds,labels,mask):\n",
    "    \"\"\"Huber with masking\"\"\"\n",
    "    # https://davidrosenberg.github.io/ml2015/docs/3a.loss-functions.pdf\n",
    "    err = tf.abs(preds - labels)\n",
    "    delta = tf.constant(5e-1)\n",
    "    quad = 0.5 * tf.square(err) # quadratic\n",
    "    lin = err - 0.5 # linear\n",
    "    loss = tf.where(err < delta, quad, lin)\n",
    "    mask = tf.cast(mask, dtype=tf.float32)\n",
    "    mask /= tf.reduce_mean(mask)\n",
    "    loss *= mask\n",
    "    return tf.reduce_mean(loss)\n",
    "\n",
    "#------------- Output layer: loss function for regression: squared loss -----------------#\n",
    "# Mean Square Error\n",
    "def masked_accuracy(preds, labels, mask):\n",
    "    \"\"\"Root Mean Square Error with masking\"\"\"\n",
    "    rmse = tf.squared_difference(preds, labels)\n",
    "    mask = tf.cast(mask, dtype=tf.float32)\n",
    "    mask /= tf.reduce_mean(mask)\n",
    "    rmse *= mask\n",
    "    return tf.reduce_mean(rmse)"
   ]
  },
  {
   "cell_type": "markdown",
   "metadata": {},
   "source": [
    "**Cross Entropy vs. Mean Square Error**\n",
    "\n",
    "Cross-entropy is prefered for **classification**, while mean squared error is one of the best choices for **regression**. This comes directly from the statement of the problems itself - in classification you work with very particular set of possible output values thus MSE is badly defined (as it does not have this kind of knowledge thus penalizes errors in incompatible way). "
   ]
  },
  {
   "cell_type": "code",
   "execution_count": 7,
   "metadata": {
    "collapsed": true
   },
   "outputs": [],
   "source": [
    "class GCN(Model):\n",
    "    def __init__(self, placeholders, input_dim, **kwargs):\n",
    "        super(GCN, self).__init__(**kwargs)\n",
    "\n",
    "        self.inputs = placeholders['features']\n",
    "        self.input_dim = input_dim\n",
    "        # self.input_dim = self.inputs.get_shape().as_list()[1]  # To be supported in future Tensorflow versions\n",
    "        self.output_dim = placeholders['labels'].get_shape().as_list()[1]\n",
    "        self.placeholders = placeholders\n",
    "\n",
    "        self.optimizer = tf.train.AdamOptimizer(learning_rate=FLAGS.learning_rate)\n",
    "\n",
    "        self.build()\n",
    "\n",
    "    def _loss(self):\n",
    "        # Weight decay loss\n",
    "        for var in self.layers[0].vars.values():\n",
    "            self.loss += FLAGS.weight_decay * tf.nn.l2_loss(var)\n",
    "\n",
    "        # loss function 1\n",
    "        # self.loss += masked_mean_square_error(self.outputs, self.placeholders['labels'],\n",
    "                                                 # self.placeholders['labels_mask'])\n",
    "        \n",
    "        # loss function 2\n",
    "        # self.loss += masked_absolute_difference(self.outputs, self.placeholders['labels'],\n",
    "                                                # self.placeholders['labels_mask'])\n",
    "        \n",
    "        # loss function 3\n",
    "        self.loss += masked_huber_loss(self.outputs, self.placeholders['labels'],\n",
    "                                       self.placeholders['labels_mask'])\n",
    "        \n",
    "\n",
    "    def _accuracy(self):\n",
    "        self.accuracy = masked_accuracy(self.outputs, self.placeholders['labels'],\n",
    "                                        self.placeholders['labels_mask'])\n",
    "\n",
    "    def _build(self):\n",
    "\n",
    "        self.layers.append(GraphConvolution(input_dim=self.input_dim,\n",
    "                                            output_dim=FLAGS.hidden1,\n",
    "                                            placeholders=self.placeholders,\n",
    "                                            act=tf.nn.relu,\n",
    "                                            dropout=True,\n",
    "                                            sparse_inputs=True,\n",
    "                                            logging=self.logging))\n",
    "\n",
    "        self.layers.append(GraphConvolution(input_dim=FLAGS.hidden1,\n",
    "                                            output_dim=self.output_dim,\n",
    "                                            placeholders=self.placeholders,\n",
    "                                            act=lambda x: x,\n",
    "                                            dropout=True,\n",
    "                                            logging=self.logging))\n",
    "\n",
    "    def predict(self):\n",
    "        return self.outputs    #tf.nn.softmax(self.outputs)"
   ]
  },
  {
   "cell_type": "code",
   "execution_count": 8,
   "metadata": {
    "collapsed": true
   },
   "outputs": [],
   "source": [
    "def preprocess_adj(adj):\n",
    "    \"\"\"Preprocessing of adjacency matrix for simple GCN model and conversion to tuple representation.\"\"\"\n",
    "    adj_normalized = normalize_adj(adj + sp.eye(adj.shape[0]))\n",
    "    return sparse_to_tuple(adj_normalized)\n",
    "\n",
    "# A^2\n",
    "#    adj_square = np.power(adj,2).tocoo()\n",
    "#    return sparse_to_tuple(adj)"
   ]
  },
  {
   "cell_type": "code",
   "execution_count": 9,
   "metadata": {
    "collapsed": true
   },
   "outputs": [],
   "source": [
    "# Randomly generate graph with 500 nodes\n",
    "adj = nx.adjacency_matrix(G)\n",
    "\n",
    "# Generate feature matrix  #there is difference between different version of networkx, 这里是用networkx 2.0. 原来1.1的用法注释掉了\n",
    "#features = sp.vstack(list(j[1] for j in G.in_degree(G.nodes())),dtype = 'float32').tolil()\n",
    "features = sp.vstack(list(G.in_degree(G.nodes()).values()),dtype = 'float32').tolil()   \n",
    "\n",
    "# Feed labels to 20 nodes\n",
    "label = []\n",
    "for i in G.nodes():\n",
    "    #label.append(G.nodes[i]['score']) 我用的1.1语法-yiming\n",
    "    label.append(G[i]['score'])\n",
    "        \n",
    "alabel = np.array(label, dtype='float64')\n",
    "\n",
    "idx_train = range(700)\n",
    "idx_val = range(700, 700 + 100) #20000改到500 for preferential attachment model\n",
    "idx_test = range(800, 1000)\n",
    "\n",
    "y_train = np.zeros([n, 1])   # n is number of total nodes\n",
    "train_mask = np.zeros([n, ], dtype = 'bool')\n",
    "for i in idx_train:\n",
    "    y_train[i] = alabel[i]\n",
    "    train_mask[i] = True\n",
    "\n",
    "y_val = np.zeros([n, 1])\n",
    "val_mask = np.zeros([n, ], dtype = 'bool')\n",
    "for i in idx_val:\n",
    "    y_val[i] = alabel[i]\n",
    "    val_mask[i] = True\n",
    "    \n",
    "# Test data\n",
    "y_test = np.zeros([n, 1])\n",
    "test_mask = np.zeros([n, ], dtype = 'bool')\n",
    "for i in idx_test:\n",
    "    y_test[i] = alabel[i]\n",
    "    test_mask[i] = True"
   ]
  },
  {
   "cell_type": "code",
   "execution_count": 10,
   "metadata": {},
   "outputs": [
    {
     "name": "stderr",
     "output_type": "stream",
     "text": [
      "/Users/Yiming/Desktop/Homework/IE 532/Project/gcn/utils.py:97: RuntimeWarning:\n",
      "\n",
      "divide by zero encountered in power\n",
      "\n"
     ]
    }
   ],
   "source": [
    "# Load data\n",
    "#adj, features, y_train, y_val, y_test, train_mask, val_mask, test_mask = load_data(FLAGS.dataset)\n",
    "\n",
    "# Some preprocessing\n",
    "features = preprocess_features(features)\n",
    "if FLAGS.model == 'gcn':\n",
    "    support = [preprocess_adj(adj)]\n",
    "    num_supports = 1\n",
    "    model_func = GCN\n",
    "elif FLAGS.model == 'gcn_cheby':\n",
    "    support = chebyshev_polynomials(adj, FLAGS.max_degree)\n",
    "    num_supports = 1 + FLAGS.max_degree\n",
    "    model_func = GCN\n",
    "elif FLAGS.model == 'dense':\n",
    "    support = [preprocess_adj(adj)]  # Not used\n",
    "    num_supports = 1\n",
    "    model_func = MLP\n",
    "else:\n",
    "    raise ValueError('Invalid argument for model: ' + str(FLAGS.model))\n",
    "\n",
    "# Define placeholders\n",
    "placeholders = {\n",
    "    'support': [tf.sparse_placeholder(tf.float32) for _ in range(num_supports)],\n",
    "    'features': tf.sparse_placeholder(tf.float32, shape=tf.constant(features[2], dtype=tf.int64)),\n",
    "    'labels': tf.placeholder(tf.float32, shape=(None, y_train.shape[1])),\n",
    "    'labels_mask': tf.placeholder(tf.int32),\n",
    "    'dropout': tf.placeholder_with_default(0., shape=()),\n",
    "    'num_features_nonzero': tf.placeholder(tf.int32)  # helper variable for sparse dropout\n",
    "}\n",
    "\n",
    "# Create model\n",
    "model = model_func(placeholders, input_dim=features[2][1], logging=True)\n",
    "\n",
    "# Initialize session\n",
    "sess = tf.Session()\n",
    "\n",
    "\n",
    "# Define model evaluation function\n",
    "def evaluate(features, support, labels, mask, placeholders):\n",
    "    t_test = time.time()\n",
    "    feed_dict_val = construct_feed_dict(features, support, labels, mask, placeholders)\n",
    "    outs_val = sess.run([model.loss, model.accuracy], feed_dict=feed_dict_val)\n",
    "    return outs_val[0], outs_val[1], (time.time() - t_test)"
   ]
  },
  {
   "cell_type": "code",
   "execution_count": 11,
   "metadata": {},
   "outputs": [
    {
     "name": "stdout",
     "output_type": "stream",
     "text": [
      "Epoch: 0001 train_loss= 0.20563 train_rmse= 5.162268e-01 val_loss= 0.00452 val_rmse= 7.954833e-03 time= 0.12229\n",
      "Epoch: 0002 train_loss= 0.13214 train_rmse= 3.104110e-01 val_loss= 0.00443 val_rmse= 7.992121e-03 time= 0.09303\n",
      "Epoch: 0003 train_loss= 0.09756 train_rmse= 2.185351e-01 val_loss= 0.00187 val_rmse= 3.051306e-03 time= 0.09234\n",
      "Epoch: 0004 train_loss= 0.06328 train_rmse= 1.443176e-01 val_loss= 0.00043 val_rmse= 3.302853e-04 time= 0.11048\n",
      "Epoch: 0005 train_loss= 0.03172 train_rmse= 7.589318e-02 val_loss= 0.00038 val_rmse= 3.689654e-04 time= 0.15717\n",
      "Epoch: 0006 train_loss= 0.02278 train_rmse= 5.278027e-02 val_loss= 0.00027 val_rmse= 2.370296e-04 time= 0.12916\n",
      "Epoch: 0007 train_loss= 0.01198 train_rmse= 2.646612e-02 val_loss= 0.00027 val_rmse= 3.162369e-04 time= 0.09423\n",
      "Epoch: 0008 train_loss= 0.00614 train_rmse= 1.244932e-02 val_loss= 0.00041 val_rmse= 6.585531e-04 time= 0.09427\n",
      "Epoch: 0009 train_loss= 0.00389 train_rmse= 7.608938e-03 val_loss= 0.00019 val_rmse= 2.418121e-04 time= 0.10815\n",
      "Epoch: 0010 train_loss= 0.00188 train_rmse= 3.629048e-03 val_loss= 0.00018 val_rmse= 2.470609e-04 time= 0.09676\n",
      "Epoch: 0011 train_loss= 0.00100 train_rmse= 1.890692e-03 val_loss= 0.00024 val_rmse= 3.737505e-04 time= 0.13588\n",
      "Epoch: 0012 train_loss= 0.00073 train_rmse= 1.368057e-03 val_loss= 0.00019 val_rmse= 2.845764e-04 time= 0.16508\n",
      "Epoch: 0013 train_loss= 0.00045 train_rmse= 7.937239e-04 val_loss= 0.00012 val_rmse= 1.459668e-04 time= 0.12151\n",
      "Epoch: 0014 train_loss= 0.00049 train_rmse= 8.836671e-04 val_loss= 0.00006 val_rmse= 1.448303e-05 time= 0.09719\n",
      "Epoch: 0015 train_loss= 0.00056 train_rmse= 1.010365e-03 val_loss= 0.00009 val_rmse= 7.346159e-05 time= 0.09576\n",
      "Epoch: 0016 train_loss= 0.00053 train_rmse= 9.383172e-04 val_loss= 0.00015 val_rmse= 1.806001e-04 time= 0.11173\n",
      "Epoch: 0017 train_loss= 0.00052 train_rmse= 9.202682e-04 val_loss= 0.00017 val_rmse= 2.140587e-04 time= 0.09792\n",
      "Epoch: 0018 train_loss= 0.00049 train_rmse= 8.362306e-04 val_loss= 0.00016 val_rmse= 1.677372e-04 time= 0.11166\n",
      "Epoch: 0019 train_loss= 0.00040 train_rmse= 6.550105e-04 val_loss= 0.00012 val_rmse= 7.979306e-05 time= 0.12409\n",
      "Epoch: 0020 train_loss= 0.00029 train_rmse= 4.245922e-04 val_loss= 0.00010 val_rmse= 1.754703e-05 time= 0.10839\n",
      "Epoch: 0021 train_loss= 0.00021 train_rmse= 2.525547e-04 val_loss= 0.00009 val_rmse= 2.616653e-07 time= 0.10111\n",
      "Epoch: 0022 train_loss= 0.00018 train_rmse= 1.728491e-04 val_loss= 0.00010 val_rmse= 3.072920e-06 time= 0.09482\n",
      "Epoch: 0023 train_loss= 0.00015 train_rmse= 9.569647e-05 val_loss= 0.00011 val_rmse= 7.704763e-06 time= 0.11206\n",
      "Epoch: 0024 train_loss= 0.00013 train_rmse= 5.040528e-05 val_loss= 0.00011 val_rmse= 1.089666e-05 time= 0.09491\n",
      "Epoch: 0025 train_loss= 0.00012 train_rmse= 2.866897e-05 val_loss= 0.00012 val_rmse= 8.859564e-06 time= 0.09684\n",
      "Epoch: 0026 train_loss= 0.00012 train_rmse= 1.868691e-05 val_loss= 0.00012 val_rmse= 1.052303e-05 time= 0.11064\n",
      "Epoch: 0027 train_loss= 0.00013 train_rmse= 2.445888e-05 val_loss= 0.00013 val_rmse= 1.639866e-05 time= 0.09421\n",
      "Epoch: 0028 train_loss= 0.00014 train_rmse= 4.026475e-05 val_loss= 0.00014 val_rmse= 2.290417e-05 time= 0.09510\n",
      "Epoch: 0029 train_loss= 0.00016 train_rmse= 5.865432e-05 val_loss= 0.00014 val_rmse= 2.788061e-05 time= 0.11091\n",
      "Epoch: 0030 train_loss= 0.00017 train_rmse= 7.317074e-05 val_loss= 0.00015 val_rmse= 3.079202e-05 time= 0.09838\n",
      "Epoch: 0031 train_loss= 0.00017 train_rmse= 7.953492e-05 val_loss= 0.00015 val_rmse= 3.157820e-05 time= 0.09982\n",
      "Epoch: 0032 train_loss= 0.00018 train_rmse= 8.287428e-05 val_loss= 0.00015 val_rmse= 3.043755e-05 time= 0.10983\n",
      "Epoch: 0033 train_loss= 0.00018 train_rmse= 7.959720e-05 val_loss= 0.00015 val_rmse= 2.779143e-05 time= 0.10255\n",
      "Epoch: 0034 train_loss= 0.00018 train_rmse= 7.161024e-05 val_loss= 0.00015 val_rmse= 2.416148e-05 time= 0.16716\n",
      "Epoch: 0035 train_loss= 0.00017 train_rmse= 5.516618e-05 val_loss= 0.00015 val_rmse= 2.016326e-05 time= 0.17081\n",
      "Epoch: 0036 train_loss= 0.00017 train_rmse= 4.834386e-05 val_loss= 0.00015 val_rmse= 1.611119e-05 time= 0.13835\n",
      "Epoch: 0037 train_loss= 0.00017 train_rmse= 4.436627e-05 val_loss= 0.00015 val_rmse= 1.220309e-05 time= 0.11600\n",
      "Epoch: 0038 train_loss= 0.00016 train_rmse= 3.444612e-05 val_loss= 0.00015 val_rmse= 8.697561e-06 time= 0.09742\n",
      "Epoch: 0039 train_loss= 0.00016 train_rmse= 2.245388e-05 val_loss= 0.00015 val_rmse= 5.795648e-06 time= 0.09520\n",
      "Epoch: 0040 train_loss= 0.00015 train_rmse= 1.417499e-05 val_loss= 0.00015 val_rmse= 3.553982e-06 time= 0.11120\n",
      "Epoch: 0041 train_loss= 0.00015 train_rmse= 1.011438e-05 val_loss= 0.00015 val_rmse= 1.928076e-06 time= 0.10398\n",
      "Epoch: 0042 train_loss= 0.00015 train_rmse= 5.788540e-06 val_loss= 0.00015 val_rmse= 8.693680e-07 time= 0.11552\n",
      "Epoch: 0043 train_loss= 0.00015 train_rmse= 2.598370e-06 val_loss= 0.00014 val_rmse= 3.024444e-07 time= 0.12147\n",
      "Epoch: 0044 train_loss= 0.00015 train_rmse= 1.055401e-06 val_loss= 0.00014 val_rmse= 1.260443e-07 time= 0.10414\n",
      "Epoch: 0045 train_loss= 0.00014 train_rmse= 5.041186e-07 val_loss= 0.00014 val_rmse= 2.374242e-07 time= 0.16212\n",
      "Epoch: 0046 train_loss= 0.00014 train_rmse= 7.436904e-07 val_loss= 0.00014 val_rmse= 5.384729e-07 time= 0.16724\n",
      "Epoch: 0047 train_loss= 0.00014 train_rmse= 1.380787e-06 val_loss= 0.00014 val_rmse= 9.440978e-07 time= 0.14382\n",
      "Epoch: 0048 train_loss= 0.00014 train_rmse= 2.662553e-06 val_loss= 0.00014 val_rmse= 1.376650e-06 time= 0.11234\n",
      "Epoch: 0049 train_loss= 0.00014 train_rmse= 3.754628e-06 val_loss= 0.00014 val_rmse= 1.780792e-06 time= 0.09838\n",
      "Epoch: 0050 train_loss= 0.00014 train_rmse= 4.971887e-06 val_loss= 0.00014 val_rmse= 2.113423e-06 time= 0.09892\n",
      "Epoch: 0051 train_loss= 0.00014 train_rmse= 5.707092e-06 val_loss= 0.00014 val_rmse= 2.352421e-06 time= 0.11170\n",
      "Epoch: 0052 train_loss= 0.00014 train_rmse= 5.653776e-06 val_loss= 0.00014 val_rmse= 2.497150e-06 time= 0.10754\n",
      "Epoch: 0053 train_loss= 0.00014 train_rmse= 6.899720e-06 val_loss= 0.00013 val_rmse= 2.535128e-06 time= 0.13325\n",
      "Epoch: 0054 train_loss= 0.00014 train_rmse= 6.728290e-06 val_loss= 0.00013 val_rmse= 2.480282e-06 time= 0.15487\n",
      "Epoch: 0055 train_loss= 0.00014 train_rmse= 6.540190e-06 val_loss= 0.00013 val_rmse= 2.347031e-06 time= 0.16126\n",
      "Epoch: 0056 train_loss= 0.00013 train_rmse= 5.854226e-06 val_loss= 0.00013 val_rmse= 2.158314e-06 time= 0.11183\n",
      "Epoch: 0057 train_loss= 0.00013 train_rmse= 6.159879e-06 val_loss= 0.00013 val_rmse= 1.921685e-06 time= 0.09678\n",
      "Epoch: 0058 train_loss= 0.00013 train_rmse= 5.137722e-06 val_loss= 0.00013 val_rmse= 1.662605e-06 time= 0.09571\n",
      "Epoch: 0059 train_loss= 0.00013 train_rmse= 4.376085e-06 val_loss= 0.00013 val_rmse= 1.399523e-06 time= 0.12612\n",
      "Epoch: 0060 train_loss= 0.00013 train_rmse= 3.625119e-06 val_loss= 0.00012 val_rmse= 1.146928e-06 time= 0.13186\n",
      "Epoch: 0061 train_loss= 0.00012 train_rmse= 2.969758e-06 val_loss= 0.00012 val_rmse= 9.145980e-07 time= 0.17487\n",
      "Epoch: 0062 train_loss= 0.00012 train_rmse= 2.454777e-06 val_loss= 0.00012 val_rmse= 7.094882e-07 time= 0.14777\n",
      "Epoch: 0063 train_loss= 0.00012 train_rmse= 2.051671e-06 val_loss= 0.00012 val_rmse= 5.346093e-07 time= 0.12256\n",
      "Epoch: 0064 train_loss= 0.00012 train_rmse= 1.591129e-06 val_loss= 0.00012 val_rmse= 3.925058e-07 time= 0.09579\n",
      "Epoch: 0065 train_loss= 0.00012 train_rmse= 1.079258e-06 val_loss= 0.00012 val_rmse= 2.845084e-07 time= 0.12475\n",
      "Epoch: 0066 train_loss= 0.00012 train_rmse= 8.043642e-07 val_loss= 0.00011 val_rmse= 2.081222e-07 time= 0.18986\n",
      "Epoch: 0067 train_loss= 0.00011 train_rmse= 6.451650e-07 val_loss= 0.00011 val_rmse= 1.592878e-07 time= 0.17202\n",
      "Epoch: 0068 train_loss= 0.00011 train_rmse= 5.292703e-07 val_loss= 0.00011 val_rmse= 1.333783e-07 time= 0.13761\n",
      "Epoch: 0069 train_loss= 0.00011 train_rmse= 4.940111e-07 val_loss= 0.00011 val_rmse= 1.256265e-07 time= 0.17378\n",
      "Epoch: 0070 train_loss= 0.00011 train_rmse= 4.987226e-07 val_loss= 0.00011 val_rmse= 1.312162e-07 time= 0.12752\n",
      "Epoch: 0071 train_loss= 0.00011 train_rmse= 5.287880e-07 val_loss= 0.00011 val_rmse= 1.457182e-07 time= 0.10578\n",
      "Epoch: 0072 train_loss= 0.00011 train_rmse= 5.801206e-07 val_loss= 0.00011 val_rmse= 1.650991e-07 time= 0.17930\n",
      "Epoch: 0073 train_loss= 0.00011 train_rmse= 6.484943e-07 val_loss= 0.00011 val_rmse= 1.859437e-07 time= 0.19059\n",
      "Epoch: 0074 train_loss= 0.00011 train_rmse= 7.087044e-07 val_loss= 0.00010 val_rmse= 2.057676e-07 time= 0.13872\n"
     ]
    },
    {
     "name": "stdout",
     "output_type": "stream",
     "text": [
      "Epoch: 0075 train_loss= 0.00010 train_rmse= 7.827374e-07 val_loss= 0.00010 val_rmse= 2.225020e-07 time= 0.23023\n",
      "Epoch: 0076 train_loss= 0.00010 train_rmse= 8.161011e-07 val_loss= 0.00010 val_rmse= 2.351595e-07 time= 0.14908\n",
      "Epoch: 0077 train_loss= 0.00010 train_rmse= 8.491381e-07 val_loss= 0.00010 val_rmse= 2.432398e-07 time= 0.12504\n",
      "Epoch: 0078 train_loss= 0.00010 train_rmse= 8.596820e-07 val_loss= 0.00010 val_rmse= 2.467490e-07 time= 0.09784\n",
      "Epoch: 0079 train_loss= 0.00010 train_rmse= 8.803771e-07 val_loss= 0.00010 val_rmse= 2.458497e-07 time= 0.11387\n",
      "Epoch: 0080 train_loss= 0.00010 train_rmse= 9.063442e-07 val_loss= 0.00010 val_rmse= 2.353928e-07 time= 0.21471\n",
      "Epoch: 0081 train_loss= 0.00010 train_rmse= 8.479263e-07 val_loss= 0.00010 val_rmse= 1.333333e-07 time= 0.10493\n",
      "Epoch: 0082 train_loss= 0.00010 train_rmse= 7.357627e-07 val_loss= 0.00010 val_rmse= 2.299558e-07 time= 0.20344\n",
      "Epoch: 0083 train_loss= 0.00010 train_rmse= 1.078681e-06 val_loss= 0.00009 val_rmse= 1.438923e-07 time= 0.12326\n",
      "Epoch: 0084 train_loss= 0.00009 train_rmse= 6.801758e-07 val_loss= 0.00009 val_rmse= 1.629674e-07 time= 0.12300\n",
      "Epoch: 0085 train_loss= 0.00009 train_rmse= 6.734988e-07 val_loss= 0.00009 val_rmse= 2.018863e-07 time= 0.11336\n",
      "Epoch: 0086 train_loss= 0.00009 train_rmse= 7.604347e-07 val_loss= 0.00009 val_rmse= 1.923168e-07 time= 0.11512\n",
      "Epoch: 0087 train_loss= 0.00009 train_rmse= 7.300448e-07 val_loss= 0.00009 val_rmse= 1.820821e-07 time= 0.09884\n",
      "Epoch: 0088 train_loss= 0.00009 train_rmse= 7.071048e-07 val_loss= 0.00009 val_rmse= 1.716698e-07 time= 0.10842\n",
      "Epoch: 0089 train_loss= 0.00009 train_rmse= 6.650586e-07 val_loss= 0.00009 val_rmse= 1.617628e-07 time= 0.18078\n",
      "Epoch: 0090 train_loss= 0.00009 train_rmse= 6.308246e-07 val_loss= 0.00009 val_rmse= 1.527873e-07 time= 0.20899\n",
      "Epoch: 0091 train_loss= 0.00009 train_rmse= 5.989530e-07 val_loss= 0.00009 val_rmse= 1.450659e-07 time= 0.15470\n",
      "Epoch: 0092 train_loss= 0.00009 train_rmse= 5.776236e-07 val_loss= 0.00009 val_rmse= 1.386385e-07 time= 0.13232\n",
      "Epoch: 0093 train_loss= 0.00009 train_rmse= 5.546899e-07 val_loss= 0.00009 val_rmse= 1.335594e-07 time= 0.09476\n",
      "Epoch: 0094 train_loss= 0.00009 train_rmse= 5.396863e-07 val_loss= 0.00008 val_rmse= 1.298575e-07 time= 0.11519\n",
      "Epoch: 0095 train_loss= 0.00008 train_rmse= 5.226224e-07 val_loss= 0.00008 val_rmse= 1.273959e-07 time= 0.16110\n",
      "Epoch: 0096 train_loss= 0.00008 train_rmse= 5.014583e-07 val_loss= 0.00008 val_rmse= 1.260322e-07 time= 0.16769\n",
      "Epoch: 0097 train_loss= 0.00008 train_rmse= 5.014315e-07 val_loss= 0.00008 val_rmse= 1.256273e-07 time= 0.11847\n",
      "Epoch: 0098 train_loss= 0.00008 train_rmse= 5.078732e-07 val_loss= 0.00008 val_rmse= 1.259670e-07 time= 0.15445\n",
      "Epoch: 0099 train_loss= 0.00008 train_rmse= 4.929017e-07 val_loss= 0.00008 val_rmse= 1.268706e-07 time= 0.18003\n",
      "Epoch: 0100 train_loss= 0.00008 train_rmse= 5.003482e-07 val_loss= 0.00008 val_rmse= 1.281532e-07 time= 0.19037\n",
      "Epoch: 0101 train_loss= 0.00008 train_rmse= 5.007473e-07 val_loss= 0.00008 val_rmse= 1.296509e-07 time= 0.09682\n",
      "Epoch: 0102 train_loss= 0.00008 train_rmse= 5.003855e-07 val_loss= 0.00008 val_rmse= 1.312003e-07 time= 0.11151\n",
      "Epoch: 0103 train_loss= 0.00008 train_rmse= 4.944025e-07 val_loss= 0.00008 val_rmse= 1.327045e-07 time= 0.12654\n",
      "Epoch: 0104 train_loss= 0.00008 train_rmse= 4.897709e-07 val_loss= 0.00008 val_rmse= 1.340760e-07 time= 0.10970\n",
      "Epoch: 0105 train_loss= 0.00008 train_rmse= 5.162204e-07 val_loss= 0.00008 val_rmse= 1.352245e-07 time= 0.18684\n",
      "Epoch: 0106 train_loss= 0.00008 train_rmse= 5.000265e-07 val_loss= 0.00008 val_rmse= 1.361216e-07 time= 0.17433\n",
      "Epoch: 0107 train_loss= 0.00008 train_rmse= 5.043029e-07 val_loss= 0.00008 val_rmse= 1.367480e-07 time= 0.18341\n",
      "Epoch: 0108 train_loss= 0.00008 train_rmse= 5.037678e-07 val_loss= 0.00007 val_rmse= 1.335842e-07 time= 0.22667\n",
      "Epoch: 0109 train_loss= 0.00007 train_rmse= 5.170564e-07 val_loss= 0.00007 val_rmse= 1.372572e-07 time= 0.15939\n",
      "Epoch: 0110 train_loss= 0.00007 train_rmse= 5.127180e-07 val_loss= 0.00007 val_rmse= 1.371856e-07 time= 0.21718\n",
      "Epoch: 0111 train_loss= 0.00007 train_rmse= 5.066306e-07 val_loss= 0.00007 val_rmse= 1.368934e-07 time= 0.12836\n",
      "Epoch: 0112 train_loss= 0.00007 train_rmse= 5.106147e-07 val_loss= 0.00007 val_rmse= 1.363950e-07 time= 0.10820\n",
      "Epoch: 0113 train_loss= 0.00007 train_rmse= 5.085116e-07 val_loss= 0.00007 val_rmse= 1.357494e-07 time= 0.21215\n",
      "Epoch: 0114 train_loss= 0.00007 train_rmse= 4.888788e-07 val_loss= 0.00007 val_rmse= 1.350201e-07 time= 0.16280\n",
      "Epoch: 0115 train_loss= 0.00007 train_rmse= 5.089419e-07 val_loss= 0.00007 val_rmse= 1.342191e-07 time= 0.22274\n",
      "Epoch: 0116 train_loss= 0.00007 train_rmse= 4.900407e-07 val_loss= 0.00007 val_rmse= 1.334258e-07 time= 0.11171\n",
      "Epoch: 0117 train_loss= 0.00007 train_rmse= 5.043754e-07 val_loss= 0.00007 val_rmse= 1.325763e-07 time= 0.09981\n",
      "Epoch: 0118 train_loss= 0.00007 train_rmse= 5.016754e-07 val_loss= 0.00007 val_rmse= 1.317498e-07 time= 0.10821\n",
      "Epoch: 0119 train_loss= 0.00007 train_rmse= 5.049574e-07 val_loss= 0.00007 val_rmse= 1.309322e-07 time= 0.18542\n",
      "Epoch: 0120 train_loss= 0.00007 train_rmse= 5.068520e-07 val_loss= 0.00007 val_rmse= 1.301474e-07 time= 0.13972\n",
      "Epoch: 0121 train_loss= 0.00007 train_rmse= 4.979236e-07 val_loss= 0.00007 val_rmse= 1.294027e-07 time= 0.10809\n",
      "Epoch: 0122 train_loss= 0.00007 train_rmse= 4.866433e-07 val_loss= 0.00007 val_rmse= 1.287485e-07 time= 0.09710\n",
      "Epoch: 0123 train_loss= 0.00007 train_rmse= 4.944034e-07 val_loss= 0.00007 val_rmse= 1.281793e-07 time= 0.09676\n",
      "Epoch: 0124 train_loss= 0.00007 train_rmse= 4.869823e-07 val_loss= 0.00007 val_rmse= 1.276972e-07 time= 0.11156\n",
      "Epoch: 0125 train_loss= 0.00007 train_rmse= 5.097226e-07 val_loss= 0.00007 val_rmse= 1.272710e-07 time= 0.17564\n",
      "Epoch: 0126 train_loss= 0.00007 train_rmse= 5.018758e-07 val_loss= 0.00006 val_rmse= 1.288578e-07 time= 0.17298\n",
      "Epoch: 0127 train_loss= 0.00007 train_rmse= 4.836386e-07 val_loss= 0.00006 val_rmse= 1.743627e-07 time= 0.19001\n",
      "Epoch: 0128 train_loss= 0.00006 train_rmse= 4.968735e-07 val_loss= 0.00006 val_rmse= 1.629355e-07 time= 0.11165\n",
      "Epoch: 0129 train_loss= 0.00006 train_rmse= 4.800486e-07 val_loss= 0.00006 val_rmse= 1.263105e-07 time= 0.09709\n",
      "Epoch: 0130 train_loss= 0.00006 train_rmse= 4.921544e-07 val_loss= 0.00006 val_rmse= 1.259041e-07 time= 0.09737\n",
      "Epoch: 0131 train_loss= 0.00006 train_rmse= 4.833598e-07 val_loss= 0.00006 val_rmse= 1.257851e-07 time= 0.17028\n",
      "Epoch: 0132 train_loss= 0.00006 train_rmse= 4.897184e-07 val_loss= 0.00006 val_rmse= 1.257098e-07 time= 0.18877\n",
      "Epoch: 0133 train_loss= 0.00006 train_rmse= 4.875923e-07 val_loss= 0.00006 val_rmse= 1.256701e-07 time= 0.12234\n",
      "Epoch: 0134 train_loss= 0.00006 train_rmse= 5.003143e-07 val_loss= 0.00006 val_rmse= 1.259154e-07 time= 0.22412\n",
      "Epoch: 0135 train_loss= 0.00006 train_rmse= 4.852986e-07 val_loss= 0.00006 val_rmse= 1.396238e-07 time= 0.12893\n",
      "Epoch: 0136 train_loss= 0.00006 train_rmse= 4.813792e-07 val_loss= 0.00006 val_rmse= 1.632241e-07 time= 0.12110\n",
      "Epoch: 0137 train_loss= 0.00006 train_rmse= 4.948196e-07 val_loss= 0.00006 val_rmse= 1.523126e-07 time= 0.16355\n",
      "Epoch: 0138 train_loss= 0.00006 train_rmse= 4.920984e-07 val_loss= 0.00006 val_rmse= 1.308152e-07 time= 0.15348\n",
      "Epoch: 0139 train_loss= 0.00006 train_rmse= 4.631274e-07 val_loss= 0.00006 val_rmse= 1.256578e-07 time= 0.19010\n",
      "Epoch: 0140 train_loss= 0.00006 train_rmse= 4.893592e-07 val_loss= 0.00006 val_rmse= 1.265861e-07 time= 0.12540\n",
      "Epoch: 0141 train_loss= 0.00006 train_rmse= 4.892440e-07 val_loss= 0.00006 val_rmse= 1.394221e-07 time= 0.09686\n",
      "Epoch: 0142 train_loss= 0.00006 train_rmse= 4.658498e-07 val_loss= 0.00006 val_rmse= 1.569300e-07 time= 0.12433\n",
      "Epoch: 0143 train_loss= 0.00006 train_rmse= 4.935085e-07 val_loss= 0.00006 val_rmse= 1.476237e-07 time= 0.17887\n",
      "Epoch: 0144 train_loss= 0.00006 train_rmse= 4.989174e-07 val_loss= 0.00006 val_rmse= 1.269368e-07 time= 0.19951\n",
      "Epoch: 0145 train_loss= 0.00006 train_rmse= 4.785695e-07 val_loss= 0.00006 val_rmse= 1.256709e-07 time= 0.13561\n",
      "Epoch: 0146 train_loss= 0.00006 train_rmse= 4.830657e-07 val_loss= 0.00006 val_rmse= 1.299092e-07 time= 0.15758\n",
      "Epoch: 0147 train_loss= 0.00006 train_rmse= 4.826543e-07 val_loss= 0.00006 val_rmse= 1.457023e-07 time= 0.13976\n",
      "Epoch: 0148 train_loss= 0.00006 train_rmse= 4.851016e-07 val_loss= 0.00006 val_rmse= 1.511435e-07 time= 0.15276\n",
      "Epoch: 0149 train_loss= 0.00006 train_rmse= 4.746146e-07 val_loss= 0.00006 val_rmse= 1.373785e-07 time= 0.15049\n"
     ]
    },
    {
     "name": "stdout",
     "output_type": "stream",
     "text": [
      "Epoch: 0150 train_loss= 0.00006 train_rmse= 4.871106e-07 val_loss= 0.00006 val_rmse= 1.268633e-07 time= 0.15732\n",
      "Epoch: 0151 train_loss= 0.00006 train_rmse= 4.885153e-07 val_loss= 0.00006 val_rmse= 1.258592e-07 time= 0.11750\n",
      "Epoch: 0152 train_loss= 0.00006 train_rmse= 4.699885e-07 val_loss= 0.00005 val_rmse= 1.341986e-07 time= 0.15594\n",
      "Epoch: 0153 train_loss= 0.00006 train_rmse= 4.791384e-07 val_loss= 0.00005 val_rmse= 1.472722e-07 time= 0.16145\n",
      "Epoch: 0154 train_loss= 0.00005 train_rmse= 4.773357e-07 val_loss= 0.00005 val_rmse= 1.503534e-07 time= 0.18637\n",
      "Epoch: 0155 train_loss= 0.00005 train_rmse= 4.929123e-07 val_loss= 0.00005 val_rmse= 1.314615e-07 time= 0.15075\n",
      "Epoch: 0156 train_loss= 0.00005 train_rmse= 4.867704e-07 val_loss= 0.00005 val_rmse= 1.256355e-07 time= 0.12660\n",
      "Epoch: 0157 train_loss= 0.00005 train_rmse= 4.856414e-07 val_loss= 0.00005 val_rmse= 1.264119e-07 time= 0.09951\n",
      "Epoch: 0158 train_loss= 0.00005 train_rmse= 4.853049e-07 val_loss= 0.00005 val_rmse= 1.385078e-07 time= 0.11381\n",
      "Epoch: 0159 train_loss= 0.00005 train_rmse= 4.888777e-07 val_loss= 0.00005 val_rmse= 1.449228e-07 time= 0.20087\n",
      "Epoch: 0160 train_loss= 0.00005 train_rmse= 4.838554e-07 val_loss= 0.00005 val_rmse= 1.334305e-07 time= 0.16151\n",
      "Epoch: 0161 train_loss= 0.00005 train_rmse= 4.652045e-07 val_loss= 0.00005 val_rmse= 1.284958e-07 time= 0.16317\n",
      "Epoch: 0162 train_loss= 0.00005 train_rmse= 4.746355e-07 val_loss= 0.00005 val_rmse= 1.287079e-07 time= 0.15021\n",
      "Epoch: 0163 train_loss= 0.00005 train_rmse= 4.772860e-07 val_loss= 0.00005 val_rmse= 1.319930e-07 time= 0.12506\n",
      "Epoch: 0164 train_loss= 0.00005 train_rmse= 4.808910e-07 val_loss= 0.00005 val_rmse= 1.346017e-07 time= 0.11652\n",
      "Epoch: 0165 train_loss= 0.00005 train_rmse= 4.560050e-07 val_loss= 0.00005 val_rmse= 1.385079e-07 time= 0.17326\n",
      "Epoch: 0166 train_loss= 0.00005 train_rmse= 4.739963e-07 val_loss= 0.00005 val_rmse= 1.328514e-07 time= 0.13374\n",
      "Epoch: 0167 train_loss= 0.00005 train_rmse= 4.710164e-07 val_loss= 0.00005 val_rmse= 1.277509e-07 time= 0.14112\n",
      "Epoch: 0168 train_loss= 0.00005 train_rmse= 4.673762e-07 val_loss= 0.00005 val_rmse= 1.276904e-07 time= 0.15273\n",
      "Epoch: 0169 train_loss= 0.00005 train_rmse= 4.722327e-07 val_loss= 0.00005 val_rmse= 1.316086e-07 time= 0.14863\n",
      "Epoch: 0170 train_loss= 0.00005 train_rmse= 4.681409e-07 val_loss= 0.00005 val_rmse= 1.391334e-07 time= 0.12244\n",
      "Epoch: 0171 train_loss= 0.00005 train_rmse= 4.673487e-07 val_loss= 0.00005 val_rmse= 1.401308e-07 time= 0.14305\n",
      "Epoch: 0172 train_loss= 0.00005 train_rmse= 4.638721e-07 val_loss= 0.00005 val_rmse= 1.329705e-07 time= 0.12434\n",
      "Epoch: 0173 train_loss= 0.00005 train_rmse= 4.637051e-07 val_loss= 0.00005 val_rmse= 1.297175e-07 time= 0.11056\n",
      "Epoch: 0174 train_loss= 0.00005 train_rmse= 4.759416e-07 val_loss= 0.00005 val_rmse= 1.273753e-07 time= 0.09944\n",
      "Epoch: 0175 train_loss= 0.00005 train_rmse= 4.853214e-07 val_loss= 0.00005 val_rmse= 1.279569e-07 time= 0.09495\n",
      "Epoch: 0176 train_loss= 0.00005 train_rmse= 4.686898e-07 val_loss= 0.00005 val_rmse= 1.352479e-07 time= 0.10659\n",
      "Epoch: 0177 train_loss= 0.00005 train_rmse= 4.551879e-07 val_loss= 0.00005 val_rmse= 1.474949e-07 time= 0.14659\n",
      "Epoch: 0178 train_loss= 0.00005 train_rmse= 4.883062e-07 val_loss= 0.00005 val_rmse= 1.399148e-07 time= 0.12916\n",
      "Epoch: 0179 train_loss= 0.00005 train_rmse= 4.956761e-07 val_loss= 0.00005 val_rmse= 1.261044e-07 time= 0.09864\n",
      "Epoch: 0180 train_loss= 0.00005 train_rmse= 4.725487e-07 val_loss= 0.00005 val_rmse= 1.258454e-07 time= 0.09484\n",
      "Epoch: 0181 train_loss= 0.00005 train_rmse= 4.764848e-07 val_loss= 0.00005 val_rmse= 1.355655e-07 time= 0.10651\n",
      "Epoch: 0182 train_loss= 0.00005 train_rmse= 4.668738e-07 val_loss= 0.00005 val_rmse= 1.549957e-07 time= 0.09687\n",
      "Epoch: 0183 train_loss= 0.00005 train_rmse= 4.901034e-07 val_loss= 0.00005 val_rmse= 1.436322e-07 time= 0.09523\n",
      "Epoch: 0184 train_loss= 0.00005 train_rmse= 4.907236e-07 val_loss= 0.00005 val_rmse= 1.261551e-07 time= 0.10667\n",
      "Epoch: 0185 train_loss= 0.00005 train_rmse= 4.757450e-07 val_loss= 0.00005 val_rmse= 1.257242e-07 time= 0.09602\n",
      "Epoch: 0186 train_loss= 0.00005 train_rmse= 4.911923e-07 val_loss= 0.00005 val_rmse= 1.294987e-07 time= 0.09469\n",
      "Epoch: 0187 train_loss= 0.00005 train_rmse= 4.737124e-07 val_loss= 0.00005 val_rmse= 1.457208e-07 time= 0.10652\n",
      "Epoch: 0188 train_loss= 0.00005 train_rmse= 4.860786e-07 val_loss= 0.00005 val_rmse= 1.439752e-07 time= 0.11810\n",
      "Epoch: 0189 train_loss= 0.00005 train_rmse= 4.759166e-07 val_loss= 0.00005 val_rmse= 1.302436e-07 time= 0.11840\n",
      "Epoch: 0190 train_loss= 0.00005 train_rmse= 4.749685e-07 val_loss= 0.00005 val_rmse= 1.258215e-07 time= 0.10172\n",
      "Epoch: 0191 train_loss= 0.00005 train_rmse= 4.852493e-07 val_loss= 0.00005 val_rmse= 1.269521e-07 time= 0.10529\n",
      "Epoch: 0192 train_loss= 0.00005 train_rmse= 4.751243e-07 val_loss= 0.00004 val_rmse= 1.336322e-07 time= 0.10694\n",
      "Epoch: 0193 train_loss= 0.00005 train_rmse= 4.739006e-07 val_loss= 0.00004 val_rmse= 1.452936e-07 time= 0.10195\n",
      "Epoch: 0194 train_loss= 0.00004 train_rmse= 4.786830e-07 val_loss= 0.00004 val_rmse= 1.463962e-07 time= 0.11210\n",
      "Epoch: 0195 train_loss= 0.00004 train_rmse= 4.864193e-07 val_loss= 0.00004 val_rmse= 1.264864e-07 time= 0.10641\n",
      "Epoch: 0196 train_loss= 0.00004 train_rmse= 4.865447e-07 val_loss= 0.00004 val_rmse= 1.409259e-07 time= 0.10197\n",
      "Epoch: 0197 train_loss= 0.00004 train_rmse= 5.042234e-07 val_loss= 0.00004 val_rmse= 1.289365e-07 time= 0.09509\n",
      "Epoch: 0198 train_loss= 0.00004 train_rmse= 4.641777e-07 val_loss= 0.00004 val_rmse= 1.287437e-07 time= 0.12404\n",
      "Epoch: 0199 train_loss= 0.00004 train_rmse= 4.598483e-07 val_loss= 0.00004 val_rmse= 1.426235e-07 time= 0.12385\n",
      "Epoch: 0200 train_loss= 0.00004 train_rmse= 4.815801e-07 val_loss= 0.00004 val_rmse= 1.294113e-07 time= 0.10539\n",
      "Epoch: 0201 train_loss= 0.00004 train_rmse= 4.741846e-07 val_loss= 0.00004 val_rmse= 1.257654e-07 time= 0.09757\n",
      "Epoch: 0202 train_loss= 0.00004 train_rmse= 4.830945e-07 val_loss= 0.00004 val_rmse= 1.391085e-07 time= 0.10300\n",
      "Epoch: 0203 train_loss= 0.00004 train_rmse= 4.582496e-07 val_loss= 0.00004 val_rmse= 1.473662e-07 time= 0.09422\n",
      "Epoch: 0204 train_loss= 0.00004 train_rmse= 4.780950e-07 val_loss= 0.00004 val_rmse= 1.266675e-07 time= 0.10381\n",
      "Epoch: 0205 train_loss= 0.00004 train_rmse= 4.777442e-07 val_loss= 0.00004 val_rmse= 1.261337e-07 time= 0.09605\n",
      "Epoch: 0206 train_loss= 0.00004 train_rmse= 4.674842e-07 val_loss= 0.00004 val_rmse= 1.674207e-07 time= 0.10171\n",
      "Epoch: 0207 train_loss= 0.00004 train_rmse= 5.424937e-07 val_loss= 0.00004 val_rmse= 1.257391e-07 time= 0.09569\n",
      "Epoch: 0208 train_loss= 0.00004 train_rmse= 4.808578e-07 val_loss= 0.00004 val_rmse= 1.256530e-07 time= 0.10308\n",
      "Epoch: 0209 train_loss= 0.00004 train_rmse= 4.825875e-07 val_loss= 0.00004 val_rmse= 1.690243e-07 time= 0.09468\n",
      "Epoch: 0210 train_loss= 0.00004 train_rmse= 5.249389e-07 val_loss= 0.00004 val_rmse= 1.308276e-07 time= 0.10249\n",
      "Epoch: 0211 train_loss= 0.00004 train_rmse= 4.583685e-07 val_loss= 0.00004 val_rmse= 1.257498e-07 time= 0.09607\n",
      "Epoch: 0212 train_loss= 0.00004 train_rmse= 4.763203e-07 val_loss= 0.00004 val_rmse= 1.505669e-07 time= 0.10417\n",
      "Epoch: 0213 train_loss= 0.00004 train_rmse= 5.009555e-07 val_loss= 0.00004 val_rmse= 1.272177e-07 time= 0.09538\n",
      "Epoch: 0214 train_loss= 0.00004 train_rmse= 4.708165e-07 val_loss= 0.00004 val_rmse= 1.319072e-07 time= 0.10653\n",
      "Epoch: 0215 train_loss= 0.00004 train_rmse= 4.705551e-07 val_loss= 0.00004 val_rmse= 1.460934e-07 time= 0.09823\n",
      "Epoch: 0216 train_loss= 0.00004 train_rmse= 4.899420e-07 val_loss= 0.00004 val_rmse= 1.300398e-07 time= 0.10351\n",
      "Epoch: 0217 train_loss= 0.00004 train_rmse= 4.761406e-07 val_loss= 0.00004 val_rmse= 1.266377e-07 time= 0.09546\n",
      "Epoch: 0218 train_loss= 0.00004 train_rmse= 5.055041e-07 val_loss= 0.00004 val_rmse= 1.724144e-07 time= 0.10543\n",
      "Epoch: 0219 train_loss= 0.00004 train_rmse= 5.370351e-07 val_loss= 0.00004 val_rmse= 1.298883e-07 time= 0.09752\n",
      "Epoch: 0220 train_loss= 0.00004 train_rmse= 4.567326e-07 val_loss= 0.00004 val_rmse= 1.256440e-07 time= 0.10478\n",
      "Epoch: 0221 train_loss= 0.00004 train_rmse= 5.016631e-07 val_loss= 0.00004 val_rmse= 1.373625e-07 time= 0.09511\n",
      "Epoch: 0222 train_loss= 0.00004 train_rmse= 4.751844e-07 val_loss= 0.00004 val_rmse= 1.595019e-07 time= 0.11259\n",
      "Epoch: 0223 train_loss= 0.00004 train_rmse= 5.112365e-07 val_loss= 0.00004 val_rmse= 1.257905e-07 time= 0.09857\n",
      "Epoch: 0224 train_loss= 0.00004 train_rmse= 4.827049e-07 val_loss= 0.00004 val_rmse= 1.257989e-07 time= 0.10280\n"
     ]
    },
    {
     "name": "stdout",
     "output_type": "stream",
     "text": [
      "Epoch: 0225 train_loss= 0.00004 train_rmse= 4.885245e-07 val_loss= 0.00004 val_rmse= 1.578824e-07 time= 0.09635\n",
      "Epoch: 0226 train_loss= 0.00004 train_rmse= 5.157477e-07 val_loss= 0.00004 val_rmse= 1.258336e-07 time= 0.10865\n",
      "Epoch: 0227 train_loss= 0.00004 train_rmse= 4.903253e-07 val_loss= 0.00004 val_rmse= 1.256931e-07 time= 0.10161\n",
      "Epoch: 0228 train_loss= 0.00004 train_rmse= 4.850634e-07 val_loss= 0.00004 val_rmse= 1.606557e-07 time= 0.11536\n",
      "Epoch: 0229 train_loss= 0.00004 train_rmse= 5.242855e-07 val_loss= 0.00004 val_rmse= 1.262333e-07 time= 0.10784\n",
      "Epoch: 0230 train_loss= 0.00004 train_rmse= 4.706186e-07 val_loss= 0.00004 val_rmse= 1.256393e-07 time= 0.11287\n",
      "Epoch: 0231 train_loss= 0.00004 train_rmse= 4.924429e-07 val_loss= 0.00004 val_rmse= 1.514168e-07 time= 0.09942\n",
      "Epoch: 0232 train_loss= 0.00004 train_rmse= 4.768802e-07 val_loss= 0.00004 val_rmse= 1.488167e-07 time= 0.10144\n",
      "Epoch: 0233 train_loss= 0.00004 train_rmse= 4.729107e-07 val_loss= 0.00004 val_rmse= 1.256792e-07 time= 0.09715\n",
      "Epoch: 0234 train_loss= 0.00004 train_rmse= 5.016201e-07 val_loss= 0.00004 val_rmse= 1.613047e-07 time= 0.10393\n",
      "Epoch: 0235 train_loss= 0.00004 train_rmse= 4.801728e-07 val_loss= 0.00004 val_rmse= 1.331382e-07 time= 0.11072\n",
      "Epoch: 0236 train_loss= 0.00004 train_rmse= 4.924829e-07 val_loss= 0.00004 val_rmse= 1.287663e-07 time= 0.12546\n",
      "Epoch: 0237 train_loss= 0.00004 train_rmse= 4.651880e-07 val_loss= 0.00004 val_rmse= 1.298105e-07 time= 0.11429\n",
      "Epoch: 0238 train_loss= 0.00004 train_rmse= 4.619432e-07 val_loss= 0.00004 val_rmse= 1.364153e-07 time= 0.11052\n",
      "Epoch: 0239 train_loss= 0.00004 train_rmse= 4.846463e-07 val_loss= 0.00004 val_rmse= 1.390444e-07 time= 0.15675\n",
      "Epoch: 0240 train_loss= 0.00004 train_rmse= 4.542977e-07 val_loss= 0.00004 val_rmse= 1.386275e-07 time= 0.16259\n",
      "Epoch: 0241 train_loss= 0.00004 train_rmse= 4.780190e-07 val_loss= 0.00004 val_rmse= 1.349457e-07 time= 0.15216\n",
      "Epoch: 0242 train_loss= 0.00004 train_rmse= 4.628417e-07 val_loss= 0.00004 val_rmse= 1.373903e-07 time= 0.09725\n",
      "Epoch: 0243 train_loss= 0.00004 train_rmse= 4.777276e-07 val_loss= 0.00004 val_rmse= 1.446441e-07 time= 0.18285\n",
      "Epoch: 0244 train_loss= 0.00004 train_rmse= 4.761385e-07 val_loss= 0.00004 val_rmse= 1.439103e-07 time= 0.12621\n",
      "Epoch: 0245 train_loss= 0.00004 train_rmse= 4.741591e-07 val_loss= 0.00004 val_rmse= 1.346135e-07 time= 0.15695\n",
      "Epoch: 0246 train_loss= 0.00004 train_rmse= 4.550031e-07 val_loss= 0.00004 val_rmse= 1.361694e-07 time= 0.11771\n",
      "Epoch: 0247 train_loss= 0.00004 train_rmse= 4.674495e-07 val_loss= 0.00004 val_rmse= 1.382657e-07 time= 0.11281\n",
      "Epoch: 0248 train_loss= 0.00004 train_rmse= 4.669789e-07 val_loss= 0.00004 val_rmse= 1.377489e-07 time= 0.10321\n",
      "Epoch: 0249 train_loss= 0.00004 train_rmse= 4.605395e-07 val_loss= 0.00004 val_rmse= 1.408474e-07 time= 0.21139\n",
      "Epoch: 0250 train_loss= 0.00004 train_rmse= 4.716418e-07 val_loss= 0.00004 val_rmse= 1.338437e-07 time= 0.12878\n",
      "Epoch: 0251 train_loss= 0.00004 train_rmse= 4.618268e-07 val_loss= 0.00004 val_rmse= 1.301288e-07 time= 0.16943\n",
      "Epoch: 0252 train_loss= 0.00004 train_rmse= 4.606795e-07 val_loss= 0.00004 val_rmse= 1.364077e-07 time= 0.13136\n",
      "Epoch: 0253 train_loss= 0.00004 train_rmse= 4.566551e-07 val_loss= 0.00004 val_rmse= 1.476015e-07 time= 0.18865\n",
      "Epoch: 0254 train_loss= 0.00004 train_rmse= 4.804326e-07 val_loss= 0.00004 val_rmse= 1.351891e-07 time= 0.18661\n",
      "Epoch: 0255 train_loss= 0.00004 train_rmse= 4.616201e-07 val_loss= 0.00004 val_rmse= 1.299821e-07 time= 0.17534\n",
      "Epoch: 0256 train_loss= 0.00004 train_rmse= 4.593865e-07 val_loss= 0.00004 val_rmse= 1.331350e-07 time= 0.21144\n",
      "Epoch: 0257 train_loss= 0.00004 train_rmse= 4.597539e-07 val_loss= 0.00004 val_rmse= 1.496729e-07 time= 0.14123\n",
      "Epoch: 0258 train_loss= 0.00004 train_rmse= 4.617317e-07 val_loss= 0.00004 val_rmse= 1.454450e-07 time= 0.11629\n",
      "Epoch: 0259 train_loss= 0.00004 train_rmse= 4.810656e-07 val_loss= 0.00004 val_rmse= 1.318359e-07 time= 0.09914\n",
      "Epoch: 0260 train_loss= 0.00004 train_rmse= 4.679817e-07 val_loss= 0.00004 val_rmse= 1.278303e-07 time= 0.16335\n",
      "Epoch: 0261 train_loss= 0.00004 train_rmse= 4.773337e-07 val_loss= 0.00003 val_rmse= 1.409505e-07 time= 0.16790\n",
      "Epoch: 0262 train_loss= 0.00004 train_rmse= 4.476893e-07 val_loss= 0.00003 val_rmse= 1.655849e-07 time= 0.14865\n",
      "Epoch: 0263 train_loss= 0.00003 train_rmse= 4.801278e-07 val_loss= 0.00003 val_rmse= 1.479349e-07 time= 0.23633\n",
      "Epoch: 0264 train_loss= 0.00003 train_rmse= 4.745494e-07 val_loss= 0.00003 val_rmse= 1.281416e-07 time= 0.12872\n",
      "Epoch: 0265 train_loss= 0.00003 train_rmse= 4.663772e-07 val_loss= 0.00003 val_rmse= 1.268675e-07 time= 0.11037\n",
      "Epoch: 0266 train_loss= 0.00003 train_rmse= 4.749698e-07 val_loss= 0.00003 val_rmse= 1.373628e-07 time= 0.11709\n",
      "Epoch: 0267 train_loss= 0.00003 train_rmse= 4.567059e-07 val_loss= 0.00003 val_rmse= 1.593298e-07 time= 0.10675\n",
      "Epoch: 0268 train_loss= 0.00003 train_rmse= 4.674500e-07 val_loss= 0.00003 val_rmse= 1.418361e-07 time= 0.11612\n",
      "Epoch: 0269 train_loss= 0.00003 train_rmse= 4.514689e-07 val_loss= 0.00003 val_rmse= 1.333890e-07 time= 0.15694\n",
      "Epoch: 0270 train_loss= 0.00003 train_rmse= 4.637559e-07 val_loss= 0.00003 val_rmse= 1.295881e-07 time= 0.14763\n",
      "Epoch: 0271 train_loss= 0.00003 train_rmse= 4.699107e-07 val_loss= 0.00003 val_rmse= 1.351450e-07 time= 0.10829\n",
      "Epoch: 0272 train_loss= 0.00003 train_rmse= 4.702497e-07 val_loss= 0.00003 val_rmse= 1.452775e-07 time= 0.10476\n",
      "Epoch: 0273 train_loss= 0.00003 train_rmse= 4.596555e-07 val_loss= 0.00003 val_rmse= 1.450485e-07 time= 0.11957\n",
      "Epoch: 0274 train_loss= 0.00003 train_rmse= 4.759258e-07 val_loss= 0.00003 val_rmse= 1.295951e-07 time= 0.10446\n",
      "Epoch: 0275 train_loss= 0.00003 train_rmse= 4.504228e-07 val_loss= 0.00003 val_rmse= 1.297792e-07 time= 0.20309\n",
      "Epoch: 0276 train_loss= 0.00003 train_rmse= 4.586812e-07 val_loss= 0.00003 val_rmse= 1.386173e-07 time= 0.15741\n",
      "Epoch: 0277 train_loss= 0.00003 train_rmse= 4.680755e-07 val_loss= 0.00003 val_rmse= 1.499148e-07 time= 0.10921\n",
      "Epoch: 0278 train_loss= 0.00003 train_rmse= 4.606067e-07 val_loss= 0.00003 val_rmse= 1.443391e-07 time= 0.09968\n",
      "Epoch: 0279 train_loss= 0.00003 train_rmse= 4.668334e-07 val_loss= 0.00003 val_rmse= 1.311162e-07 time= 0.09676\n",
      "Epoch: 0280 train_loss= 0.00003 train_rmse= 4.731175e-07 val_loss= 0.00003 val_rmse= 1.274356e-07 time= 0.11096\n",
      "Epoch: 0281 train_loss= 0.00003 train_rmse= 4.753361e-07 val_loss= 0.00003 val_rmse= 1.364818e-07 time= 0.14362\n",
      "Epoch: 0282 train_loss= 0.00003 train_rmse= 4.579813e-07 val_loss= 0.00003 val_rmse= 1.474522e-07 time= 0.19098\n",
      "Epoch: 0283 train_loss= 0.00003 train_rmse= 4.588823e-07 val_loss= 0.00003 val_rmse= 1.457134e-07 time= 0.16211\n",
      "Epoch: 0284 train_loss= 0.00003 train_rmse= 4.616445e-07 val_loss= 0.00003 val_rmse= 1.310480e-07 time= 0.09866\n",
      "Epoch: 0285 train_loss= 0.00003 train_rmse= 4.580037e-07 val_loss= 0.00003 val_rmse= 1.281528e-07 time= 0.09663\n",
      "Epoch: 0286 train_loss= 0.00003 train_rmse= 4.743262e-07 val_loss= 0.00003 val_rmse= 1.854056e-07 time= 0.11268\n",
      "Epoch: 0287 train_loss= 0.00003 train_rmse= 4.928608e-07 val_loss= 0.00003 val_rmse= 1.258866e-07 time= 0.10800\n",
      "Epoch: 0288 train_loss= 0.00003 train_rmse= 4.799068e-07 val_loss= 0.00003 val_rmse= 1.399865e-07 time= 0.21666\n",
      "Epoch: 0289 train_loss= 0.00003 train_rmse= 4.642139e-07 val_loss= 0.00003 val_rmse= 1.699965e-07 time= 0.11215\n",
      "Epoch: 0290 train_loss= 0.00003 train_rmse= 4.786427e-07 val_loss= 0.00003 val_rmse= 1.313181e-07 time= 0.14961\n",
      "Epoch: 0291 train_loss= 0.00003 train_rmse= 4.660826e-07 val_loss= 0.00003 val_rmse= 1.277096e-07 time= 0.09617\n",
      "Epoch: 0292 train_loss= 0.00003 train_rmse= 4.671171e-07 val_loss= 0.00003 val_rmse= 1.314474e-07 time= 0.12523\n",
      "Epoch: 0293 train_loss= 0.00003 train_rmse= 4.750129e-07 val_loss= 0.00003 val_rmse= 1.381922e-07 time= 0.20936\n",
      "Epoch: 0294 train_loss= 0.00003 train_rmse= 4.671641e-07 val_loss= 0.00003 val_rmse= 1.381293e-07 time= 0.15283\n",
      "Epoch: 0295 train_loss= 0.00003 train_rmse= 4.768100e-07 val_loss= 0.00003 val_rmse= 1.278476e-07 time= 0.15198\n",
      "Epoch: 0296 train_loss= 0.00003 train_rmse= 4.778483e-07 val_loss= 0.00003 val_rmse= 1.271646e-07 time= 0.16711\n",
      "Epoch: 0297 train_loss= 0.00003 train_rmse= 4.824951e-07 val_loss= 0.00003 val_rmse= 1.434092e-07 time= 0.15993\n",
      "Epoch: 0298 train_loss= 0.00003 train_rmse= 4.707497e-07 val_loss= 0.00003 val_rmse= 1.637368e-07 time= 0.10376\n"
     ]
    },
    {
     "name": "stdout",
     "output_type": "stream",
     "text": [
      "Epoch: 0299 train_loss= 0.00003 train_rmse= 4.813516e-07 val_loss= 0.00003 val_rmse= 1.336358e-07 time= 0.09835\n",
      "Epoch: 0300 train_loss= 0.00003 train_rmse= 4.709987e-07 val_loss= 0.00003 val_rmse= 1.265132e-07 time= 0.13440\n",
      "Optimization Finished!\n"
     ]
    }
   ],
   "source": [
    "# Initialize weights\n",
    "sess.run(tf.global_variables_initializer())\n",
    "\n",
    "train_loss = []\n",
    "validation_loss = []\n",
    "train_rmse = []\n",
    "validation_rmse = []\n",
    "\n",
    "\n",
    "# Train model\n",
    "for epoch in range(FLAGS.epochs):\n",
    "\n",
    "    t = time.time()\n",
    "    # Construct feed dictionary\n",
    "    feed_dict = construct_feed_dict(features, support, y_train, train_mask, placeholders)\n",
    "    feed_dict.update({placeholders['dropout']: FLAGS.dropout})\n",
    "\n",
    "    # Training step\n",
    "    outs = sess.run([model.opt_op, model.loss, model.accuracy], feed_dict=feed_dict)\n",
    "    \n",
    "    # Validation\n",
    "    cost, acc, duration = evaluate(features, support, y_val, val_mask, placeholders)\n",
    "    validation_loss.append(cost)\n",
    "    validation_rmse.append(acc)\n",
    "    train_loss.append(outs[1])\n",
    "    train_rmse.append(outs[2])\n",
    "\n",
    "    # Print results\n",
    "    print(\"Epoch:\", '%04d' % (epoch + 1), \"train_loss=\", \"{:.5f}\".format(outs[1]),\n",
    "          \"train_rmse=\", \"{:e}\".format(outs[2]), \"val_loss=\", \"{:.5f}\".format(cost),\n",
    "          \"val_rmse=\", \"{:e}\".format(acc), \"time=\", \"{:.5f}\".format(time.time() - t))\n",
    "\n",
    "    if epoch > FLAGS.early_stopping and validation_loss[-1] > np.mean(validation_loss[-(FLAGS.early_stopping+1):-1]):\n",
    "        print(\"Early stopping...\")\n",
    "        break\n",
    "\n",
    "print(\"Optimization Finished!\")"
   ]
  },
  {
   "cell_type": "markdown",
   "metadata": {},
   "source": [
    "### Test"
   ]
  },
  {
   "cell_type": "code",
   "execution_count": 12,
   "metadata": {},
   "outputs": [
    {
     "name": "stdout",
     "output_type": "stream",
     "text": [
      "Test set results: cost= 0.00003, Mean square error= 2.855006e-07, time= 0.05161s.\n"
     ]
    }
   ],
   "source": [
    "# Testing\n",
    "test_cost, test_rmse, test_duration = evaluate(features, support, y_test, test_mask, placeholders)\n",
    "print(\"Test set results:\", \"cost=\", \"{:.5f},\".format(test_cost),\n",
    "      \"Mean square error=\", \"{:e},\".format(test_rmse), \"time=\", \"{:.5f}s.\".format(test_duration))"
   ]
  },
  {
   "cell_type": "code",
   "execution_count": 16,
   "metadata": {},
   "outputs": [
    {
     "data": {
      "image/png": "[encoded data removed]",
      "text/plain": [
       "<matplotlib.figure.Figure at 0x1190b7f98>"
      ]
     },
     "metadata": {},
     "output_type": "display_data"
    }
   ],
   "source": [
    "import matplotlib.pyplot as plt\n",
    "fig, ax = plt.subplots(figsize = (10, 8))\n",
    "plt.plot(train_loss,label = 'train_loss')\n",
    "plt.plot(validation_loss,label='validaton_loss')\n",
    "plt.xlim(0, 150)\n",
    "plt.ylim(0, 0.001)\n",
    "plt.legend(prop={'size': 12})\n",
    "plt.grid(color = 'lightgray', linestyle = '--')\n",
    "plt.title('Training Loss vs. Step')\n",
    "# plt.savefig(\"Input1loss.png\") \n",
    "plt.show()"
   ]
  },
  {
   "cell_type": "markdown",
   "metadata": {},
   "source": [
    "## Tuning Process\n",
    "### Learning rate\n",
    "**1.png** Stop at Epoch 174, test mse = 0.00001\n",
    "- Model: Small World Model (p = 0.05)\n",
    "- Learning Rate = 0.01\n",
    "- Drop-out Rate = 0.4\n",
    "- Cost function: masked_mean_square_error\n",
    "- Evaluation function: masked_accuracy (其实是RMSE)\n",
    "- Adjacency matrix: A\n",
    "- Weight decay: Yes\n",
    "\n",
    "\n",
    "\n",
    "**2.png** Stop at Epoch 148, test mse = 9.403576e-07\n",
    "- Model: Small World Model (p = 0.05)\n",
    "- Learning Rate = 0.05\n",
    "- Drop-out Rate = 0.4\n",
    "- Cost function: masked_mean_square_error\n",
    "- Evaluation function: masked_accuracy (其实是RMSE)\n",
    "- Adjacency matrix: A\n",
    "- Weight decay: Yes\n",
    "\n",
    "\n",
    "**3.png** Stop at Epoch 177, test mse = 4.968480e-07\n",
    "- Model: Small World Model (p = 0.05)\n",
    "- Learning Rate = 0.1\n",
    "- Drop-out Rate = 0.4\n",
    "- Cost function: masked_mean_square_error\n",
    "- Evaluation function: masked_accuracy (其实是RMSE)\n",
    "- Adjacency matrix: A\n",
    "- Weight decay: Yes\n",
    "\n",
    "### Drop-out rate\n",
    "**4.png** Stop at Epoch 221, test mse = 4.405288e-06\n",
    "- Model: Small World Model (p = 0.05)\n",
    "- Learning Rate = 0.05\n",
    "- Drop-out Rate = 0.1\n",
    "- Cost function: masked_mean_square_error\n",
    "- Evaluation function: masked_accuracy (其实是RMSE)\n",
    "- Adjacency matrix: A\n",
    "- Weight decay: Yes\n",
    "\n",
    "\n",
    "**5.png** Stop at Epoch 196, test mse = 4.393734e-07\n",
    "- Model: Small World Model (p = 0.05)\n",
    "- Learning Rate = 0.05\n",
    "- Drop-out Rate = 0.5\n",
    "- Cost function: masked_mean_square_error\n",
    "- Evaluation function: masked_accuracy (其实是RMSE)\n",
    "- Adjacency matrix: A\n",
    "- Weight decay: Yes\n",
    "- 测试了好几次，到这里以上结果中case 5最理想(learning rate = 0.05, drop-out rate = 0.5), 以下的测试暂时基于这两个参数。\n",
    "\n",
    "### Cost function\n",
    "**6.png** Stop at Epoch 128, test mse = 4.955061e-07\n",
    "- Model: Small World Model (p = 0.05)\n",
    "- Learning Rate = 0.05\n",
    "- Drop-out Rate = 0.5\n",
    "- Cost function: **masked_absolute_difference**\n",
    "- Evaluation function: masked_accuracy (其实是RMSE)\n",
    "- Adjacency matrix: A\n",
    "- Weight decay: Yes\n",
    "\n",
    "**7.png** \n",
    "- Model: Small World Model (p = 0.05)\n",
    "- Learning Rate = 0.05\n",
    "- Drop-out Rate = 0.5\n",
    "- Cost function: **masked_huber_loss**\n",
    "    - 7-1: Delta = 5e-3 (Stop at Epoch 102, test mse = 2.845802e-07)\n",
    "    - 7-2: Delta = 5e-2 (Stop at Epoch 102, test mse = 3.775311e-07)\n",
    "    - 7-3: Delta = 5e-1 (Stop at Epoch 300, test mse = 3.015892e-07), probably performs the best 图片最好看\n",
    "    - 7-4: Delta = 1 (Stop at Epoch 300, test mse = 3.739734e-07)\n",
    "- Evaluation function: masked_accuracy (其实是RMSE)\n",
    "- Adjacency matrix: A\n",
    "- Weight decay: Yes"
   ]
  },
  {
   "cell_type": "markdown",
   "metadata": {},
   "source": [
    "- 若learning rate = 0.01, train_loss一开始很大，在epoch = 100左右急剧减小\n",
    "- 若learning rate = 0.05, train_loss一开始很大，在epoch = 20左右急剧减小"
   ]
  },
  {
   "cell_type": "code",
   "execution_count": 20,
   "metadata": {},
   "outputs": [
    {
     "data": {
      "image/png": "[encoded data removed]",
      "text/plain": [
       "<matplotlib.figure.Figure at 0x11cf8bc88>"
      ]
     },
     "metadata": {},
     "output_type": "display_data"
    }
   ],
   "source": [
    "fig, ax = plt.subplots(figsize = (10, 8))\n",
    "plt.plot(train_rmse,label = 'train_mse')\n",
    "plt.plot(validation_rmse,label='validaton_mse')\n",
    "plt.xlim(0, 80)\n",
    "plt.ylim(0, 0.01)\n",
    "plt.legend(prop={'size': 12})\n",
    "plt.grid(color = 'lightgray', linestyle = '--')\n",
    "plt.title('Mean Square Error vs. Step')\n",
    "# plt.savefig(\"Input1mse.png\") # 保存图片放在slides上\n",
    "plt.show()"
   ]
  },
  {
   "cell_type": "markdown",
   "metadata": {},
   "source": [
    "Presentation时可以做的几个比较 （保持其余参数尽可能结果最好）：\n",
    "\n",
    "1. 不同的learning_rate (Yiming)\n",
    "2. 不同的drop_out rate (Yiming)\n",
    "3. 不同的Loss function (Yiming/ Yiqin)\n",
    "4. 有无weight_decay (Yiqin)\n",
    "5. 不同的adjacency matrix, A, A^2等等 (Yiqin)\n",
    "\n",
    "这些是train on small graphs, test on large graph?? (stanford data)\n",
    "\n",
    "Side note for Yiqin:\n",
    "现在的evaluate我是用的root mean square error，可以参见上面的注释，可能还可以试一下别的evaluation function for continuous response.\n",
    "\n",
    "我觉得presentation是图片越多越好，别人可能对定理没什么兴趣= =\n",
    "\n",
    "谢谢你啦！！\n",
    "\n",
    "\n",
    "*还需要test data"
   ]
  },
  {
   "cell_type": "code",
   "execution_count": null,
   "metadata": {
    "collapsed": true
   },
   "outputs": [],
   "source": []
  }
 ],
 "metadata": {
  "kernelspec": {
   "display_name": "Python 3",
   "language": "python",
   "name": "python3"
  },
  "language_info": {
   "codemirror_mode": {
    "name": "ipython",
    "version": 3
   },
   "file_extension": ".py",
   "mimetype": "text/x-python",
   "name": "python",
   "nbconvert_exporter": "python",
   "pygments_lexer": "ipython3",
   "version": "3.6.2"
  },
  "toc": {
   "nav_menu": {},
   "number_sections": true,
   "sideBar": false,
   "skip_h1_title": false,
   "toc_cell": true,
   "toc_position": {},
   "toc_section_display": "block",
   "toc_window_display": false
  }
 },
 "nbformat": 4,
 "nbformat_minor": 2
}
