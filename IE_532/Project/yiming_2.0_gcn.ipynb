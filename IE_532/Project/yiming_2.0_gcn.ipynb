{
 "cells": [
  {
   "cell_type": "markdown",
   "metadata": {
    "toc": "true"
   },
   "source": [
    " # Table of Contents\n",
    "<div class=\"toc\" style=\"margin-top: 1em;\"><ul class=\"toc-item\" id=\"toc-level0\"><li><span><a href=\"http://localhost:8888/notebooks/Documents/17F532IE/PageRank/Draft.ipynb#Reference\" data-toc-modified-id=\"Reference-1\"><span class=\"toc-item-num\">1&nbsp;&nbsp;</span>Reference</a></span></li><li><span><a href=\"http://localhost:8888/notebooks/Documents/17F532IE/PageRank/Draft.ipynb#Code\" data-toc-modified-id=\"Code-2\"><span class=\"toc-item-num\">2&nbsp;&nbsp;</span>Code</a></span><ul class=\"toc-item\"><li><span><a href=\"http://localhost:8888/notebooks/Documents/17F532IE/PageRank/Draft.ipynb#generate-graph\" data-toc-modified-id=\"generate-graph-2.1\"><span class=\"toc-item-num\">2.1&nbsp;&nbsp;</span>generate graph</a></span></li><li><span><a href=\"http://localhost:8888/notebooks/Documents/17F532IE/PageRank/Draft.ipynb#simple-neural-network\" data-toc-modified-id=\"simple-neural-network-2.2\"><span class=\"toc-item-num\">2.2&nbsp;&nbsp;</span>simple neural network</a></span><ul class=\"toc-item\"><li><span><a href=\"http://localhost:8888/notebooks/Documents/17F532IE/PageRank/Draft.ipynb#测试前要看一下\" data-toc-modified-id=\"测试前要看一下-2.2.1\"><span class=\"toc-item-num\">2.2.1&nbsp;&nbsp;</span>测试前要看一下</a></span></li></ul></li></ul></li></ul></div>"
   ]
  },
  {
   "cell_type": "markdown",
   "metadata": {},
   "source": [
    "# Reference"
   ]
  },
  {
   "cell_type": "markdown",
   "metadata": {},
   "source": [
    "https://medium.com/@bgoncalves/network-effects-explained-pagerank-and-preferential-attachment-61fdf93d023a"
   ]
  },
  {
   "cell_type": "markdown",
   "metadata": {},
   "source": [
    "# Code"
   ]
  },
  {
   "cell_type": "markdown",
   "metadata": {},
   "source": [
    "## generate graph"
   ]
  },
  {
   "cell_type": "code",
   "execution_count": 1,
   "metadata": {
    "collapsed": true
   },
   "outputs": [],
   "source": [
    "import networkx as nx"
   ]
  },
  {
   "cell_type": "code",
   "execution_count": 2,
   "metadata": {
    "collapsed": true
   },
   "outputs": [],
   "source": [
    "with open(\"web-Stanford.txt\",\"r\") as fil:\n",
    "    for _ in range(4):\n",
    "        next(fil)\n",
    "    data=[tuple([int(j) for j in i.strip().split()]) for i in fil]"
   ]
  },
  {
   "cell_type": "code",
   "execution_count": 3,
   "metadata": {
    "collapsed": true
   },
   "outputs": [],
   "source": [
    "G = nx.DiGraph()\n",
    "G.add_edges_from(data)\n",
    "\n",
    "pr = nx.pagerank(G, alpha=0.9)   #作为true response?"
   ]
  },
  {
   "cell_type": "code",
   "execution_count": 4,
   "metadata": {
    "collapsed": true
   },
   "outputs": [],
   "source": [
    "for i in pr.keys():\n",
    "    G[i]['score']=pr[i]"
   ]
  },
  {
   "cell_type": "code",
   "execution_count": 5,
   "metadata": {},
   "outputs": [
    {
     "data": {
      "text/plain": [
       "3.561215144991757e-07"
      ]
     },
     "execution_count": 5,
     "metadata": {},
     "output_type": "execute_result"
    }
   ],
   "source": [
    "G[1]['score']"
   ]
  },
  {
   "cell_type": "code",
   "execution_count": 6,
   "metadata": {
    "collapsed": true
   },
   "outputs": [],
   "source": [
    "n=len(G.nodes())"
   ]
  },
  {
   "cell_type": "markdown",
   "metadata": {},
   "source": [
    "A Sidenote:\n",
    "\n",
    "要解释什么是damping factor:\n",
    "\n",
    "The damping factor is the click-through probability, is included to prevent sinks (i.e. pages with no outgoing links) from \"absorbing\" the PageRanks of those pages connected to the sinks.  \n",
    "- You can see that if it equals to 1, the person clicking will click forever and they will always end up in a sink. \n",
    "\n",
    "- On the other hand, if the click-through probability is 0, then all clicks are random restarts, which are uniformly distributed.\n",
    "\n",
    "So, a damping factor is a weighted average between the two extremes."
   ]
  },
  {
   "cell_type": "markdown",
   "metadata": {},
   "source": [
    "### Preferential Attachment Model\n",
    "命名和上一个一样，可以先拿以下的代码试验，数据小跑起来比较快"
   ]
  },
  {
   "cell_type": "code",
   "execution_count": 2,
   "metadata": {},
   "outputs": [],
   "source": [
    "# G_temp = nx.barabasi_albert_graph(1000, 1)\n",
    "G_temp = nx.watts_strogatz_graph(1000, 10, 0.05) # Small world with low rewiring probability\n",
    "# G_temp = nx.watts_strogatz_graph(1000, 10, 0.9) # Small world with high rewiring probability\n",
    "\n",
    "# initialize an empty directed graph\n",
    "G = nx.DiGraph()\n",
    "G.add_edges_from(G_temp.edges())\n",
    "\n",
    "pr = nx.pagerank(G, alpha = 0.85) \n",
    "for i in pr.keys():\n",
    "    G[i]['score']=pr[i]"
   ]
  },
  {
   "cell_type": "code",
   "execution_count": 3,
   "metadata": {},
   "outputs": [
    {
     "data": {
      "text/plain": [
       "0.0001538659016566698"
      ]
     },
     "execution_count": 3,
     "metadata": {},
     "output_type": "execute_result"
    }
   ],
   "source": [
    "G[0]['score']"
   ]
  },
  {
   "cell_type": "code",
   "execution_count": 4,
   "metadata": {
    "collapsed": true
   },
   "outputs": [],
   "source": [
    "n = len(G.nodes())"
   ]
  },
  {
   "cell_type": "markdown",
   "metadata": {},
   "source": [
    "## Simple Neural Network"
   ]
  },
  {
   "cell_type": "code",
   "execution_count": 5,
   "metadata": {
    "collapsed": true
   },
   "outputs": [],
   "source": [
    "from __future__ import division\n",
    "from __future__ import print_function\n",
    "\n",
    "import time\n",
    "import tensorflow as tf\n",
    "from gcn.utils import *\n",
    "from gcn.models import Model,MLP\n",
    "from gcn.layers import *\n",
    "\n",
    "import scipy.sparse as sp\n",
    "import random\n",
    "import numpy as np"
   ]
  },
  {
   "cell_type": "markdown",
   "metadata": {},
   "source": [
    "### 测试前要看一下\n",
    "+ 之前学习率填了0.05，明显训练的时候有了误差来回变大减小又变大再减小的情况，应该要调小一点，之前作业里是0.01,我一时兴起又改大了……\n",
    "+ 用networkx里的pagerank算法出来的分数是在0-1之间，所以最后的误差出来即使是0.几，也不确定是不是很好，这里是100个点做validation。\n",
    "+ epoch可能也要调，学习率0.05的时候300差不多收敛了，但是不知道学习率改了之后是什么情况"
   ]
  },
  {
   "cell_type": "code",
   "execution_count": 6,
   "metadata": {},
   "outputs": [],
   "source": [
    "# Set random seed\n",
    "seed = 123\n",
    "np.random.seed(seed)\n",
    "tf.set_random_seed(seed)\n",
    "\n",
    "# Settings\n",
    "flags = tf.app.flags\n",
    "FLAGS = flags.FLAGS\n",
    "flags.DEFINE_string('dataset', 'cora', 'Dataset string.')  # 'cora', 'citeseer', 'pubmed'  #这行应该并没有什么用\n",
    "flags.DEFINE_string('model', 'gcn', 'Model string.')  # 'gcn', 'gcn_cheby', 'dense'\n",
    "flags.DEFINE_float('learning_rate', 0.1, 'Initial learning rate.')\n",
    "#flags.DEFINE_float('learning_rate', 0.1, 'Initial learning rate.')\n",
    "flags.DEFINE_integer('epochs', 300, 'Number of epochs to train.')\n",
    "flags.DEFINE_integer('hidden1', 16, 'Number of units in hidden layer 1.')\n",
    "flags.DEFINE_float('dropout', 0.1, 'Dropout rate (1 - keep probability).')\n",
    "#flags.DEFINE_float('dropout', 0., 'Dropout rate (1 - keep probability).')\n",
    "flags.DEFINE_float('weight_decay', 5e-4, 'Weight for L2 loss on embedding matrix.')\n",
    "#flags.DEFINE_float('weight_decay', 0, 'Weight for L2 loss on embedding matrix.')\n",
    "flags.DEFINE_integer('early_stopping', 100, 'Tolerance for early stopping (# of epochs).')\n",
    "flags.DEFINE_integer('max_degree', 3, 'Maximum Chebyshev polynomial degree.')"
   ]
  },
  {
   "cell_type": "markdown",
   "metadata": {},
   "source": [
    "If you assume the target is continuous (like PageRank scores here) and normally distributed, and you maximize the likelihood of the output of the net under these assumptions, you get the MSE (combined with a linear output layer)."
   ]
  },
  {
   "cell_type": "code",
   "execution_count": 7,
   "metadata": {
    "collapsed": true
   },
   "outputs": [],
   "source": [
    "def masked_mean_square_error(preds,labels,mask):\n",
    "    \"\"\"L2 loss with masking.\"\"\"\n",
    "    loss = tf.nn.l2_loss(preds - labels)   \n",
    "    # loss = tf.nn.relu(preds - labels) Rulu loss\n",
    "    mask = tf.cast(mask, dtype=tf.float32)\n",
    "    mask /= tf.reduce_mean(mask)\n",
    "    loss *= mask\n",
    "    return tf.reduce_mean(loss)\n",
    "\n",
    "# 定义另一个loss function\n",
    "def masked_absolute_difference(preds,labels,mask):\n",
    "    \"\"\"Log Loss with masking\"\"\"\n",
    "    loss = tf.losses.absolute_difference(labels = labels, predictions = preds)\n",
    "    mask = tf.cast(mask, dtype=tf.float32)\n",
    "    mask /= tf.reduce_mean(mask)\n",
    "    loss *= mask\n",
    "    return tf.reduce_mean(loss)\n",
    "\n",
    "#--------------------Evaluation function------------------------#\n",
    "## 因为response是continuous，是不是应该用RMSE instead of accuracy? (accuracy是针对分类问题)\n",
    "## *计算方法改成了rmse,但函数名仍然是accuracy，因为要改的地方太多，我怕漏了，就没改\n",
    "## 我们自己知道就行\n",
    "def masked_accuracy(preds, labels, mask):\n",
    "    \"\"\"Root Mean Square Error with masking\"\"\"\n",
    "    rmse = tf.sqrt(tf.reduce_mean(tf.squared_difference(preds, labels)))\n",
    "    mask = tf.cast(mask, dtype=tf.float32)\n",
    "    mask /= tf.reduce_mean(mask)\n",
    "    rmse *= mask\n",
    "    return tf.reduce_mean(rmse)"
   ]
  },
  {
   "cell_type": "markdown",
   "metadata": {},
   "source": [
    "**Cross Entropy vs. Mean Square Error**\n",
    "\n",
    "Cross-entropy is prefered for **classification**, while mean squared error is one of the best choices for **regression**. This comes directly from the statement of the problems itself - in classification you work with very particular set of possible output values thus MSE is badly defined (as it does not have this kind of knowledge thus penalizes errors in incompatible way). "
   ]
  },
  {
   "cell_type": "code",
   "execution_count": 8,
   "metadata": {
    "collapsed": true
   },
   "outputs": [],
   "source": [
    "class GCN(Model):\n",
    "    def __init__(self, placeholders, input_dim, **kwargs):\n",
    "        super(GCN, self).__init__(**kwargs)\n",
    "\n",
    "        self.inputs = placeholders['features']\n",
    "        self.input_dim = input_dim\n",
    "        # self.input_dim = self.inputs.get_shape().as_list()[1]  # To be supported in future Tensorflow versions\n",
    "        self.output_dim = placeholders['labels'].get_shape().as_list()[1]\n",
    "        self.placeholders = placeholders\n",
    "\n",
    "        self.optimizer = tf.train.AdamOptimizer(learning_rate=FLAGS.learning_rate)\n",
    "\n",
    "        self.build()\n",
    "\n",
    "    def _loss(self):\n",
    "        # Weight decay loss\n",
    "        for var in self.layers[0].vars.values():\n",
    "            self.loss += FLAGS.weight_decay * tf.nn.l2_loss(var)\n",
    "\n",
    "        # loss function 可尝试多种\n",
    "        self.loss += masked_mean_square_error(self.outputs, self.placeholders['labels'],\n",
    "                                                 self.placeholders['labels_mask'])\n",
    "\n",
    "    def _accuracy(self):\n",
    "        self.accuracy = masked_accuracy(self.outputs, self.placeholders['labels'],\n",
    "                                        self.placeholders['labels_mask'])\n",
    "\n",
    "    def _build(self):\n",
    "\n",
    "        self.layers.append(GraphConvolution(input_dim=self.input_dim,\n",
    "                                            output_dim=FLAGS.hidden1,\n",
    "                                            placeholders=self.placeholders,\n",
    "                                            act=tf.nn.relu,\n",
    "                                            dropout=True,\n",
    "                                            sparse_inputs=True,\n",
    "                                            logging=self.logging))\n",
    "\n",
    "        self.layers.append(GraphConvolution(input_dim=FLAGS.hidden1,\n",
    "                                            output_dim=self.output_dim,\n",
    "                                            placeholders=self.placeholders,\n",
    "                                            act=lambda x: x,\n",
    "                                            dropout=True,\n",
    "                                            logging=self.logging))\n",
    "\n",
    "    def predict(self):\n",
    "        return self.outputs    #tf.nn.softmax(self.outputs)"
   ]
  },
  {
   "cell_type": "code",
   "execution_count": 9,
   "metadata": {
    "collapsed": true
   },
   "outputs": [],
   "source": [
    "def preprocess_adj(adj):\n",
    "    \"\"\"Preprocessing of adjacency matrix for simple GCN model and conversion to tuple representation.\"\"\"\n",
    "    adj_normalized = normalize_adj(adj + sp.eye(adj.shape[0]))\n",
    "    return sparse_to_tuple(adj_normalized)\n",
    "\n",
    "# A^2\n",
    "#    adj_square = np.power(adj,2).tocoo()\n",
    "#    return sparse_to_tuple(adj)"
   ]
  },
  {
   "cell_type": "code",
   "execution_count": 10,
   "metadata": {},
   "outputs": [],
   "source": [
    "# Randomly generate graph with 500 nodes\n",
    "adj = nx.adjacency_matrix(G)\n",
    "\n",
    "# Generate feature matrix  #there is difference between different version of networkx, 这里是用networkx 2.0. 原来1.1的用法注释掉了\n",
    "#features = sp.vstack(list(j[1] for j in G.in_degree(G.nodes())),dtype = 'float32').tolil()\n",
    "features = sp.vstack(list(G.in_degree(G.nodes()).values()),dtype = 'float32').tolil()   \n",
    "\n",
    "# Feed labels to 20 nodes\n",
    "label = []\n",
    "for i in G.nodes():\n",
    "    #label.append(G.nodes[i]['score']) 我用的1.1语法-yiming\n",
    "    label.append(G[i]['score'])\n",
    "        \n",
    "alabel = np.array(label, dtype='float64')\n",
    "\n",
    "idx_train = range(800)\n",
    "idx_val = range(800, 800 + 100) #20000改到500 for preferential attachment model\n",
    "\n",
    "y_train = np.zeros([n, 1])   #n is number of total nodes, =281903\n",
    "train_mask = np.zeros([n, ], dtype = 'bool')\n",
    "for i in idx_train:\n",
    "    y_train[i] = alabel[i]\n",
    "    train_mask[i] = True\n",
    "\n",
    "y_val = np.zeros([n, 1])\n",
    "val_mask = np.zeros([n, ], dtype = 'bool')\n",
    "for i in idx_val:\n",
    "    y_val[i] = alabel[i]\n",
    "    val_mask[i] = True"
   ]
  },
  {
   "cell_type": "code",
   "execution_count": 11,
   "metadata": {},
   "outputs": [
    {
     "name": "stderr",
     "output_type": "stream",
     "text": [
      "/Users/Yiming/Desktop/Homework/IE 532/Project/gcn/utils.py:97: RuntimeWarning: divide by zero encountered in power\n",
      "  r_inv = np.power(rowsum, -1).flatten()\n"
     ]
    }
   ],
   "source": [
    "# Load data\n",
    "#adj, features, y_train, y_val, y_test, train_mask, val_mask, test_mask = load_data(FLAGS.dataset)\n",
    "\n",
    "# Some preprocessing\n",
    "features = preprocess_features(features)\n",
    "if FLAGS.model == 'gcn':\n",
    "    support = [preprocess_adj(adj)]\n",
    "    num_supports = 1\n",
    "    model_func = GCN\n",
    "elif FLAGS.model == 'gcn_cheby':\n",
    "    support = chebyshev_polynomials(adj, FLAGS.max_degree)\n",
    "    num_supports = 1 + FLAGS.max_degree\n",
    "    model_func = GCN\n",
    "elif FLAGS.model == 'dense':\n",
    "    support = [preprocess_adj(adj)]  # Not used\n",
    "    num_supports = 1\n",
    "    model_func = MLP\n",
    "else:\n",
    "    raise ValueError('Invalid argument for model: ' + str(FLAGS.model))\n",
    "\n",
    "# Define placeholders\n",
    "placeholders = {\n",
    "    'support': [tf.sparse_placeholder(tf.float32) for _ in range(num_supports)],\n",
    "    'features': tf.sparse_placeholder(tf.float32, shape=tf.constant(features[2], dtype=tf.int64)),\n",
    "    'labels': tf.placeholder(tf.float32, shape=(None, y_train.shape[1])),\n",
    "    'labels_mask': tf.placeholder(tf.int32),\n",
    "    'dropout': tf.placeholder_with_default(0., shape=()),\n",
    "    'num_features_nonzero': tf.placeholder(tf.int32)  # helper variable for sparse dropout\n",
    "}\n",
    "\n",
    "# Create model\n",
    "model = model_func(placeholders, input_dim=features[2][1], logging=True)\n",
    "\n",
    "# Initialize session\n",
    "sess = tf.Session()\n",
    "\n",
    "\n",
    "# Define model evaluation function\n",
    "def evaluate(features, support, labels, mask, placeholders):\n",
    "    t_test = time.time()\n",
    "    feed_dict_val = construct_feed_dict(features, support, labels, mask, placeholders)\n",
    "    outs_val = sess.run([model.loss, model.accuracy], feed_dict=feed_dict_val)\n",
    "    return outs_val[0], outs_val[1], (time.time() - t_test)"
   ]
  },
  {
   "cell_type": "code",
   "execution_count": 12,
   "metadata": {},
   "outputs": [
    {
     "name": "stdout",
     "output_type": "stream",
     "text": [
      "Epoch: 0001 train_loss= 8.27889 train_rmse= 0.12867 val_loss= 106.60499 val_rmse= 0.46175 time= 0.02576\n",
      "Epoch: 0002 train_loss= 112.39001 train_rmse= 0.47411 val_loss= 11.65066 val_rmse= 0.15265 time= 0.00390\n",
      "Epoch: 0003 train_loss= 14.05488 train_rmse= 0.16766 val_loss= 15.29823 val_rmse= 0.17492 time= 0.00361\n",
      "Epoch: 0004 train_loss= 23.55723 train_rmse= 0.21706 val_loss= 30.05159 val_rmse= 0.24516 time= 0.00366\n",
      "Epoch: 0005 train_loss= 31.75224 train_rmse= 0.25200 val_loss= 15.04723 val_rmse= 0.17348 time= 0.00328\n",
      "Epoch: 0006 train_loss= 17.38722 train_rmse= 0.18648 val_loss= 0.60944 val_rmse= 0.03491 time= 0.00336\n",
      "Epoch: 0007 train_loss= 1.72165 train_rmse= 0.05868 val_loss= 15.90842 val_rmse= 0.17837 time= 0.00436\n",
      "Epoch: 0008 train_loss= 17.32226 train_rmse= 0.18613 val_loss= 10.18412 val_rmse= 0.14272 time= 0.00355\n",
      "Epoch: 0009 train_loss= 11.49868 train_rmse= 0.15165 val_loss= 0.99315 val_rmse= 0.04456 time= 0.00342\n",
      "Epoch: 0010 train_loss= 3.42225 train_rmse= 0.08273 val_loss= 1.63666 val_rmse= 0.05721 time= 0.00312\n",
      "Epoch: 0011 train_loss= 3.36555 train_rmse= 0.08204 val_loss= 5.23832 val_rmse= 0.10235 time= 0.00355\n",
      "Epoch: 0012 train_loss= 5.71194 train_rmse= 0.10688 val_loss= 3.48083 val_rmse= 0.08343 time= 0.00339\n",
      "Epoch: 0013 train_loss= 4.64098 train_rmse= 0.09634 val_loss= 0.28805 val_rmse= 0.02399 time= 0.00340\n",
      "Epoch: 0014 train_loss= 1.44481 train_rmse= 0.05375 val_loss= 0.74225 val_rmse= 0.03852 time= 0.00311\n",
      "Epoch: 0015 train_loss= 2.09783 train_rmse= 0.06477 val_loss= 2.95660 val_rmse= 0.07689 time= 0.00358\n",
      "Epoch: 0016 train_loss= 4.46284 train_rmse= 0.09447 val_loss= 2.79804 val_rmse= 0.07480 time= 0.00340\n",
      "Epoch: 0017 train_loss= 5.47849 train_rmse= 0.10467 val_loss= 0.70591 val_rmse= 0.03756 time= 0.00331\n",
      "Epoch: 0018 train_loss= 1.51621 train_rmse= 0.05506 val_loss= 0.05699 val_rmse= 0.01064 time= 0.00359\n",
      "Epoch: 0019 train_loss= 1.03776 train_rmse= 0.04555 val_loss= 1.32807 val_rmse= 0.05153 time= 0.00349\n",
      "Epoch: 0020 train_loss= 2.15503 train_rmse= 0.06564 val_loss= 2.34683 val_rmse= 0.06850 time= 0.00329\n",
      "Epoch: 0021 train_loss= 3.17734 train_rmse= 0.07971 val_loss= 1.65520 val_rmse= 0.05753 time= 0.00322\n",
      "Epoch: 0022 train_loss= 2.32267 train_rmse= 0.06815 val_loss= 0.38866 val_rmse= 0.02786 time= 0.00334\n",
      "Epoch: 0023 train_loss= 1.30139 train_rmse= 0.05101 val_loss= 0.03935 val_rmse= 0.00882 time= 0.00342\n",
      "Epoch: 0024 train_loss= 1.34344 train_rmse= 0.05183 val_loss= 0.87579 val_rmse= 0.04184 time= 0.00339\n",
      "Epoch: 0025 train_loss= 1.45721 train_rmse= 0.05398 val_loss= 1.65038 val_rmse= 0.05744 time= 0.00328\n",
      "Epoch: 0026 train_loss= 2.24125 train_rmse= 0.06694 val_loss= 1.44827 val_rmse= 0.05381 time= 0.00340\n",
      "Epoch: 0027 train_loss= 1.98368 train_rmse= 0.06298 val_loss= 0.61200 val_rmse= 0.03497 time= 0.00377\n",
      "Epoch: 0028 train_loss= 1.32469 train_rmse= 0.05146 val_loss= 0.03092 val_rmse= 0.00780 time= 0.00354\n",
      "Epoch: 0029 train_loss= 0.92075 train_rmse= 0.04290 val_loss= 0.19743 val_rmse= 0.01984 time= 0.00355\n",
      "Epoch: 0030 train_loss= 1.09827 train_rmse= 0.04686 val_loss= 0.67863 val_rmse= 0.03683 time= 0.00375\n",
      "Epoch: 0031 train_loss= 1.54332 train_rmse= 0.05555 val_loss= 0.77339 val_rmse= 0.03932 time= 0.00356\n",
      "Epoch: 0032 train_loss= 1.49784 train_rmse= 0.05472 val_loss= 0.59224 val_rmse= 0.03440 time= 0.00348\n",
      "Epoch: 0033 train_loss= 1.24958 train_rmse= 0.04998 val_loss= 0.20142 val_rmse= 0.02004 time= 0.00311\n",
      "Epoch: 0034 train_loss= 0.76557 train_rmse= 0.03912 val_loss= 0.00126 val_rmse= 0.00120 time= 0.00372\n",
      "Epoch: 0035 train_loss= 0.43490 train_rmse= 0.02947 val_loss= 0.11239 val_rmse= 0.01496 time= 0.00357\n",
      "Epoch: 0036 train_loss= 0.54991 train_rmse= 0.03315 val_loss= 0.32027 val_rmse= 0.02529 time= 0.00343\n",
      "Epoch: 0037 train_loss= 0.94830 train_rmse= 0.04354 val_loss= 0.34637 val_rmse= 0.02630 time= 0.00440\n",
      "Epoch: 0038 train_loss= 0.85885 train_rmse= 0.04143 val_loss= 0.20523 val_rmse= 0.02023 time= 0.00343\n",
      "Epoch: 0039 train_loss= 0.52179 train_rmse= 0.03229 val_loss= 0.05126 val_rmse= 0.01007 time= 0.00438\n",
      "Epoch: 0040 train_loss= 0.40569 train_rmse= 0.02847 val_loss= 0.00293 val_rmse= 0.00218 time= 0.00427\n",
      "Epoch: 0041 train_loss= 0.31218 train_rmse= 0.02496 val_loss= 0.08372 val_rmse= 0.01290 time= 0.00347\n",
      "Epoch: 0042 train_loss= 0.58928 train_rmse= 0.03431 val_loss= 0.22621 val_rmse= 0.02124 time= 0.00395\n",
      "Epoch: 0043 train_loss= 0.48403 train_rmse= 0.03110 val_loss= 0.30253 val_rmse= 0.02458 time= 0.00487\n",
      "Epoch: 0044 train_loss= 0.66477 train_rmse= 0.03645 val_loss= 0.22602 val_rmse= 0.02123 time= 0.00611\n",
      "Epoch: 0045 train_loss= 0.76640 train_rmse= 0.03914 val_loss= 0.07582 val_rmse= 0.01227 time= 0.00796\n",
      "Epoch: 0046 train_loss= 0.35524 train_rmse= 0.02663 val_loss= 0.00165 val_rmse= 0.00148 time= 0.00620\n",
      "Epoch: 0047 train_loss= 0.50490 train_rmse= 0.03176 val_loss= 0.02593 val_rmse= 0.00712 time= 0.00665\n",
      "Epoch: 0048 train_loss= 0.28641 train_rmse= 0.02391 val_loss= 0.08558 val_rmse= 0.01304 time= 0.00763\n",
      "Epoch: 0049 train_loss= 0.32706 train_rmse= 0.02555 val_loss= 0.12294 val_rmse= 0.01564 time= 0.00629\n",
      "Epoch: 0050 train_loss= 0.47565 train_rmse= 0.03082 val_loss= 0.11415 val_rmse= 0.01507 time= 0.00645\n",
      "Epoch: 0051 train_loss= 0.30509 train_rmse= 0.02468 val_loss= 0.06867 val_rmse= 0.01167 time= 0.00437\n",
      "Epoch: 0052 train_loss= 0.39854 train_rmse= 0.02821 val_loss= 0.01356 val_rmse= 0.00510 time= 0.00704\n",
      "Epoch: 0053 train_loss= 0.27523 train_rmse= 0.02344 val_loss= 0.00310 val_rmse= 0.00225 time= 0.00614\n",
      "Epoch: 0054 train_loss= 0.36163 train_rmse= 0.02687 val_loss= 0.04364 val_rmse= 0.00928 time= 0.00634\n",
      "Epoch: 0055 train_loss= 0.23794 train_rmse= 0.02179 val_loss= 0.09335 val_rmse= 0.01362 time= 0.00656\n",
      "Epoch: 0056 train_loss= 0.27795 train_rmse= 0.02355 val_loss= 0.11421 val_rmse= 0.01508 time= 0.00942\n",
      "Epoch: 0057 train_loss= 0.39651 train_rmse= 0.02814 val_loss= 0.10165 val_rmse= 0.01422 time= 0.00612\n",
      "Epoch: 0058 train_loss= 0.41765 train_rmse= 0.02888 val_loss= 0.07380 val_rmse= 0.01210 time= 0.00513\n",
      "Epoch: 0059 train_loss= 0.26295 train_rmse= 0.02291 val_loss= 0.02984 val_rmse= 0.00765 time= 0.00439\n",
      "Epoch: 0060 train_loss= 0.20415 train_rmse= 0.02018 val_loss= 0.00221 val_rmse= 0.00182 time= 0.00431\n",
      "Epoch: 0061 train_loss= 0.17896 train_rmse= 0.01889 val_loss= 0.00895 val_rmse= 0.00410 time= 0.00879\n",
      "Epoch: 0062 train_loss= 0.16964 train_rmse= 0.01839 val_loss= 0.03573 val_rmse= 0.00839 time= 0.00450\n",
      "Epoch: 0063 train_loss= 0.18661 train_rmse= 0.01929 val_loss= 0.06152 val_rmse= 0.01104 time= 0.00596\n",
      "Epoch: 0064 train_loss= 0.21281 train_rmse= 0.02060 val_loss= 0.07241 val_rmse= 0.01199 time= 0.00403\n",
      "Epoch: 0065 train_loss= 0.26385 train_rmse= 0.02295 val_loss= 0.05444 val_rmse= 0.01038 time= 0.00560\n",
      "Epoch: 0066 train_loss= 0.36422 train_rmse= 0.02697 val_loss= 0.02362 val_rmse= 0.00679 time= 0.00480\n",
      "Epoch: 0067 train_loss= 0.14627 train_rmse= 0.01707 val_loss= 0.00409 val_rmse= 0.00266 time= 0.00363\n",
      "Epoch: 0068 train_loss= 0.20585 train_rmse= 0.02026 val_loss= 0.00237 val_rmse= 0.00190 time= 0.00657\n",
      "Epoch: 0069 train_loss= 0.13522 train_rmse= 0.01641 val_loss= 0.01728 val_rmse= 0.00578 time= 0.00336\n",
      "Epoch: 0070 train_loss= 0.24862 train_rmse= 0.02227 val_loss= 0.02633 val_rmse= 0.00718 time= 0.00365\n",
      "Epoch: 0071 train_loss= 0.17594 train_rmse= 0.01873 val_loss= 0.02244 val_rmse= 0.00661 time= 0.00465\n",
      "Epoch: 0072 train_loss= 0.16170 train_rmse= 0.01795 val_loss= 0.01308 val_rmse= 0.00501 time= 0.00359\n",
      "Epoch: 0073 train_loss= 0.18053 train_rmse= 0.01897 val_loss= 0.00256 val_rmse= 0.00200 time= 0.00355\n",
      "Epoch: 0074 train_loss= 0.15484 train_rmse= 0.01757 val_loss= 0.00114 val_rmse= 0.00108 time= 0.00599\n",
      "Epoch: 0075 train_loss= 0.16966 train_rmse= 0.01839 val_loss= 0.00552 val_rmse= 0.00315 time= 0.00407\n",
      "Epoch: 0076 train_loss= 0.12141 train_rmse= 0.01555 val_loss= 0.01071 val_rmse= 0.00451 time= 0.00472\n",
      "Epoch: 0077 train_loss= 0.13320 train_rmse= 0.01629 val_loss= 0.01214 val_rmse= 0.00481 time= 0.00412\n",
      "Epoch: 0078 train_loss= 0.13144 train_rmse= 0.01618 val_loss= 0.01146 val_rmse= 0.00467 time= 0.00431\n",
      "Epoch: 0079 train_loss= 0.14785 train_rmse= 0.01716 val_loss= 0.00848 val_rmse= 0.00398 time= 0.00692\n",
      "Epoch: 0080 train_loss= 0.12301 train_rmse= 0.01565 val_loss= 0.00343 val_rmse= 0.00240 time= 0.00585\n",
      "Epoch: 0081 train_loss= 0.15250 train_rmse= 0.01743 val_loss= 0.00132 val_rmse= 0.00124 time= 0.00863\n",
      "Epoch: 0082 train_loss= 0.10740 train_rmse= 0.01462 val_loss= 0.00064 val_rmse= 0.00041 time= 0.00432\n",
      "Epoch: 0083 train_loss= 0.18570 train_rmse= 0.01924 val_loss= 0.00071 val_rmse= 0.00057 time= 0.00446\n",
      "Epoch: 0084 train_loss= 0.12104 train_rmse= 0.01552 val_loss= 0.00068 val_rmse= 0.00051 time= 0.00593\n",
      "Epoch: 0085 train_loss= 0.08812 train_rmse= 0.01323 val_loss= 0.00070 val_rmse= 0.00055 time= 0.01014\n",
      "Epoch: 0086 train_loss= 0.09428 train_rmse= 0.01369 val_loss= 0.00075 val_rmse= 0.00062 time= 0.00629\n",
      "Epoch: 0087 train_loss= 0.09426 train_rmse= 0.01369 val_loss= 0.00105 val_rmse= 0.00100 time= 0.00907\n",
      "Epoch: 0088 train_loss= 0.08760 train_rmse= 0.01319 val_loss= 0.00158 val_rmse= 0.00144 time= 0.00501\n",
      "Epoch: 0089 train_loss= 0.14551 train_rmse= 0.01703 val_loss= 0.00260 val_rmse= 0.00202 time= 0.00747\n",
      "Epoch: 0090 train_loss= 0.12764 train_rmse= 0.01594 val_loss= 0.00451 val_rmse= 0.00281 time= 0.00634\n",
      "Epoch: 0091 train_loss= 0.07607 train_rmse= 0.01229 val_loss= 0.00694 val_rmse= 0.00357 time= 0.00459\n",
      "Epoch: 0092 train_loss= 0.20247 train_rmse= 0.02010 val_loss= 0.00621 val_rmse= 0.00336 time= 0.00473\n",
      "Epoch: 0093 train_loss= 0.12515 train_rmse= 0.01579 val_loss= 0.00465 val_rmse= 0.00286 time= 0.00629\n",
      "Epoch: 0094 train_loss= 0.09594 train_rmse= 0.01381 val_loss= 0.00273 val_rmse= 0.00209 time= 0.00350\n",
      "Epoch: 0095 train_loss= 0.08782 train_rmse= 0.01321 val_loss= 0.00096 val_rmse= 0.00091 time= 0.00727\n",
      "Epoch: 0096 train_loss= 0.13984 train_rmse= 0.01669 val_loss= 0.00116 val_rmse= 0.00111 time= 0.00394\n",
      "Epoch: 0097 train_loss= 0.07539 train_rmse= 0.01223 val_loss= 0.00390 val_rmse= 0.00259 time= 0.00415\n",
      "Epoch: 0098 train_loss= 0.14057 train_rmse= 0.01673 val_loss= 0.00475 val_rmse= 0.00290 time= 0.00709\n",
      "Epoch: 0099 train_loss= 0.07844 train_rmse= 0.01248 val_loss= 0.00443 val_rmse= 0.00279 time= 0.00460\n",
      "Epoch: 0100 train_loss= 0.10555 train_rmse= 0.01449 val_loss= 0.00316 val_rmse= 0.00229 time= 0.00754\n"
     ]
    },
    {
     "name": "stdout",
     "output_type": "stream",
     "text": [
      "Epoch: 0101 train_loss= 0.08127 train_rmse= 0.01271 val_loss= 0.00182 val_rmse= 0.00160 time= 0.00479\n",
      "Epoch: 0102 train_loss= 0.08791 train_rmse= 0.01322 val_loss= 0.00110 val_rmse= 0.00106 time= 0.00500\n",
      "Epoch: 0103 train_loss= 0.12858 train_rmse= 0.01600 val_loss= 0.00062 val_rmse= 0.00039 time= 0.00853\n",
      "Epoch: 0104 train_loss= 0.08030 train_rmse= 0.01263 val_loss= 0.00196 val_rmse= 0.00168 time= 0.00547\n",
      "Epoch: 0105 train_loss= 0.08685 train_rmse= 0.01314 val_loss= 0.00614 val_rmse= 0.00334 time= 0.00734\n",
      "Epoch: 0106 train_loss= 0.08499 train_rmse= 0.01300 val_loss= 0.01124 val_rmse= 0.00462 time= 0.00544\n",
      "Epoch: 0107 train_loss= 0.08894 train_rmse= 0.01330 val_loss= 0.01537 val_rmse= 0.00545 time= 0.00687\n",
      "Epoch: 0108 train_loss= 0.07468 train_rmse= 0.01218 val_loss= 0.01680 val_rmse= 0.00570 time= 0.00481\n",
      "Epoch: 0109 train_loss= 0.08966 train_rmse= 0.01335 val_loss= 0.01275 val_rmse= 0.00494 time= 0.00665\n",
      "Epoch: 0110 train_loss= 0.08895 train_rmse= 0.01330 val_loss= 0.00678 val_rmse= 0.00353 time= 0.00627\n",
      "Epoch: 0111 train_loss= 0.05580 train_rmse= 0.01051 val_loss= 0.00228 val_rmse= 0.00187 time= 0.00999\n",
      "Epoch: 0112 train_loss= 0.07960 train_rmse= 0.01257 val_loss= 0.00080 val_rmse= 0.00071 time= 0.00747\n",
      "Epoch: 0113 train_loss= 0.06706 train_rmse= 0.01153 val_loss= 0.00069 val_rmse= 0.00054 time= 0.00770\n",
      "Epoch: 0114 train_loss= 0.06630 train_rmse= 0.01147 val_loss= 0.00124 val_rmse= 0.00118 time= 0.00686\n",
      "Epoch: 0115 train_loss= 0.08786 train_rmse= 0.01322 val_loss= 0.00223 val_rmse= 0.00184 time= 0.01089\n",
      "Epoch: 0116 train_loss= 0.06505 train_rmse= 0.01136 val_loss= 0.00289 val_rmse= 0.00217 time= 0.00558\n",
      "Epoch: 0117 train_loss= 0.08433 train_rmse= 0.01295 val_loss= 0.00326 val_rmse= 0.00233 time= 0.00782\n",
      "Epoch: 0118 train_loss= 0.06407 train_rmse= 0.01127 val_loss= 0.00297 val_rmse= 0.00220 time= 0.00390\n",
      "Epoch: 0119 train_loss= 0.06991 train_rmse= 0.01178 val_loss= 0.00215 val_rmse= 0.00179 time= 0.00771\n",
      "Epoch: 0120 train_loss= 0.05669 train_rmse= 0.01060 val_loss= 0.00146 val_rmse= 0.00136 time= 0.00485\n",
      "Epoch: 0121 train_loss= 0.05835 train_rmse= 0.01075 val_loss= 0.00088 val_rmse= 0.00082 time= 0.00586\n",
      "Epoch: 0122 train_loss= 0.04774 train_rmse= 0.00972 val_loss= 0.00061 val_rmse= 0.00038 time= 0.00460\n",
      "Epoch: 0123 train_loss= 0.06594 train_rmse= 0.01144 val_loss= 0.00094 val_rmse= 0.00089 time= 0.00401\n",
      "Epoch: 0124 train_loss= 0.09128 train_rmse= 0.01347 val_loss= 0.00115 val_rmse= 0.00110 time= 0.00632\n",
      "Epoch: 0125 train_loss= 0.09289 train_rmse= 0.01359 val_loss= 0.00203 val_rmse= 0.00173 time= 0.00547\n",
      "Epoch: 0126 train_loss= 0.04373 train_rmse= 0.00929 val_loss= 0.00290 val_rmse= 0.00217 time= 0.00448\n",
      "Epoch: 0127 train_loss= 0.07950 train_rmse= 0.01257 val_loss= 0.00431 val_rmse= 0.00275 time= 0.00647\n",
      "Epoch: 0128 train_loss= 0.04392 train_rmse= 0.00931 val_loss= 0.00548 val_rmse= 0.00314 time= 0.00523\n",
      "Epoch: 0129 train_loss= 0.06902 train_rmse= 0.01170 val_loss= 0.00665 val_rmse= 0.00350 time= 0.00516\n",
      "Epoch: 0130 train_loss= 0.13288 train_rmse= 0.01627 val_loss= 0.00462 val_rmse= 0.00286 time= 0.00641\n",
      "Epoch: 0131 train_loss= 0.04625 train_rmse= 0.00956 val_loss= 0.00232 val_rmse= 0.00189 time= 0.00480\n",
      "Epoch: 0132 train_loss= 0.06458 train_rmse= 0.01132 val_loss= 0.00115 val_rmse= 0.00111 time= 0.00451\n",
      "Epoch: 0133 train_loss= 0.04604 train_rmse= 0.00954 val_loss= 0.00062 val_rmse= 0.00040 time= 0.00395\n",
      "Epoch: 0134 train_loss= 0.12269 train_rmse= 0.01563 val_loss= 0.00143 val_rmse= 0.00134 time= 0.00422\n",
      "Epoch: 0135 train_loss= 0.04710 train_rmse= 0.00965 val_loss= 0.00320 val_rmse= 0.00231 time= 0.00527\n",
      "Epoch: 0136 train_loss= 0.04183 train_rmse= 0.00909 val_loss= 0.00455 val_rmse= 0.00283 time= 0.00538\n",
      "Epoch: 0137 train_loss= 0.05058 train_rmse= 0.01000 val_loss= 0.00480 val_rmse= 0.00292 time= 0.00440\n",
      "Epoch: 0138 train_loss= 0.06013 train_rmse= 0.01092 val_loss= 0.00334 val_rmse= 0.00237 time= 0.00821\n",
      "Epoch: 0139 train_loss= 0.04573 train_rmse= 0.00951 val_loss= 0.00142 val_rmse= 0.00133 time= 0.00729\n",
      "Epoch: 0140 train_loss= 0.04849 train_rmse= 0.00979 val_loss= 0.00063 val_rmse= 0.00043 time= 0.00737\n",
      "Epoch: 0141 train_loss= 0.05336 train_rmse= 0.01028 val_loss= 0.00223 val_rmse= 0.00184 time= 0.00453\n",
      "Epoch: 0142 train_loss= 0.06048 train_rmse= 0.01095 val_loss= 0.00679 val_rmse= 0.00354 time= 0.00491\n",
      "Epoch: 0143 train_loss= 0.04080 train_rmse= 0.00897 val_loss= 0.01123 val_rmse= 0.00463 time= 0.00523\n",
      "Epoch: 0144 train_loss= 0.07655 train_rmse= 0.01233 val_loss= 0.01591 val_rmse= 0.00555 time= 0.00632\n",
      "Epoch: 0145 train_loss= 0.05940 train_rmse= 0.01085 val_loss= 0.01512 val_rmse= 0.00540 time= 0.00512\n",
      "Epoch: 0146 train_loss= 0.04536 train_rmse= 0.00947 val_loss= 0.01096 val_rmse= 0.00457 time= 0.00356\n",
      "Epoch: 0147 train_loss= 0.04986 train_rmse= 0.00993 val_loss= 0.00556 val_rmse= 0.00317 time= 0.00368\n",
      "Epoch: 0148 train_loss= 0.04603 train_rmse= 0.00954 val_loss= 0.00147 val_rmse= 0.00137 time= 0.00394\n",
      "Epoch: 0149 train_loss= 0.06680 train_rmse= 0.01151 val_loss= 0.00086 val_rmse= 0.00081 time= 0.00383\n",
      "Epoch: 0150 train_loss= 0.03067 train_rmse= 0.00776 val_loss= 0.00308 val_rmse= 0.00226 time= 0.00411\n",
      "Epoch: 0151 train_loss= 0.04176 train_rmse= 0.00908 val_loss= 0.00508 val_rmse= 0.00302 time= 0.00364\n",
      "Epoch: 0152 train_loss= 0.03925 train_rmse= 0.00880 val_loss= 0.00553 val_rmse= 0.00316 time= 0.00352\n",
      "Epoch: 0153 train_loss= 0.04861 train_rmse= 0.00981 val_loss= 0.00388 val_rmse= 0.00259 time= 0.00388\n",
      "Epoch: 0154 train_loss= 0.04467 train_rmse= 0.00940 val_loss= 0.00168 val_rmse= 0.00152 time= 0.00349\n",
      "Epoch: 0155 train_loss= 0.04219 train_rmse= 0.00913 val_loss= 0.00060 val_rmse= 0.00036 time= 0.00366\n",
      "Epoch: 0156 train_loss= 0.03655 train_rmse= 0.00849 val_loss= 0.00157 val_rmse= 0.00144 time= 0.00363\n",
      "Epoch: 0157 train_loss= 0.03499 train_rmse= 0.00830 val_loss= 0.00348 val_rmse= 0.00243 time= 0.00337\n",
      "Epoch: 0158 train_loss= 0.04921 train_rmse= 0.00987 val_loss= 0.00466 val_rmse= 0.00287 time= 0.00418\n",
      "Epoch: 0159 train_loss= 0.04454 train_rmse= 0.00938 val_loss= 0.00444 val_rmse= 0.00279 time= 0.00368\n",
      "Epoch: 0160 train_loss= 0.03640 train_rmse= 0.00847 val_loss= 0.00350 val_rmse= 0.00244 time= 0.00354\n",
      "Epoch: 0161 train_loss= 0.02775 train_rmse= 0.00738 val_loss= 0.00250 val_rmse= 0.00199 time= 0.00378\n",
      "Epoch: 0162 train_loss= 0.03972 train_rmse= 0.00885 val_loss= 0.00163 val_rmse= 0.00148 time= 0.00388\n",
      "Epoch: 0163 train_loss= 0.03143 train_rmse= 0.00786 val_loss= 0.00087 val_rmse= 0.00083 time= 0.00365\n",
      "Epoch: 0164 train_loss= 0.04137 train_rmse= 0.00904 val_loss= 0.00065 val_rmse= 0.00050 time= 0.00335\n",
      "Epoch: 0165 train_loss= 0.04485 train_rmse= 0.00942 val_loss= 0.00060 val_rmse= 0.00039 time= 0.00382\n",
      "Epoch: 0166 train_loss= 0.04278 train_rmse= 0.00919 val_loss= 0.00087 val_rmse= 0.00083 time= 0.00477\n",
      "Epoch: 0167 train_loss= 0.03334 train_rmse= 0.00810 val_loss= 0.00093 val_rmse= 0.00090 time= 0.00407\n",
      "Epoch: 0168 train_loss= 0.04423 train_rmse= 0.00935 val_loss= 0.00071 val_rmse= 0.00059 time= 0.00407\n",
      "Epoch: 0169 train_loss= 0.03392 train_rmse= 0.00817 val_loss= 0.00060 val_rmse= 0.00038 time= 0.00534\n",
      "Epoch: 0170 train_loss= 0.03460 train_rmse= 0.00826 val_loss= 0.00098 val_rmse= 0.00095 time= 0.00457\n",
      "Epoch: 0171 train_loss= 0.03959 train_rmse= 0.00884 val_loss= 0.00159 val_rmse= 0.00145 time= 0.00477\n",
      "Epoch: 0172 train_loss= 0.02782 train_rmse= 0.00739 val_loss= 0.00236 val_rmse= 0.00191 time= 0.00530\n",
      "Epoch: 0173 train_loss= 0.03100 train_rmse= 0.00781 val_loss= 0.00251 val_rmse= 0.00199 time= 0.00383\n",
      "Epoch: 0174 train_loss= 0.02738 train_rmse= 0.00733 val_loss= 0.00222 val_rmse= 0.00184 time= 0.00371\n",
      "Epoch: 0175 train_loss= 0.03015 train_rmse= 0.00770 val_loss= 0.00171 val_rmse= 0.00154 time= 0.00369\n",
      "Epoch: 0176 train_loss= 0.03102 train_rmse= 0.00781 val_loss= 0.00104 val_rmse= 0.00101 time= 0.00333\n",
      "Epoch: 0177 train_loss= 0.03084 train_rmse= 0.00779 val_loss= 0.00066 val_rmse= 0.00052 time= 0.00337\n",
      "Epoch: 0178 train_loss= 0.02873 train_rmse= 0.00751 val_loss= 0.00061 val_rmse= 0.00041 time= 0.00359\n",
      "Epoch: 0179 train_loss= 0.05004 train_rmse= 0.00995 val_loss= 0.00061 val_rmse= 0.00041 time= 0.00359\n",
      "Epoch: 0180 train_loss= 0.02581 train_rmse= 0.00711 val_loss= 0.00059 val_rmse= 0.00036 time= 0.00361\n",
      "Epoch: 0181 train_loss= 0.02724 train_rmse= 0.00731 val_loss= 0.00061 val_rmse= 0.00040 time= 0.00347\n",
      "Epoch: 0182 train_loss= 0.03335 train_rmse= 0.00810 val_loss= 0.00061 val_rmse= 0.00041 time= 0.00359\n",
      "Epoch: 0183 train_loss= 0.02526 train_rmse= 0.00703 val_loss= 0.00069 val_rmse= 0.00057 time= 0.00351\n",
      "Epoch: 0184 train_loss= 0.03419 train_rmse= 0.00821 val_loss= 0.00089 val_rmse= 0.00085 time= 0.00336\n",
      "Epoch: 0185 train_loss= 0.04103 train_rmse= 0.00900 val_loss= 0.00150 val_rmse= 0.00139 time= 0.00362\n",
      "Epoch: 0186 train_loss= 0.02531 train_rmse= 0.00704 val_loss= 0.00224 val_rmse= 0.00185 time= 0.00362\n",
      "Epoch: 0187 train_loss= 0.02301 train_rmse= 0.00671 val_loss= 0.00260 val_rmse= 0.00203 time= 0.00374\n",
      "Epoch: 0188 train_loss= 0.02909 train_rmse= 0.00756 val_loss= 0.00236 val_rmse= 0.00191 time= 0.00353\n",
      "Epoch: 0189 train_loss= 0.02337 train_rmse= 0.00676 val_loss= 0.00204 val_rmse= 0.00174 time= 0.00340\n",
      "Epoch: 0190 train_loss= 0.02348 train_rmse= 0.00677 val_loss= 0.00167 val_rmse= 0.00152 time= 0.00360\n",
      "Epoch: 0191 train_loss= 0.02886 train_rmse= 0.00753 val_loss= 0.00115 val_rmse= 0.00112 time= 0.00352\n",
      "Epoch: 0192 train_loss= 0.02436 train_rmse= 0.00690 val_loss= 0.00075 val_rmse= 0.00067 time= 0.00338\n",
      "Epoch: 0193 train_loss= 0.01981 train_rmse= 0.00621 val_loss= 0.00060 val_rmse= 0.00039 time= 0.00348\n",
      "Epoch: 0194 train_loss= 0.03118 train_rmse= 0.00783 val_loss= 0.00061 val_rmse= 0.00042 time= 0.00382\n",
      "Epoch: 0195 train_loss= 0.02267 train_rmse= 0.00665 val_loss= 0.00070 val_rmse= 0.00058 time= 0.00378\n",
      "Epoch: 0196 train_loss= 0.02505 train_rmse= 0.00700 val_loss= 0.00077 val_rmse= 0.00070 time= 0.00329\n",
      "Epoch: 0197 train_loss= 0.02325 train_rmse= 0.00674 val_loss= 0.00067 val_rmse= 0.00055 time= 0.00379\n",
      "Epoch: 0198 train_loss= 0.02195 train_rmse= 0.00655 val_loss= 0.00059 val_rmse= 0.00037 time= 0.00340\n",
      "Epoch: 0199 train_loss= 0.02475 train_rmse= 0.00696 val_loss= 0.00061 val_rmse= 0.00041 time= 0.00396\n",
      "Epoch: 0200 train_loss= 0.01948 train_rmse= 0.00616 val_loss= 0.00083 val_rmse= 0.00078 time= 0.00345\n",
      "Epoch: 0201 train_loss= 0.02016 train_rmse= 0.00627 val_loss= 0.00127 val_rmse= 0.00122 time= 0.00336\n",
      "Epoch: 0202 train_loss= 0.01844 train_rmse= 0.00599 val_loss= 0.00183 val_rmse= 0.00162 time= 0.00386\n",
      "Epoch: 0203 train_loss= 0.02286 train_rmse= 0.00668 val_loss= 0.00228 val_rmse= 0.00187 time= 0.00331\n",
      "Epoch: 0204 train_loss= 0.03062 train_rmse= 0.00776 val_loss= 0.00218 val_rmse= 0.00182 time= 0.00337\n"
     ]
    },
    {
     "name": "stdout",
     "output_type": "stream",
     "text": [
      "Epoch: 0205 train_loss= 0.02962 train_rmse= 0.00763 val_loss= 0.00205 val_rmse= 0.00175 time= 0.00388\n",
      "Epoch: 0206 train_loss= 0.01890 train_rmse= 0.00606 val_loss= 0.00174 val_rmse= 0.00156 time= 0.00469\n",
      "Epoch: 0207 train_loss= 0.02209 train_rmse= 0.00657 val_loss= 0.00117 val_rmse= 0.00113 time= 0.00415\n",
      "Epoch: 0208 train_loss= 0.01897 train_rmse= 0.00607 val_loss= 0.00073 val_rmse= 0.00065 time= 0.00460\n",
      "Epoch: 0209 train_loss= 0.01959 train_rmse= 0.00617 val_loss= 0.00059 val_rmse= 0.00036 time= 0.00436\n",
      "Epoch: 0210 train_loss= 0.02191 train_rmse= 0.00654 val_loss= 0.00061 val_rmse= 0.00041 time= 0.00491\n",
      "Epoch: 0211 train_loss= 0.01961 train_rmse= 0.00618 val_loss= 0.00062 val_rmse= 0.00043 time= 0.00517\n",
      "Epoch: 0212 train_loss= 0.01707 train_rmse= 0.00575 val_loss= 0.00061 val_rmse= 0.00041 time= 0.00706\n",
      "Epoch: 0213 train_loss= 0.01694 train_rmse= 0.00573 val_loss= 0.00059 val_rmse= 0.00036 time= 0.00402\n",
      "Epoch: 0214 train_loss= 0.02073 train_rmse= 0.00636 val_loss= 0.00062 val_rmse= 0.00044 time= 0.00379\n",
      "Epoch: 0215 train_loss= 0.03529 train_rmse= 0.00834 val_loss= 0.00065 val_rmse= 0.00051 time= 0.00570\n",
      "Epoch: 0216 train_loss= 0.02683 train_rmse= 0.00725 val_loss= 0.00063 val_rmse= 0.00046 time= 0.00393\n",
      "Epoch: 0217 train_loss= 0.01693 train_rmse= 0.00573 val_loss= 0.00062 val_rmse= 0.00044 time= 0.00366\n",
      "Epoch: 0218 train_loss= 0.03725 train_rmse= 0.00857 val_loss= 0.00059 val_rmse= 0.00036 time= 0.00546\n",
      "Epoch: 0219 train_loss= 0.01812 train_rmse= 0.00593 val_loss= 0.00061 val_rmse= 0.00041 time= 0.00392\n",
      "Epoch: 0220 train_loss= 0.02102 train_rmse= 0.00640 val_loss= 0.00059 val_rmse= 0.00036 time= 0.00396\n",
      "Epoch: 0221 train_loss= 0.02565 train_rmse= 0.00709 val_loss= 0.00072 val_rmse= 0.00063 time= 0.00541\n",
      "Epoch: 0222 train_loss= 0.01398 train_rmse= 0.00519 val_loss= 0.00108 val_rmse= 0.00106 time= 0.00591\n",
      "Epoch: 0223 train_loss= 0.01337 train_rmse= 0.00507 val_loss= 0.00149 val_rmse= 0.00139 time= 0.00643\n",
      "Epoch: 0224 train_loss= 0.01785 train_rmse= 0.00589 val_loss= 0.00163 val_rmse= 0.00149 time= 0.00397\n",
      "Epoch: 0225 train_loss= 0.01404 train_rmse= 0.00520 val_loss= 0.00181 val_rmse= 0.00161 time= 0.00456\n",
      "Epoch: 0226 train_loss= 0.01596 train_rmse= 0.00556 val_loss= 0.00174 val_rmse= 0.00156 time= 0.00407\n",
      "Epoch: 0227 train_loss= 0.01609 train_rmse= 0.00558 val_loss= 0.00164 val_rmse= 0.00149 time= 0.00409\n",
      "Epoch: 0228 train_loss= 0.01723 train_rmse= 0.00578 val_loss= 0.00127 val_rmse= 0.00122 time= 0.00388\n",
      "Epoch: 0229 train_loss= 0.01618 train_rmse= 0.00560 val_loss= 0.00090 val_rmse= 0.00087 time= 0.00368\n",
      "Epoch: 0230 train_loss= 0.02145 train_rmse= 0.00647 val_loss= 0.00062 val_rmse= 0.00045 time= 0.00367\n",
      "Epoch: 0231 train_loss= 0.01544 train_rmse= 0.00546 val_loss= 0.00059 val_rmse= 0.00038 time= 0.00329\n",
      "Epoch: 0232 train_loss= 0.01833 train_rmse= 0.00597 val_loss= 0.00065 val_rmse= 0.00050 time= 0.00720\n",
      "Epoch: 0233 train_loss= 0.01398 train_rmse= 0.00519 val_loss= 0.00071 val_rmse= 0.00061 time= 0.00565\n",
      "Epoch: 0234 train_loss= 0.01493 train_rmse= 0.00537 val_loss= 0.00064 val_rmse= 0.00050 time= 0.00437\n",
      "Epoch: 0235 train_loss= 0.02681 train_rmse= 0.00725 val_loss= 0.00060 val_rmse= 0.00040 time= 0.00390\n",
      "Epoch: 0236 train_loss= 0.01734 train_rmse= 0.00580 val_loss= 0.00073 val_rmse= 0.00066 time= 0.00361\n",
      "Epoch: 0237 train_loss= 0.01453 train_rmse= 0.00529 val_loss= 0.00102 val_rmse= 0.00100 time= 0.00346\n",
      "Epoch: 0238 train_loss= 0.01950 train_rmse= 0.00616 val_loss= 0.00152 val_rmse= 0.00141 time= 0.00359\n",
      "Epoch: 0239 train_loss= 0.01538 train_rmse= 0.00545 val_loss= 0.00194 val_rmse= 0.00169 time= 0.00330\n",
      "Epoch: 0240 train_loss= 0.01559 train_rmse= 0.00549 val_loss= 0.00197 val_rmse= 0.00170 time= 0.00462\n",
      "Early stopping...\n",
      "Optimization Finished!\n"
     ]
    }
   ],
   "source": [
    "# Initialize weights\n",
    "sess.run(tf.global_variables_initializer())\n",
    "\n",
    "train_loss = []\n",
    "validation_loss = []\n",
    "train_rmse = []\n",
    "validation_rmse = []\n",
    "\n",
    "\n",
    "# Train model\n",
    "for epoch in range(FLAGS.epochs):\n",
    "\n",
    "    t = time.time()\n",
    "    # Construct feed dictionary\n",
    "    feed_dict = construct_feed_dict(features, support, y_train, train_mask, placeholders)\n",
    "    feed_dict.update({placeholders['dropout']: FLAGS.dropout})\n",
    "\n",
    "    # Training step\n",
    "    outs = sess.run([model.opt_op, model.loss, model.accuracy], feed_dict=feed_dict)\n",
    "    \n",
    "    # Validation\n",
    "    cost, acc, duration = evaluate(features, support, y_val, val_mask, placeholders)\n",
    "    validation_loss.append(cost)\n",
    "    validation_rmse.append(acc)\n",
    "    train_loss.append(outs[1])\n",
    "    train_rmse.append(outs[2])\n",
    "\n",
    "    # Print results\n",
    "    print(\"Epoch:\", '%04d' % (epoch + 1), \"train_loss=\", \"{:.5f}\".format(outs[1]),\n",
    "          \"train_rmse=\", \"{:.5f}\".format(outs[2]), \"val_loss=\", \"{:.5f}\".format(cost),\n",
    "          \"val_rmse=\", \"{:.5f}\".format(acc), \"time=\", \"{:.5f}\".format(time.time() - t))\n",
    "\n",
    "    if epoch > FLAGS.early_stopping and validation_loss[-1] > np.mean(validation_loss[-(FLAGS.early_stopping+1):-1]):\n",
    "        print(\"Early stopping...\")\n",
    "        break\n",
    "\n",
    "print(\"Optimization Finished!\")"
   ]
  },
  {
   "cell_type": "code",
   "execution_count": 17,
   "metadata": {},
   "outputs": [
    {
     "data": {
      "image/png": "[encoded data removed]",
      "text/plain": [
       "<matplotlib.figure.Figure at 0x11a1b94e0>"
      ]
     },
     "metadata": {},
     "output_type": "display_data"
    }
   ],
   "source": [
    "import matplotlib.pyplot as plt\n",
    "fig, ax = plt.subplots(figsize = (10, 8))\n",
    "plt.plot(train_loss,label = 'train_loss')\n",
    "plt.plot(validation_loss,label='validaton_loss')\n",
    "plt.ylim(0, 50)\n",
    "plt.legend(prop={'size': 12})\n",
    "plt.grid(color = 'lightgray', linestyle = '--')\n",
    "plt.title('Training Loss vs. Step')\n",
    "# plt.savefig(\"3loss.png\") \n",
    "plt.show()"
   ]
  },
  {
   "cell_type": "markdown",
   "metadata": {},
   "source": [
    "**1.png** Stop at Epoch 163.\n",
    "- Model: Small World Model (p = 0.05)\n",
    "- Learning Rate = 0.01\n",
    "- Drop-out Rate = 0.1\n",
    "- Cost function: masked_mean_square_error\n",
    "- Evaluation function: masked_accuracy (其实是RMSE)\n",
    "- Adjacency matrix: A\n",
    "- Weight decay: Yes\n",
    "\n",
    "\n",
    "\n",
    "**2.png** Stop at Epoch 222.\n",
    "- Model: Small World Model (p = 0.05)\n",
    "- Learning Rate = 0.05\n",
    "- Drop-out Rate = 0.1\n",
    "- Cost function: masked_mean_square_error\n",
    "- Evaluation function: masked_accuracy (其实是RMSE)\n",
    "- Adjacency matrix: A\n",
    "- Weight decay: Yes\n",
    "\n",
    "\n",
    "**3.png** Stop at Epoch 240. If drop-out rate = 0.5, won't early stop.\n",
    "- Model: Small World Model (p = 0.05)\n",
    "- Learning Rate = 0.1\n",
    "- Drop-out Rate = 0.1\n",
    "- Cost function: masked_mean_square_error\n",
    "- Evaluation function: masked_accuracy (其实是RMSE)\n",
    "- Adjacency matrix: A\n",
    "- Weight decay: Yes\n",
    "\n",
    "**4.png** Stop at Epoch 129.\n",
    "- Model: Small World Model (p = 0.05)\n",
    "- Learning Rate = 0.01\n",
    "- Drop-out Rate = 0.1\n",
    "- Cost function: masked_mean_square_error\n",
    "- Evaluation function: masked_accuracy (其实是RMSE)\n",
    "- Adjacency matrix: A\n",
    "- Weight decay: Yes\n",
    "\n",
    "\n",
    "**5.png** Stop at Epoch 148.\n",
    "- Model: Small World Model (p = 0.05)\n",
    "- Learning Rate = 0.01\n",
    "- Drop-out Rate = 0.3\n",
    "- Cost function: masked_mean_square_error\n",
    "- Evaluation function: masked_accuracy (其实是RMSE)\n",
    "- Adjacency matrix: A\n",
    "- Weight decay: Yes\n",
    "\n",
    "**6.png** Stop at Epoch 185.\n",
    "- Model: Small World Model (p = 0.05)\n",
    "- Learning Rate = 0.01\n",
    "- Drop-out Rate = 0.5\n",
    "- Cost function: masked_mean_square_error\n",
    "- Evaluation function: masked_accuracy (其实是RMSE)\n",
    "- Adjacency matrix: A\n",
    "- Weight decay: Yes\n",
    "\n"
   ]
  },
  {
   "cell_type": "markdown",
   "metadata": {},
   "source": [
    "- 若learning rate = 0.01, train_loss一开始很大，在epoch = 100左右急剧减小\n",
    "- 若learning rate = 0.05, train_loss一开始很大，在epoch = 20左右急剧减小"
   ]
  },
  {
   "cell_type": "code",
   "execution_count": 21,
   "metadata": {},
   "outputs": [
    {
     "data": {
      "image/png": "[encoded data removed]",
      "text/plain": [
       "<matplotlib.figure.Figure at 0x11ad14470>"
      ]
     },
     "metadata": {},
     "output_type": "display_data"
    }
   ],
   "source": [
    "fig, ax = plt.subplots(figsize = (10, 8))\n",
    "plt.plot(train_rmse,label = 'train_rmse')\n",
    "plt.plot(validation_rmse,label='validaton_rmse')\n",
    "plt.ylim(0, 0.5)\n",
    "plt.legend(prop={'size': 12})\n",
    "plt.grid(color = 'lightgray', linestyle = '--')\n",
    "plt.title('Root Mean Square Error vs. Step')\n",
    "#plt.savefig(\"3rmse.png\") # 保存图片放在slides上\n",
    "plt.show()"
   ]
  },
  {
   "cell_type": "markdown",
   "metadata": {},
   "source": [
    "Presentation时可以做的几个比较 （保持其余参数尽可能结果最好）：\n",
    "\n",
    "1. 不同的learning_rate (Yiming)\n",
    "2. 不同的drop_out rate (Yiming)\n",
    "3. 不同的Loss function (Yiming/ Yiqin)\n",
    "4. 有无weight_decay (Yiqin)\n",
    "5. 不同的adjacency matrix, A, A^2等等 (Yiqin)\n",
    "\n",
    "这些是train on small graphs, test on large graph?? (stanford data)\n",
    "\n",
    "Side note for Yiqin:\n",
    "现在的evaluate我是用的root mean square error，可以参见上面的注释，可能还可以试一下别的evaluation function for continuous response.\n",
    "\n",
    "我觉得presentation是图片越多越好，别人可能对定理没什么兴趣= =\n",
    "\n",
    "谢谢你啦！！\n",
    "\n",
    "\n",
    "*还需要test data"
   ]
  },
  {
   "cell_type": "code",
   "execution_count": null,
   "metadata": {
    "collapsed": true
   },
   "outputs": [],
   "source": []
  }
 ],
 "metadata": {
  "kernelspec": {
   "display_name": "Python 3",
   "language": "python",
   "name": "python3"
  },
  "language_info": {
   "codemirror_mode": {
    "name": "ipython",
    "version": 3
   },
   "file_extension": ".py",
   "mimetype": "text/x-python",
   "name": "python",
   "nbconvert_exporter": "python",
   "pygments_lexer": "ipython3",
   "version": "3.6.2"
  },
  "toc": {
   "nav_menu": {},
   "number_sections": true,
   "sideBar": false,
   "skip_h1_title": false,
   "toc_cell": true,
   "toc_position": {},
   "toc_section_display": "block",
   "toc_window_display": false
  }
 },
 "nbformat": 4,
 "nbformat_minor": 2
}
