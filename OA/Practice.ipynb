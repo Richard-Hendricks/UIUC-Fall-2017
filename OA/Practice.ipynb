{
 "cells": [
  {
   "cell_type": "markdown",
   "metadata": {},
   "source": [
    "### Monte Carlo Simulation in Python\n",
    "#### Assume that a dice have 9 sides each. Estimate the probability that when you roll 5 dice at least 3 will have the same value.\n",
    "\n",
    "- **`randint(a, b)`**：产生1个范围在(a, b)内的整数\n",
    "- **`random`**: 产生[0.0, 1.0)之间的一个数\n",
    "- 下划线表示 storing the value of last expression in interpreter"
   ]
  },
  {
   "cell_type": "code",
   "execution_count": 19,
   "metadata": {
    "collapsed": false
   },
   "outputs": [
    {
     "name": "stdout",
     "output_type": "stream",
     "text": [
      "0.1033\n"
     ]
    }
   ],
   "source": [
    "from collections import Counter\n",
    "from random import randint\n",
    "\n",
    "# generate 5(ndice)个 random numbers in (1, 9)\n",
    "def roll(ndice, nsides = 9):\n",
    "    return [randint(1, nsides) for _ in range(ndice)]\n",
    "\n",
    "# return 在一次试验中，是否至少3个有相同的值\n",
    "def count_it():\n",
    "    c = Counter(roll(5))\n",
    "    return c.most_common(1)[0][1] >= 3 \n",
    "\n",
    "ntries = 100000\n",
    "print (float(sum(1 for _ in range(ntries) if count_it()))/ float(ntries))"
   ]
  },
  {
   "cell_type": "markdown",
   "metadata": {
    "collapsed": true
   },
   "source": [
    "#### Return a guess as to the fairness of the coin (it's 0.5 if it's fair)"
   ]
  },
  {
   "cell_type": "code",
   "execution_count": 29,
   "metadata": {
    "collapsed": true
   },
   "outputs": [],
   "source": [
    "import random\n",
    "\n",
    "def getCoinProb(headsProb, n):\n",
    "    n_heads = 0.0\n",
    "    for flip in range(n):\n",
    "        currentFlip = random.random() # random number in (0, 1)\n",
    "        if currentFlip <= headsProb:\n",
    "            n_heads += 1\n",
    "    \n",
    "    return float(n_heads/ n)"
   ]
  },
  {
   "cell_type": "code",
   "execution_count": 30,
   "metadata": {
    "collapsed": false
   },
   "outputs": [
    {
     "data": {
      "text/plain": [
       "0.499865"
      ]
     },
     "execution_count": 30,
     "metadata": {},
     "output_type": "execute_result"
    }
   ],
   "source": [
    "getCoinProb(0.5, 1000000)"
   ]
  },
  {
   "cell_type": "markdown",
   "metadata": {},
   "source": [
    "#### Write a function that uses Monte Carlo to simulate the probability of getting a pair of 6's within 24 rolls of a pair of dice.\n",
    "The probability of rolling a pair of 6's with just one roll is $\\frac{1}{36}$. Therefore,\n",
    "\n",
    "$$1-(\\frac{35}{36})^2 = 0.49$$."
   ]
  },
  {
   "cell_type": "code",
   "execution_count": 45,
   "metadata": {
    "collapsed": true
   },
   "outputs": [],
   "source": [
    "import random\n",
    "\n",
    "def Monteprob(n_trials):\n",
    "    n_count = 0.0\n",
    "    for i in range(n_trials):\n",
    "        for j in range(24):\n",
    "            d1 = random.choice([1, 2, 3, 4, 5, 6])\n",
    "            d2 = random.choice([1, 2, 3, 4, 5, 6])\n",
    "            if d1 == 6 and d2 == 6:\n",
    "                n_count += 1\n",
    "                break\n",
    "    print(n_count / n_trials)"
   ]
  },
  {
   "cell_type": "code",
   "execution_count": 46,
   "metadata": {
    "collapsed": false
   },
   "outputs": [
    {
     "name": "stdout",
     "output_type": "stream",
     "text": [
      "0.490925\n"
     ]
    }
   ],
   "source": [
    "Monteprob(1000000)"
   ]
  },
  {
   "cell_type": "markdown",
   "metadata": {},
   "source": [
    "#### Estimating $\\pi$"
   ]
  },
  {
   "cell_type": "code",
   "execution_count": 49,
   "metadata": {
    "collapsed": false
   },
   "outputs": [
    {
     "name": "stdout",
     "output_type": "stream",
     "text": [
      "3.14387143871\n"
     ]
    }
   ],
   "source": [
    "from random import random\n",
    "from math import pow, sqrt\n",
    "\n",
    "trial = 100000\n",
    "hits = 0\n",
    "throws = 0\n",
    "for i in range(1, trial):\n",
    "    throws += 1\n",
    "    x = random() # (0, 1)内随机数\n",
    "    y = random()\n",
    "    dist = sqrt(pow(x, 2) + pow(y, 2))\n",
    "    if dist <= 1.0:\n",
    "        hits += 1.0\n",
    "\n",
    "print(4 * (hits/ throws))"
   ]
  },
  {
   "cell_type": "markdown",
   "metadata": {
    "collapsed": true
   },
   "source": [
    "#### Write a function to calculate all possible assignment vectors of 2n users, where n users are assigned to group 0 (control), and n users are assigned to group 1 (treatment)."
   ]
  },
  {
   "cell_type": "code",
   "execution_count": 1,
   "metadata": {
    "collapsed": true
   },
   "outputs": [],
   "source": [
    "from itertools import combinations\n",
    "def choices(n):\n",
    "    return list(combinations(range(2 * n), n))"
   ]
  },
  {
   "cell_type": "code",
   "execution_count": 5,
   "metadata": {
    "collapsed": false
   },
   "outputs": [
    {
     "data": {
      "text/plain": [
       "[(0, 1), (0, 2), (0, 3), (1, 2), (1, 3), (2, 3)]"
      ]
     },
     "execution_count": 5,
     "metadata": {},
     "output_type": "execute_result"
    }
   ],
   "source": [
    "choices(2)"
   ]
  },
  {
   "cell_type": "code",
   "execution_count": null,
   "metadata": {
    "collapsed": true
   },
   "outputs": [],
   "source": []
  }
 ],
 "metadata": {
  "kernelspec": {
   "display_name": "Python 2",
   "language": "python",
   "name": "python2"
  },
  "language_info": {
   "codemirror_mode": {
    "name": "ipython",
    "version": 2
   },
   "file_extension": ".py",
   "mimetype": "text/x-python",
   "name": "python",
   "nbconvert_exporter": "python",
   "pygments_lexer": "ipython2",
   "version": "2.7.13"
  }
 },
 "nbformat": 4,
 "nbformat_minor": 2
}
