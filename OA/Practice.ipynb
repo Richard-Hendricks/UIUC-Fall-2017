{
 "cells": [
  {
   "cell_type": "markdown",
   "metadata": {},
   "source": [
    "### Monte Carlo Simulation in Python\n",
    "Assume that a dice have 9 sides each. Estimate the probability that when you roll 5 dice at least 3 will have the same value.\n",
    "\n",
    "- **`randint(a, b)`**：产生1个范围在(a, b)内的整数\n",
    "- 下划线表示 storing the value of last expression in interpreter"
   ]
  },
  {
   "cell_type": "code",
   "execution_count": 19,
   "metadata": {
    "collapsed": false
   },
   "outputs": [
    {
     "name": "stdout",
     "output_type": "stream",
     "text": [
      "0.1033\n"
     ]
    }
   ],
   "source": [
    "from collections import Counter\n",
    "from random import randint\n",
    "\n",
    "# generate 5(ndice)个 random numbers in (1, 9)\n",
    "def roll(ndice, nsides = 9):\n",
    "    return [randint(1, nsides) for _ in range(ndice)]\n",
    "\n",
    "# return 在一次试验中，是否至少3个有相同的值\n",
    "def count_it():\n",
    "    c = Counter(roll(5))\n",
    "    return c.most_common(1)[0][1] >= 3 \n",
    "\n",
    "ntries = 100000\n",
    "print (float(sum(1 for _ in range(ntries) if count_it()))/ float(ntries))"
   ]
  },
  {
   "cell_type": "code",
   "execution_count": null,
   "metadata": {
    "collapsed": true
   },
   "outputs": [],
   "source": []
  }
 ],
 "metadata": {
  "kernelspec": {
   "display_name": "Python 2",
   "language": "python",
   "name": "python2"
  },
  "language_info": {
   "codemirror_mode": {
    "name": "ipython",
    "version": 2
   },
   "file_extension": ".py",
   "mimetype": "text/x-python",
   "name": "python",
   "nbconvert_exporter": "python",
   "pygments_lexer": "ipython2",
   "version": "2.7.13"
  }
 },
 "nbformat": 4,
 "nbformat_minor": 2
}
